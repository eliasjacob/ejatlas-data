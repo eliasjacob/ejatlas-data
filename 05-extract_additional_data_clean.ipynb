{
 "cells": [
  {
   "cell_type": "markdown",
   "id": "fad12922",
   "metadata": {},
   "source": [
    "# Extract Additional Data from EJAtlas YAML Files\n",
    "\n",
    "As per Monalisa's request, this notebook extracts the following information from EJAtlas YAML files:\n",
    "\n",
    "**From \"Conflicts and Mobilization\" section:**\n",
    "- Conflict intensity\n",
    "- Reaction stage\n",
    "\n",
    "**From \"Project details and actors\" section:**\n",
    "- Relevant government actors\n",
    "- Company names or state enterprises (with expanded country information)"
   ]
  },
  {
   "cell_type": "code",
   "execution_count": 9,
   "id": "488cf62c",
   "metadata": {},
   "outputs": [],
   "source": [
    "# Import required libraries\n",
    "import pandas as pd\n",
    "import yaml\n",
    "from glob import glob\n",
    "from pathlib import Path"
   ]
  },
  {
   "cell_type": "code",
   "execution_count": 10,
   "id": "71ae8647",
   "metadata": {},
   "outputs": [
    {
     "name": "stdout",
     "output_type": "stream",
     "text": [
      "Found 3838 YAML files to process\n"
     ]
    }
   ],
   "source": [
    "# Get all YAML files\n",
    "yaml_files = glob(\"../yaml/*.yaml\")\n",
    "print(f\"Found {len(yaml_files)} YAML files to process\")"
   ]
  },
  {
   "cell_type": "code",
   "execution_count": 11,
   "id": "1610e8f8",
   "metadata": {},
   "outputs": [],
   "source": [
    "def process_yamls(filepath):\n",
    "    \"\"\"\n",
    "    Process a single YAML file and extract the required information.\n",
    "    Handles None values and missing data gracefully.\n",
    "    \n",
    "    Returns:\n",
    "        tuple: (df_conflict_intensity, df_reaction_stage, df_relevant_government, df_company_names)\n",
    "    \"\"\"\n",
    "    d = yaml.load(open(filepath), Loader=yaml.FullLoader)\n",
    "    slug = d['presentation']['slug']\n",
    "    conflict_intensity = d['mobilization']['intensity']\n",
    "    reaction_stage = d['mobilization']['reaction_stage']\n",
    "    relevant_government = d['details_and_actors']['govt_actors']\n",
    "    company_names = d['details_and_actors']['companies']\n",
    "\n",
    "    # Handle conflict_intensity - could be None or dict\n",
    "    if conflict_intensity:\n",
    "        df_conflict_intensity = pd.DataFrame.from_dict(conflict_intensity, orient='index').T\n",
    "        df_conflict_intensity['slug'] = slug\n",
    "    else:\n",
    "        df_conflict_intensity = pd.DataFrame({'slug': [slug]})\n",
    "\n",
    "    # Handle reaction_stage - could be None or dict\n",
    "    if reaction_stage:\n",
    "        df_reaction_stage = pd.DataFrame.from_dict(reaction_stage, orient='index').T\n",
    "        df_reaction_stage['slug'] = slug\n",
    "    else:\n",
    "        df_reaction_stage = pd.DataFrame({'slug': [slug]})\n",
    "\n",
    "    # Handle relevant_government - create dataframe\n",
    "    df_relevant_government = pd.DataFrame({\n",
    "        'slug': [slug],\n",
    "        'relevant_government': [relevant_government]\n",
    "    })\n",
    "    \n",
    "    # Handle company_names - could be None, empty list, or list of dicts\n",
    "    if company_names:  # If there are companies\n",
    "        df_company_names = pd.DataFrame(company_names)\n",
    "        df_company_names['slug'] = slug\n",
    "\n",
    "        # Check if 'country' column exists and has data\n",
    "        if 'country' in df_company_names.columns and not df_company_names['country'].isna().all():\n",
    "            # Expand the country column (which contains dicts) into separate columns\n",
    "            country_expanded = pd.json_normalize(df_company_names['country'])\n",
    "            country_expanded.columns = ['country_' + col for col in country_expanded.columns]\n",
    "\n",
    "            # Replace the original country column with the expanded columns\n",
    "            df_company_names_expanded = pd.concat([\n",
    "                df_company_names.drop('country', axis=1), \n",
    "                country_expanded\n",
    "            ], axis=1)\n",
    "        else:\n",
    "            # If no country column or all country values are NaN, just return the original dataframe\n",
    "            df_company_names_expanded = df_company_names\n",
    "    else:\n",
    "        # If no companies, create an empty dataframe with just the slug\n",
    "        df_company_names_expanded = pd.DataFrame({'slug': [slug]})\n",
    "\n",
    "    return df_conflict_intensity, df_reaction_stage, df_relevant_government, df_company_names_expanded"
   ]
  },
  {
   "cell_type": "code",
   "execution_count": 12,
   "id": "b45640c2",
   "metadata": {},
   "outputs": [
    {
     "name": "stdout",
     "output_type": "stream",
     "text": [
      "Processing 3838 YAML files...\n",
      "Processing file 1/3838\n",
      "Processing file 101/3838\n",
      "Processing file 201/3838\n",
      "Processing file 301/3838\n",
      "Processing file 401/3838\n",
      "Processing file 501/3838\n",
      "Processing file 601/3838\n",
      "Processing file 701/3838\n",
      "Processing file 801/3838\n",
      "Processing file 901/3838\n",
      "Processing file 1001/3838\n",
      "Processing file 1101/3838\n",
      "Processing file 1201/3838\n",
      "Processing file 1301/3838\n",
      "Processing file 1401/3838\n",
      "Processing file 1501/3838\n",
      "Processing file 1601/3838\n",
      "Processing file 1701/3838\n",
      "Processing file 1801/3838\n",
      "Processing file 1901/3838\n",
      "Processing file 2001/3838\n",
      "Processing file 2101/3838\n",
      "Processing file 2201/3838\n",
      "Processing file 2301/3838\n",
      "Processing file 2401/3838\n",
      "Processing file 2501/3838\n",
      "Processing file 2601/3838\n",
      "Processing file 2701/3838\n",
      "Processing file 2801/3838\n",
      "Processing file 2901/3838\n",
      "Processing file 3001/3838\n",
      "Processing file 3101/3838\n",
      "Processing file 3201/3838\n",
      "Processing file 3301/3838\n",
      "Processing file 3401/3838\n",
      "Processing file 3501/3838\n",
      "Processing file 3601/3838\n",
      "Processing file 3701/3838\n",
      "Processing file 3801/3838\n",
      "\n",
      "Processing complete!\n",
      "Successfully processed: 3838 files\n",
      "Failed to process: 0 files\n"
     ]
    }
   ],
   "source": [
    "# Process all YAML files\n",
    "print(f\"Processing {len(yaml_files)} YAML files...\")\n",
    "\n",
    "df_conflict_intensity_list = []\n",
    "df_reaction_stage_list = []\n",
    "df_relevant_government_list = []\n",
    "df_company_names_list = []\n",
    "\n",
    "successful_files = 0\n",
    "failed_files = 0\n",
    "\n",
    "for i, f in enumerate(yaml_files):\n",
    "    if i % 100 == 0:\n",
    "        print(f\"Processing file {i+1}/{len(yaml_files)}\")\n",
    "    \n",
    "    try:\n",
    "        df_conflict_intensity, df_reaction_stage, df_relevant_government, df_company_names = process_yamls(f)\n",
    "        df_conflict_intensity_list.append(df_conflict_intensity)\n",
    "        df_reaction_stage_list.append(df_reaction_stage)\n",
    "        df_relevant_government_list.append(df_relevant_government)\n",
    "        df_company_names_list.append(df_company_names)\n",
    "        successful_files += 1\n",
    "    except Exception as e:\n",
    "        print(f\"✗ Error processing {f}: {e}\")\n",
    "        failed_files += 1\n",
    "\n",
    "print(f\"\\nProcessing complete!\")\n",
    "print(f\"Successfully processed: {successful_files} files\")\n",
    "print(f\"Failed to process: {failed_files} files\")"
   ]
  },
  {
   "cell_type": "code",
   "execution_count": 13,
   "id": "d2b41a22",
   "metadata": {},
   "outputs": [
    {
     "name": "stdout",
     "output_type": "stream",
     "text": [
      "Final dataset shapes:\n",
      "Conflict intensity: (3838, 4)\n",
      "Reaction stage: (3838, 4)\n",
      "Relevant government: (3838, 2)\n",
      "Company names: (9557, 11)\n"
     ]
    }
   ],
   "source": [
    "# Combine all individual DataFrames into final datasets\n",
    "if df_conflict_intensity_list:\n",
    "    final_conflict_intensity = pd.concat(df_conflict_intensity_list, ignore_index=True)\n",
    "    final_reaction_stage = pd.concat(df_reaction_stage_list, ignore_index=True)\n",
    "    final_relevant_government = pd.concat(df_relevant_government_list, ignore_index=True)\n",
    "    final_company_names = pd.concat(df_company_names_list, ignore_index=True)\n",
    "\n",
    "    print(f\"Final dataset shapes:\")\n",
    "    print(f\"Conflict intensity: {final_conflict_intensity.shape}\")\n",
    "    print(f\"Reaction stage: {final_reaction_stage.shape}\")\n",
    "    print(f\"Relevant government: {final_relevant_government.shape}\")\n",
    "    print(f\"Company names: {final_company_names.shape}\")\n",
    "else:\n",
    "    print(\"No files were successfully processed!\")"
   ]
  },
  {
   "cell_type": "markdown",
   "id": "42c0ca21",
   "metadata": {},
   "source": [
    "## Preview the Results"
   ]
  },
  {
   "cell_type": "code",
   "execution_count": 14,
   "id": "5c408b51",
   "metadata": {},
   "outputs": [
    {
     "name": "stdout",
     "output_type": "stream",
     "text": [
      "Conflict Intensity Data:\n",
      "\n",
      "Columns: ['color', 'id', 'name', 'slug']\n"
     ]
    },
    {
     "data": {
      "application/vnd.microsoft.datawrangler.viewer.v0+json": {
       "columns": [
        {
         "name": "index",
         "rawType": "int64",
         "type": "integer"
        },
        {
         "name": "color",
         "rawType": "object",
         "type": "string"
        },
        {
         "name": "id",
         "rawType": "object",
         "type": "unknown"
        },
        {
         "name": "name",
         "rawType": "object",
         "type": "string"
        },
        {
         "name": "slug",
         "rawType": "object",
         "type": "string"
        }
       ],
       "ref": "af61fd42-d906-4f82-ba22-18d2fcb242d7",
       "rows": [
        [
         "0",
         "#ff7f50",
         "4",
         "MEDIUM (street protests, visible mobilization)",
         "calcatreu-rio-negro-argentina"
        ],
        [
         "1",
         "#049cdb",
         "2",
         "LATENT (no visible organising at the moment)",
         "water-contamination-by-rahim-yar-khan-sugar-mill"
        ],
        [
         "2",
         "#ff7f50",
         "4",
         "MEDIUM (street protests, visible mobilization)",
         "oak-flat-usa"
        ],
        [
         "3",
         "#ff7f50",
         "4",
         "MEDIUM (street protests, visible mobilization)",
         "new-airport-on-tioman-island"
        ],
        [
         "4",
         "#ff7f50",
         "4",
         "MEDIUM (street protests, visible mobilization)",
         "moroccan-business-grabs-10000ha-for-intensive-rice-agriculture-senegal"
        ]
       ],
       "shape": {
        "columns": 4,
        "rows": 5
       }
      },
      "text/html": [
       "<div>\n",
       "<style scoped>\n",
       "    .dataframe tbody tr th:only-of-type {\n",
       "        vertical-align: middle;\n",
       "    }\n",
       "\n",
       "    .dataframe tbody tr th {\n",
       "        vertical-align: top;\n",
       "    }\n",
       "\n",
       "    .dataframe thead th {\n",
       "        text-align: right;\n",
       "    }\n",
       "</style>\n",
       "<table border=\"1\" class=\"dataframe\">\n",
       "  <thead>\n",
       "    <tr style=\"text-align: right;\">\n",
       "      <th></th>\n",
       "      <th>color</th>\n",
       "      <th>id</th>\n",
       "      <th>name</th>\n",
       "      <th>slug</th>\n",
       "    </tr>\n",
       "  </thead>\n",
       "  <tbody>\n",
       "    <tr>\n",
       "      <th>0</th>\n",
       "      <td>#ff7f50</td>\n",
       "      <td>4</td>\n",
       "      <td>MEDIUM (street protests, visible mobilization)</td>\n",
       "      <td>calcatreu-rio-negro-argentina</td>\n",
       "    </tr>\n",
       "    <tr>\n",
       "      <th>1</th>\n",
       "      <td>#049cdb</td>\n",
       "      <td>2</td>\n",
       "      <td>LATENT (no visible organising at the moment)</td>\n",
       "      <td>water-contamination-by-rahim-yar-khan-sugar-mill</td>\n",
       "    </tr>\n",
       "    <tr>\n",
       "      <th>2</th>\n",
       "      <td>#ff7f50</td>\n",
       "      <td>4</td>\n",
       "      <td>MEDIUM (street protests, visible mobilization)</td>\n",
       "      <td>oak-flat-usa</td>\n",
       "    </tr>\n",
       "    <tr>\n",
       "      <th>3</th>\n",
       "      <td>#ff7f50</td>\n",
       "      <td>4</td>\n",
       "      <td>MEDIUM (street protests, visible mobilization)</td>\n",
       "      <td>new-airport-on-tioman-island</td>\n",
       "    </tr>\n",
       "    <tr>\n",
       "      <th>4</th>\n",
       "      <td>#ff7f50</td>\n",
       "      <td>4</td>\n",
       "      <td>MEDIUM (street protests, visible mobilization)</td>\n",
       "      <td>moroccan-business-grabs-10000ha-for-intensive-...</td>\n",
       "    </tr>\n",
       "  </tbody>\n",
       "</table>\n",
       "</div>"
      ],
      "text/plain": [
       "     color id                                            name  \\\n",
       "0  #ff7f50  4  MEDIUM (street protests, visible mobilization)   \n",
       "1  #049cdb  2    LATENT (no visible organising at the moment)   \n",
       "2  #ff7f50  4  MEDIUM (street protests, visible mobilization)   \n",
       "3  #ff7f50  4  MEDIUM (street protests, visible mobilization)   \n",
       "4  #ff7f50  4  MEDIUM (street protests, visible mobilization)   \n",
       "\n",
       "                                                slug  \n",
       "0                      calcatreu-rio-negro-argentina  \n",
       "1   water-contamination-by-rahim-yar-khan-sugar-mill  \n",
       "2                                       oak-flat-usa  \n",
       "3                       new-airport-on-tioman-island  \n",
       "4  moroccan-business-grabs-10000ha-for-intensive-...  "
      ]
     },
     "execution_count": 14,
     "metadata": {},
     "output_type": "execute_result"
    }
   ],
   "source": [
    "# Preview conflict intensity data\n",
    "print(\"Conflict Intensity Data:\")\n",
    "print(f\"\\nColumns: {list(final_conflict_intensity.columns)}\")\n",
    "final_conflict_intensity.head()"
   ]
  },
  {
   "cell_type": "code",
   "execution_count": 15,
   "id": "4d84d233",
   "metadata": {},
   "outputs": [
    {
     "name": "stdout",
     "output_type": "stream",
     "text": [
      "Reaction Stage Data:\n",
      "\n",
      "Columns: ['color', 'id', 'name', 'slug']\n"
     ]
    },
    {
     "data": {
      "application/vnd.microsoft.datawrangler.viewer.v0+json": {
       "columns": [
        {
         "name": "index",
         "rawType": "int64",
         "type": "integer"
        },
        {
         "name": "color",
         "rawType": "object",
         "type": "string"
        },
        {
         "name": "id",
         "rawType": "object",
         "type": "unknown"
        },
        {
         "name": "name",
         "rawType": "object",
         "type": "string"
        },
        {
         "name": "slug",
         "rawType": "object",
         "type": "string"
        }
       ],
       "ref": "26638869-b3d1-4212-9026-2082abff5e67",
       "rows": [
        [
         "0",
         "#46a546",
         "3",
         "PREVENTIVE resistance (precautionary phase)",
         "calcatreu-rio-negro-argentina"
        ],
        [
         "1",
         "#7a43b6",
         "5",
         "Mobilization for reparations once impacts have been felt",
         "water-contamination-by-rahim-yar-khan-sugar-mill"
        ],
        [
         "2",
         "#46a546",
         "3",
         "PREVENTIVE resistance (precautionary phase)",
         "oak-flat-usa"
        ],
        [
         "3",
         "#46a546",
         "3",
         "PREVENTIVE resistance (precautionary phase)",
         "new-airport-on-tioman-island"
        ],
        [
         "4",
         "#ee2c2c",
         "4",
         "In REACTION to the implementation (during construction or operation)",
         "moroccan-business-grabs-10000ha-for-intensive-rice-agriculture-senegal"
        ]
       ],
       "shape": {
        "columns": 4,
        "rows": 5
       }
      },
      "text/html": [
       "<div>\n",
       "<style scoped>\n",
       "    .dataframe tbody tr th:only-of-type {\n",
       "        vertical-align: middle;\n",
       "    }\n",
       "\n",
       "    .dataframe tbody tr th {\n",
       "        vertical-align: top;\n",
       "    }\n",
       "\n",
       "    .dataframe thead th {\n",
       "        text-align: right;\n",
       "    }\n",
       "</style>\n",
       "<table border=\"1\" class=\"dataframe\">\n",
       "  <thead>\n",
       "    <tr style=\"text-align: right;\">\n",
       "      <th></th>\n",
       "      <th>color</th>\n",
       "      <th>id</th>\n",
       "      <th>name</th>\n",
       "      <th>slug</th>\n",
       "    </tr>\n",
       "  </thead>\n",
       "  <tbody>\n",
       "    <tr>\n",
       "      <th>0</th>\n",
       "      <td>#46a546</td>\n",
       "      <td>3</td>\n",
       "      <td>PREVENTIVE resistance (precautionary phase)</td>\n",
       "      <td>calcatreu-rio-negro-argentina</td>\n",
       "    </tr>\n",
       "    <tr>\n",
       "      <th>1</th>\n",
       "      <td>#7a43b6</td>\n",
       "      <td>5</td>\n",
       "      <td>Mobilization for reparations once impacts have...</td>\n",
       "      <td>water-contamination-by-rahim-yar-khan-sugar-mill</td>\n",
       "    </tr>\n",
       "    <tr>\n",
       "      <th>2</th>\n",
       "      <td>#46a546</td>\n",
       "      <td>3</td>\n",
       "      <td>PREVENTIVE resistance (precautionary phase)</td>\n",
       "      <td>oak-flat-usa</td>\n",
       "    </tr>\n",
       "    <tr>\n",
       "      <th>3</th>\n",
       "      <td>#46a546</td>\n",
       "      <td>3</td>\n",
       "      <td>PREVENTIVE resistance (precautionary phase)</td>\n",
       "      <td>new-airport-on-tioman-island</td>\n",
       "    </tr>\n",
       "    <tr>\n",
       "      <th>4</th>\n",
       "      <td>#ee2c2c</td>\n",
       "      <td>4</td>\n",
       "      <td>In REACTION to the implementation (during cons...</td>\n",
       "      <td>moroccan-business-grabs-10000ha-for-intensive-...</td>\n",
       "    </tr>\n",
       "  </tbody>\n",
       "</table>\n",
       "</div>"
      ],
      "text/plain": [
       "     color id                                               name  \\\n",
       "0  #46a546  3        PREVENTIVE resistance (precautionary phase)   \n",
       "1  #7a43b6  5  Mobilization for reparations once impacts have...   \n",
       "2  #46a546  3        PREVENTIVE resistance (precautionary phase)   \n",
       "3  #46a546  3        PREVENTIVE resistance (precautionary phase)   \n",
       "4  #ee2c2c  4  In REACTION to the implementation (during cons...   \n",
       "\n",
       "                                                slug  \n",
       "0                      calcatreu-rio-negro-argentina  \n",
       "1   water-contamination-by-rahim-yar-khan-sugar-mill  \n",
       "2                                       oak-flat-usa  \n",
       "3                       new-airport-on-tioman-island  \n",
       "4  moroccan-business-grabs-10000ha-for-intensive-...  "
      ]
     },
     "execution_count": 15,
     "metadata": {},
     "output_type": "execute_result"
    }
   ],
   "source": [
    "# Preview reaction stage data\n",
    "print(\"Reaction Stage Data:\")\n",
    "print(f\"\\nColumns: {list(final_reaction_stage.columns)}\")\n",
    "final_reaction_stage.head()"
   ]
  },
  {
   "cell_type": "code",
   "execution_count": 16,
   "id": "efaa82de",
   "metadata": {},
   "outputs": [
    {
     "name": "stdout",
     "output_type": "stream",
     "text": [
      "Relevant Government Data:\n",
      "\n",
      "Columns: ['slug', 'relevant_government']\n"
     ]
    },
    {
     "data": {
      "application/vnd.microsoft.datawrangler.viewer.v0+json": {
       "columns": [
        {
         "name": "index",
         "rawType": "int64",
         "type": "integer"
        },
        {
         "name": "slug",
         "rawType": "object",
         "type": "string"
        },
        {
         "name": "relevant_government",
         "rawType": "object",
         "type": "string"
        }
       ],
       "ref": "c8b5e6b9-fd46-4d56-b038-07d4ddc74487",
       "rows": [
        [
         "0",
         "calcatreu-rio-negro-argentina",
         "Gobierno de Río Negro.\r\nIntendencia de Ingeniero Jacobacci\r\nDepartamento Provincial de Agua"
        ],
        [
         "1",
         "water-contamination-by-rahim-yar-khan-sugar-mill",
         ""
        ],
        [
         "2",
         "oak-flat-usa",
         "USDA Forest Service\r\nCooperating Agencies: Arizona Department of Environmental Quality, Arizona Department of Water Resources, Arizona Game and Fish Department, Arizona State Land Department, Arizona State\r\nMine Inspector, Bureau of Land Management, Pinal County Air Quality Control District, U.S. Army Corps of Engineers, U.S. Environmental Protection Agency"
        ],
        [
         "3",
         "new-airport-on-tioman-island",
         "Government of Malaysia\nPahang Darul Makmur\nDepartment of Environment\nDepartment of Marine Park\nDepartment of Irrigation and Drainage (DID)\nPLANMalaysia\nWater Regulatory Body (BKSA)\nState Secretary Office \nMalaysian Maritime Enforcement Agency"
        ],
        [
         "4",
         "moroccan-business-grabs-10000ha-for-intensive-rice-agriculture-senegal",
         "Agence de promotion des investissements (Apix), Ministère de l'Agriculture, Ministère de l'Interieur, Ministère de l’Environnement et du développement durable (Medd)"
        ],
        [
         "5",
         "jose-claudio-maria",
         "Courts of Justice\nICREA (land reform institute)"
        ],
        [
         "6",
         "pesticides-contaminate-drinkable-water-in-bretagne-france",
         "ANSES : French Agency for Food, Environmental and Occupational Health and Safety (Agence nationale de sécurité sanitaire de l’alimentation, de l’environnement et du travail)\r\nARS : Regional Health Agency (Agence régionale de la santé)"
        ],
        [
         "7",
         "hebron-a-city-flooded-with-sewage",
         "Hebron Governorate\nIsraeli Defense Forces"
        ],
        [
         "8",
         "copper-mining-on-the-asana-river-peru",
         "Instituto Nacional de Desarrollo (INADE), Instituto Nacional de Recursos Naturales (INRENA), Ministerio de Energía y Minas (MINEM), Regional Government of Moquegua"
        ],
        [
         "9",
         "jiaokou-feimei-aluminum-industry-co-ltd-lvliang-shanxi-china",
         "-Huilong Township Government\r\n-Jiaokou County Government\r\n-Jiaokou County Internet Information Office\r\n-Jiaokou County Party Committee\r\n-Jiaokou County Environmental Protection Bureau\r\n-Lvliang Municipal Government\r\n-Shanxi Provincial Government\r\n-The Ministry of Ecology and Environment\r\n-Shanxi Provincial Development and Reform Commission\r\n-National Development and Reform Commission"
        ]
       ],
       "shape": {
        "columns": 2,
        "rows": 10
       }
      },
      "text/html": [
       "<div>\n",
       "<style scoped>\n",
       "    .dataframe tbody tr th:only-of-type {\n",
       "        vertical-align: middle;\n",
       "    }\n",
       "\n",
       "    .dataframe tbody tr th {\n",
       "        vertical-align: top;\n",
       "    }\n",
       "\n",
       "    .dataframe thead th {\n",
       "        text-align: right;\n",
       "    }\n",
       "</style>\n",
       "<table border=\"1\" class=\"dataframe\">\n",
       "  <thead>\n",
       "    <tr style=\"text-align: right;\">\n",
       "      <th></th>\n",
       "      <th>slug</th>\n",
       "      <th>relevant_government</th>\n",
       "    </tr>\n",
       "  </thead>\n",
       "  <tbody>\n",
       "    <tr>\n",
       "      <th>0</th>\n",
       "      <td>calcatreu-rio-negro-argentina</td>\n",
       "      <td>Gobierno de Río Negro.\\r\\nIntendencia de Ingen...</td>\n",
       "    </tr>\n",
       "    <tr>\n",
       "      <th>1</th>\n",
       "      <td>water-contamination-by-rahim-yar-khan-sugar-mill</td>\n",
       "      <td></td>\n",
       "    </tr>\n",
       "    <tr>\n",
       "      <th>2</th>\n",
       "      <td>oak-flat-usa</td>\n",
       "      <td>USDA Forest Service\\r\\nCooperating Agencies: A...</td>\n",
       "    </tr>\n",
       "    <tr>\n",
       "      <th>3</th>\n",
       "      <td>new-airport-on-tioman-island</td>\n",
       "      <td>Government of Malaysia\\nPahang Darul Makmur\\nD...</td>\n",
       "    </tr>\n",
       "    <tr>\n",
       "      <th>4</th>\n",
       "      <td>moroccan-business-grabs-10000ha-for-intensive-...</td>\n",
       "      <td>Agence de promotion des investissements (Apix)...</td>\n",
       "    </tr>\n",
       "    <tr>\n",
       "      <th>5</th>\n",
       "      <td>jose-claudio-maria</td>\n",
       "      <td>Courts of Justice\\nICREA (land reform institute)</td>\n",
       "    </tr>\n",
       "    <tr>\n",
       "      <th>6</th>\n",
       "      <td>pesticides-contaminate-drinkable-water-in-bret...</td>\n",
       "      <td>ANSES : French Agency for Food, Environmental ...</td>\n",
       "    </tr>\n",
       "    <tr>\n",
       "      <th>7</th>\n",
       "      <td>hebron-a-city-flooded-with-sewage</td>\n",
       "      <td>Hebron Governorate\\nIsraeli Defense Forces</td>\n",
       "    </tr>\n",
       "    <tr>\n",
       "      <th>8</th>\n",
       "      <td>copper-mining-on-the-asana-river-peru</td>\n",
       "      <td>Instituto Nacional de Desarrollo (INADE), Inst...</td>\n",
       "    </tr>\n",
       "    <tr>\n",
       "      <th>9</th>\n",
       "      <td>jiaokou-feimei-aluminum-industry-co-ltd-lvlian...</td>\n",
       "      <td>-Huilong Township Government\\r\\n-Jiaokou Count...</td>\n",
       "    </tr>\n",
       "  </tbody>\n",
       "</table>\n",
       "</div>"
      ],
      "text/plain": [
       "                                                slug  \\\n",
       "0                      calcatreu-rio-negro-argentina   \n",
       "1   water-contamination-by-rahim-yar-khan-sugar-mill   \n",
       "2                                       oak-flat-usa   \n",
       "3                       new-airport-on-tioman-island   \n",
       "4  moroccan-business-grabs-10000ha-for-intensive-...   \n",
       "5                                 jose-claudio-maria   \n",
       "6  pesticides-contaminate-drinkable-water-in-bret...   \n",
       "7                  hebron-a-city-flooded-with-sewage   \n",
       "8              copper-mining-on-the-asana-river-peru   \n",
       "9  jiaokou-feimei-aluminum-industry-co-ltd-lvlian...   \n",
       "\n",
       "                                 relevant_government  \n",
       "0  Gobierno de Río Negro.\\r\\nIntendencia de Ingen...  \n",
       "1                                                     \n",
       "2  USDA Forest Service\\r\\nCooperating Agencies: A...  \n",
       "3  Government of Malaysia\\nPahang Darul Makmur\\nD...  \n",
       "4  Agence de promotion des investissements (Apix)...  \n",
       "5   Courts of Justice\\nICREA (land reform institute)  \n",
       "6  ANSES : French Agency for Food, Environmental ...  \n",
       "7         Hebron Governorate\\nIsraeli Defense Forces  \n",
       "8  Instituto Nacional de Desarrollo (INADE), Inst...  \n",
       "9  -Huilong Township Government\\r\\n-Jiaokou Count...  "
      ]
     },
     "execution_count": 16,
     "metadata": {},
     "output_type": "execute_result"
    }
   ],
   "source": [
    "# Preview relevant government data\n",
    "print(\"Relevant Government Data:\")\n",
    "print(f\"\\nColumns: {list(final_relevant_government.columns)}\")\n",
    "final_relevant_government.head(10)"
   ]
  },
  {
   "cell_type": "code",
   "execution_count": 17,
   "id": "aa814a5a",
   "metadata": {},
   "outputs": [
    {
     "name": "stdout",
     "output_type": "stream",
     "text": [
      "Company Names Data:\n",
      "\n",
      "Columns: ['acronym', 'description', 'involvement', 'local_names', 'logo_image', 'name', 'other_products', 'slug', 'url', 'country_name', 'country_slug']\n"
     ]
    },
    {
     "data": {
      "application/vnd.microsoft.datawrangler.viewer.v0+json": {
       "columns": [
        {
         "name": "index",
         "rawType": "int64",
         "type": "integer"
        },
        {
         "name": "acronym",
         "rawType": "object",
         "type": "string"
        },
        {
         "name": "description",
         "rawType": "object",
         "type": "string"
        },
        {
         "name": "involvement",
         "rawType": "object",
         "type": "unknown"
        },
        {
         "name": "local_names",
         "rawType": "object",
         "type": "unknown"
        },
        {
         "name": "logo_image",
         "rawType": "object",
         "type": "unknown"
        },
        {
         "name": "name",
         "rawType": "object",
         "type": "string"
        },
        {
         "name": "other_products",
         "rawType": "object",
         "type": "unknown"
        },
        {
         "name": "slug",
         "rawType": "object",
         "type": "string"
        },
        {
         "name": "url",
         "rawType": "object",
         "type": "string"
        },
        {
         "name": "country_name",
         "rawType": "object",
         "type": "string"
        },
        {
         "name": "country_slug",
         "rawType": "object",
         "type": "string"
        }
       ],
       "ref": "a27e6229-0141-4ba8-bff3-11f90b984641",
       "rows": [
        [
         "0",
         "",
         "",
         null,
         null,
         null,
         "Aquiline Resources",
         null,
         "calcatreu-rio-negro-argentina",
         "",
         "Canada",
         "canada"
        ],
        [
         "1",
         "",
         "",
         null,
         null,
         null,
         "Patagonia Gold",
         null,
         "calcatreu-rio-negro-argentina",
         "http://www.patagoniagold.com/",
         "United Kingdom",
         "united-kingdom"
        ],
        [
         "2",
         "RYK",
         "RYK Group is a leading agribusiness and renewable energy producer in the Asian Subcontinent. The Group is amongst the top companies in the sector in terms of production, innovation, quality and management. As leading agribusiness, we are committed to sustainable, environment friendly practices while delivering world-class quality to our customers. We are building a financially strong, growth oriented business which creates value for our stakeholders and partners. Our pursuit for growth continues in line with global needs and nature’s resources.",
         null,
         null,
         null,
         "Rahim Yar Khan (RYK) Sugar Mill",
         null,
         "water-contamination-by-rahim-yar-khan-sugar-mill",
         "http://rykmills.com.pk/about/",
         "Pakistan",
         "pakistan"
        ],
        [
         "3",
         "",
         "",
         null,
         null,
         null,
         "Resolution Copper Co.",
         null,
         "oak-flat-usa",
         "www.resolutioncopper.com",
         "United States of America ",
         "united-states-of-america"
        ],
        [
         "4",
         "Rio Tinto ",
         "Rio Tinto Group is an Anglo-Australian multinational and one of the world's largest metals and mining corporations. The company was founded in 1873. It has grown through a long series of mergers and acquisitions to place itself among the world leaders in the production of many commodities, including aluminium, iron ore, copper, uranium, coal, and diamonds.",
         null,
         null,
         null,
         "Rio Tinto ",
         null,
         "oak-flat-usa",
         "http://www.riotinto.com/",
         "United Kingdom",
         "united-kingdom"
        ]
       ],
       "shape": {
        "columns": 11,
        "rows": 5
       }
      },
      "text/html": [
       "<div>\n",
       "<style scoped>\n",
       "    .dataframe tbody tr th:only-of-type {\n",
       "        vertical-align: middle;\n",
       "    }\n",
       "\n",
       "    .dataframe tbody tr th {\n",
       "        vertical-align: top;\n",
       "    }\n",
       "\n",
       "    .dataframe thead th {\n",
       "        text-align: right;\n",
       "    }\n",
       "</style>\n",
       "<table border=\"1\" class=\"dataframe\">\n",
       "  <thead>\n",
       "    <tr style=\"text-align: right;\">\n",
       "      <th></th>\n",
       "      <th>acronym</th>\n",
       "      <th>description</th>\n",
       "      <th>involvement</th>\n",
       "      <th>local_names</th>\n",
       "      <th>logo_image</th>\n",
       "      <th>name</th>\n",
       "      <th>other_products</th>\n",
       "      <th>slug</th>\n",
       "      <th>url</th>\n",
       "      <th>country_name</th>\n",
       "      <th>country_slug</th>\n",
       "    </tr>\n",
       "  </thead>\n",
       "  <tbody>\n",
       "    <tr>\n",
       "      <th>0</th>\n",
       "      <td></td>\n",
       "      <td></td>\n",
       "      <td>None</td>\n",
       "      <td>None</td>\n",
       "      <td>None</td>\n",
       "      <td>Aquiline Resources</td>\n",
       "      <td>None</td>\n",
       "      <td>calcatreu-rio-negro-argentina</td>\n",
       "      <td></td>\n",
       "      <td>Canada</td>\n",
       "      <td>canada</td>\n",
       "    </tr>\n",
       "    <tr>\n",
       "      <th>1</th>\n",
       "      <td></td>\n",
       "      <td></td>\n",
       "      <td>None</td>\n",
       "      <td>None</td>\n",
       "      <td>None</td>\n",
       "      <td>Patagonia Gold</td>\n",
       "      <td>None</td>\n",
       "      <td>calcatreu-rio-negro-argentina</td>\n",
       "      <td>http://www.patagoniagold.com/</td>\n",
       "      <td>United Kingdom</td>\n",
       "      <td>united-kingdom</td>\n",
       "    </tr>\n",
       "    <tr>\n",
       "      <th>2</th>\n",
       "      <td>RYK</td>\n",
       "      <td>RYK Group is a leading agribusiness and renewa...</td>\n",
       "      <td>None</td>\n",
       "      <td>None</td>\n",
       "      <td>None</td>\n",
       "      <td>Rahim Yar Khan (RYK) Sugar Mill</td>\n",
       "      <td>None</td>\n",
       "      <td>water-contamination-by-rahim-yar-khan-sugar-mill</td>\n",
       "      <td>http://rykmills.com.pk/about/</td>\n",
       "      <td>Pakistan</td>\n",
       "      <td>pakistan</td>\n",
       "    </tr>\n",
       "    <tr>\n",
       "      <th>3</th>\n",
       "      <td></td>\n",
       "      <td></td>\n",
       "      <td>None</td>\n",
       "      <td>None</td>\n",
       "      <td>None</td>\n",
       "      <td>Resolution Copper Co.</td>\n",
       "      <td>None</td>\n",
       "      <td>oak-flat-usa</td>\n",
       "      <td>www.resolutioncopper.com</td>\n",
       "      <td>United States of America</td>\n",
       "      <td>united-states-of-america</td>\n",
       "    </tr>\n",
       "    <tr>\n",
       "      <th>4</th>\n",
       "      <td>Rio Tinto</td>\n",
       "      <td>Rio Tinto Group is an Anglo-Australian multina...</td>\n",
       "      <td>None</td>\n",
       "      <td>None</td>\n",
       "      <td>None</td>\n",
       "      <td>Rio Tinto</td>\n",
       "      <td>None</td>\n",
       "      <td>oak-flat-usa</td>\n",
       "      <td>http://www.riotinto.com/</td>\n",
       "      <td>United Kingdom</td>\n",
       "      <td>united-kingdom</td>\n",
       "    </tr>\n",
       "  </tbody>\n",
       "</table>\n",
       "</div>"
      ],
      "text/plain": [
       "      acronym                                        description involvement  \\\n",
       "0                                                                       None   \n",
       "1                                                                       None   \n",
       "2         RYK  RYK Group is a leading agribusiness and renewa...        None   \n",
       "3                                                                       None   \n",
       "4  Rio Tinto   Rio Tinto Group is an Anglo-Australian multina...        None   \n",
       "\n",
       "  local_names logo_image                             name other_products  \\\n",
       "0        None       None               Aquiline Resources           None   \n",
       "1        None       None                   Patagonia Gold           None   \n",
       "2        None       None  Rahim Yar Khan (RYK) Sugar Mill           None   \n",
       "3        None       None            Resolution Copper Co.           None   \n",
       "4        None       None                       Rio Tinto            None   \n",
       "\n",
       "                                               slug  \\\n",
       "0                     calcatreu-rio-negro-argentina   \n",
       "1                     calcatreu-rio-negro-argentina   \n",
       "2  water-contamination-by-rahim-yar-khan-sugar-mill   \n",
       "3                                      oak-flat-usa   \n",
       "4                                      oak-flat-usa   \n",
       "\n",
       "                             url               country_name  \\\n",
       "0                                                    Canada   \n",
       "1  http://www.patagoniagold.com/             United Kingdom   \n",
       "2  http://rykmills.com.pk/about/                   Pakistan   \n",
       "3       www.resolutioncopper.com  United States of America    \n",
       "4       http://www.riotinto.com/             United Kingdom   \n",
       "\n",
       "               country_slug  \n",
       "0                    canada  \n",
       "1            united-kingdom  \n",
       "2                  pakistan  \n",
       "3  united-states-of-america  \n",
       "4            united-kingdom  "
      ]
     },
     "execution_count": 17,
     "metadata": {},
     "output_type": "execute_result"
    }
   ],
   "source": [
    "# Preview company names data\n",
    "print(\"Company Names Data:\")\n",
    "print(f\"\\nColumns: {list(final_company_names.columns)}\")\n",
    "final_company_names.head()"
   ]
  },
  {
   "cell_type": "code",
   "execution_count": 19,
   "id": "18b2c3c4",
   "metadata": {},
   "outputs": [
    {
     "data": {
      "text/plain": [
       "(3838, 3838, 3838, 3838)"
      ]
     },
     "execution_count": 19,
     "metadata": {},
     "output_type": "execute_result"
    }
   ],
   "source": [
    "final_conflict_intensity.slug.nunique(), final_reaction_stage.slug.nunique(), final_relevant_government.slug.nunique(), final_company_names.slug.nunique(),"
   ]
  },
  {
   "cell_type": "code",
   "execution_count": 22,
   "id": "4c3c716b",
   "metadata": {},
   "outputs": [
    {
     "data": {
      "text/plain": [
       "(3838, 3838, 3838, 3838)"
      ]
     },
     "execution_count": 22,
     "metadata": {},
     "output_type": "execute_result"
    }
   ],
   "source": [
    "final_conflict_intensity.slug = final_conflict_intensity.slug.str.strip()\n",
    "final_reaction_stage.slug = final_reaction_stage.slug.str.strip()\n",
    "final_relevant_government.slug = final_relevant_government.slug.str.strip()\n",
    "final_company_names.slug = final_company_names.slug.str.strip()\n",
    "final_conflict_intensity.slug.nunique(), final_reaction_stage.slug.nunique(), final_relevant_government.slug.nunique(), final_company_names.slug.nunique(),"
   ]
  },
  {
   "cell_type": "code",
   "execution_count": 23,
   "id": "f75fb943",
   "metadata": {},
   "outputs": [
    {
     "data": {
      "application/vnd.microsoft.datawrangler.viewer.v0+json": {
       "columns": [
        {
         "name": "index",
         "rawType": "int64",
         "type": "integer"
        },
        {
         "name": "label",
         "rawType": "object",
         "type": "unknown"
        },
        {
         "name": "text",
         "rawType": "object",
         "type": "string"
        },
        {
         "name": "slug",
         "rawType": "object",
         "type": "string"
        },
        {
         "name": "annotator_1",
         "rawType": "object",
         "type": "unknown"
        },
        {
         "name": "annotator_2",
         "rawType": "object",
         "type": "unknown"
        },
        {
         "name": "annotator_3",
         "rawType": "object",
         "type": "unknown"
        },
        {
         "name": "annotator_ai",
         "rawType": "object",
         "type": "unknown"
        },
        {
         "name": "label_majority_vote",
         "rawType": "object",
         "type": "unknown"
        }
       ],
       "ref": "8fd6bd9c-d59c-44e7-9541-841042d0d4e8",
       "rows": [
        [
         "0",
         "SIM",
         "The 5 No. Habilashdweep Union (lowest administrative tier) is located in 10 km north-west of Potia Upazilla (administrative union under district) under Chittagong district. With five villages namely, Charkanai, Hulaine, Pantchuria and Habilashdweep, the Union (lowest administrative unit) has a total population of 30,000 villagers. These villagers were served with 350 tubewells set up for supply of potable water in the 90's by the Directorate of Public Health Engineering Department (DPHE) under the local government ministry.A total of eight industries set up in the Union in the early 20's started withdrawing ground water by setting up deep tube wells in their premises leading to catastrophic water scarcity in the Union. Their withdrawal of ground water for industrial operation have so adversely affected the ground water table/aquifer that the 350 hand pumps/shallow tube wells set up by the DPHE have become non-functional. Villagers are compelled to either travel miles and spend hours to collect water or to use contaminated water from the surrounding canals. Some of these eight industries were set up without Environmental Clearance Certificates (ECC) while all of them, belonging to 'red' and 'orange B' categories under the Environment Conservation Rules (ECR), 1997, continued their operation without legally mandatory Effluent Treatment Plants (ETPs) or without running the ETPs. They were discharging their untreated wastes to the three neighbouring canals namely, Alam Khal, Boalkhali Khal and Gorulota Khal, that, on the face of scarcity of ground water, could work as important sources for supply of water needed for irrigation and household purposes. A survey conducted by the villagers identified the legal violations of the eight industries, of which six have no ECC, ETP, and were extracting ground water; and the remaining two have ECC but were not operating the ETPs and were withdrawing groundwater.On behalf of the local people, a Writ Petition No. 440 of 2014 has been filed seeking for the following: a) A show cause notice upon the respondents to explain as to why (i) the hazardous and polluting operation of the industries in the 5 (five) villages of 5 No. Habilashdweep Union of Potia upazilla shall not be declared unlawful, without lawful authority and against public interest; (ii) they shall not be directed to arrange for supply of potable and household water for the villagers by declaring the five villages as water stress areas; and (iii) in view of the grievances and allegations of the local people, they shall not be directed to reconsider environmental clearances given in favour of some industries.Meanwhile, local people have also arranged public hearing in which all stakeholders participated and expressed their perspectives on possible solutions. The proceedings of the public hearing have been produced before the Court which was helpful in nullifying the claim that the water scarcity has been addressed by setting up of new tube wells. In Writ Petition No. 440 of 2014, the High Court has passed interim order on ...barring withdrawal of groundwater by the industries and operation of the industries without ECC and ETPs. The case is now being heard and meanwhile two industries have filed applications seeking permission for closure of their industries. The government is vehemently opposing the declaration of 'water stress area' as it is considered a management failure. The Department of Environment is also trying to save a few industries by granting them ECC and submitting favourable reports on their current compliance status. Since the case is being fought aggressively by the government agencies and the industries, no opinion can be formed till final decision comes from the judiciary. The applications for closure may just be a ploy to avoid legal sanctions, if ultimately, the case is decided in favour of the petitioner.",
         "groundwater-lifting-by-industries-leading-to-water-scarcity-in-5-villages",
         null,
         null,
         null,
         null,
         null
        ],
        [
         "1",
         "NÃO",
         "Cassandra mines operate since 6th BC century and 33 million tons of gold were extracted. In 2011, following a long story of ambiguous government decisions and scandalous agreements, European Goldfields Ltd sold its share (95%) of Hellas Gold S.A., that owned Cassandra Mines, to the Canadian Eldorado Gold Corporation. The Environmental Impact Assessment (EIA) for mining activities in Cassandra was submitted in 2010 to the Ministry of Environment, following an ostensible public consultation process. The Minister, Ms Mpirmpili denied endorsing it. The EIA was approved by Mr Papakonstantinou (former Minister of Finance) who came after Ms Mpirmpili, 11 months later. The EIA has many deficiencies in the documentation, incomplete scientific data, misinterpretation of statutory limits of pollutants, etc. A part of the mining area belongs to a NATURA 2000 site. [1] In 2009 and 2011 two actions were filed before the Council of State against the mining company by the residents, while the company itself filed one action against the Municipality of Aristotle, because of a decision of the Urban Planning Directory that demanded the stopping of the activities in Skouries site. The actions were discussed in 2012, and the Council gave permission to the company for the continuation of the activities. [2, 3] The open-pit gold copper ore mine will result to the destruction of a primitive forest, the drainage of the aquifers and to the pollution of atmosphere and land. The method of \"flash smelting\" that will be used has never been used in industrial scale production in the past and there are fears that the company will finally implement the method of cyanation. Several civil society objections were raised since 2007. Since early 2011, residents of the Municipality of Aristotle initiated a major campaign against the investment. The campaign consists of petitions, awareness raising, use of social media, demonstrations in the mining area, the villages and big cities, concerts, etc. Universities and institutes commented on the EIA and revealed the gaps and the negative impacts of the planned activities. A mass movement is now active in the area, being supported by several groups and institutions from Greece and abroad. From the beginning, the Greek government neglected the opinion of the residents and supported the company. There was no consultation process on the EIA and the social movement in Skouries faces major repression [1]. In February 2013, unknown men attacked the worksite in Skouries, causing damages to company's vehicles and equipment. This gave the pretext to the police to hit peaceful demonstrations with excessive use of teargases; criminalize the participation in the movement, arrest several residents on charges of participation in terrorist organization, proceed to DNA tests, invade in houses etc. The company make donations to Municipalities located in the area in the framework of the corporate social responsibility. In the past it attempted to donate football teams in Thessaloniki, but there were major reactions by the team's funs. Furthermore, it donated to the Greek Police, fact that provoked the reaction of Parliament Members who submitted parliamentary question to the competent ministry. [4, 5,6] The majority of mainstream media in Greece support the government and the private investors, presenting the mass movement as a minority that is against any kind of development, obscuring the scientific institutions' reviews and giving the floor only to the company and her employees. International press covers the issue more objectively. [7]",
         "gold-mining-in-chalkidiki-greece",
         null,
         null,
         null,
         null,
         null
        ],
        [
         "2",
         "NÃO",
         "Jambi-2 power plant is a proposed mine-mouth coal-fired power plant (CFPP) located in Bungku, Bajubang, Batang Hari Regency, Jambi, Indonesia [1]. The plan and scale of the project had gone through changes, while the latest national electricity supply business plan, RUPTL 2021-2030, published by Indonesian state-owned company PLN, indicated that the Jambi-2 project is expected to have a capacity of 600MW (2x300MW) and the expected Commercial Operation Date (COD) is 2026 [2].Jambi-2 is one of the projects co-owned by PLN or its subsidiary and independent power producers (IPPs). In June 2018, it was reported that China Huadian signed a power purchase agreement with PLN and committed to developing Jambi-2 CFPP on a Build, Own, Operate, Transfer (BOOT) basis with a 25-year operational term and 39-month construction duration [3][4]. This is allegedly the 5th project that China Huadian has invested in Indonesia [4]. According to the agreement in May 2019, the project would involve two units with supercritical technology, 118km of 500kV transmission line and a coal mine with 3.1 million ton/year output capacity to support the CFPP, and provide 4.9 million kWh of electricity per year [4]. In 2020, it was reported that China Energy Construction Southwest Design Institute won the bid for the survey and design contract of the Jambi-2 project and the associated power transmission and transformation projects as announced by China Huadian [5]. In March 2021, a feasibility study review meeting for the Jambi-2 project was held in Chengdu, Sichuan, China [6]. However, the project has not yet reached financial closure [7] and it is unclear whether China Huadian will make equity investments in the project or whether it would seek external financing in China [1].In September 2021, it was reported that the Governor of Jambi, Dr. H. Al Haris, S.Sos., M.H., declared a commitment to reduce GHG emissions and focus on renewable energy in the Jambi Province at a \"People's Stage\"( Panggung Rakyat) event organized by Voice of People's Demands Movement (Gerakan Suara Tuntutan Rakyat, Gestur) on 23 September 2021 [8][9]. It was reported that the governor's statement was a response to the statement of Hardi Yuda, director of a local NGO in Jambi, Lembaga Tiga Beradik, who discussed the impact of CFPPs including the reduction or loss of livelihood of local communities and long-term poverty, as well as adverse environmental and health impacts, which makes it even worse for mine-mouth CFPPs as in the case of Jambi-1 and Jambi-2 [10]. The governor's statement was welcomed by participants, led by agrarian activists, farmers, workers, environmental activists, as well as students from various organizations ahead of the National Farmers' Day (Hari Tani Nasional, HTN) in Indonesia [8][9]. This public statement was also welcomed by environmental NGO Walhi (Wahana Lingkungan Hidup), the oldest environmental organization in Indonesia, which responded with a statement in a press release on 28 September 2021. The Executive Director of WALHI Jambi, Abdullah Bedoel, indicated that the cancellation of Jambi-1 and Jambi-2 CFPP and converting to renewable energy would be a good development for the region, considering the pollution that the CFPPs would cause to the air and rivers in Jambi and the community around the projects [11].According to WALHI's records, there is a plan for the construction of around 1,200MW of CFPPs in Jambi Province, including mine-mouth CFPPs Jambi-1 and Jambi-2, while the renewable energy potential in the province is huge [12], [13]. In view of this, WALHI Jambi put six points in the press release as suggestions to the Jambi Province Governor to cancel the Jambi-1 and Jambi-2 CFPPs and remove CFPP in Jambi's electricity planning [11][13]. These six points include: 1) Coordinate with authorized officials such as the Regent or the Minister to cancel all permits that have been issued and stop the ongoing licensing process for CFPP Jambi-1 and Jambi-2; 2) Revise Jambi Provincial Regulation Number 13 of 2019 concerning the General Plan of Regional Energy for 2019-2050, which is needed to remove the CFPP plan in Jambi until 2050; 3) Evaluate CFPPs that are more than 20 years old and immediately discontinue those that still use sub-critical technology or even older technology below and the utilization rate of which is below 80%; 4) Revise the Jambi Province Regional Regulation Number 10 of 2013 concerning the Jambi Province's Regional Spatial Plan for 2013-2033 to abolish the spatial planning for the development of CFPPs; 5) Conduct a moratorium on permits related to the construction of CFPPs in Jambi province until the planning rules related to the construction of CFPPs are revised; 6) Coordinate with the National Energy Council (DEN) to revise the General Plan for National Energy and with PLN to review the RUPTL, particularly related to the provision of electricity in Jambi Province [13].According to the latest information as of July 2022, the Jambi-2 CFPP is still in pre-permit status without financial closure [14].",
         "proposed-jambi-2-coal-fired-power-plant-jambi-indonesia",
         null,
         null,
         null,
         null,
         null
        ],
        [
         "3",
         "NÃO",
         "Relocation from mining sites, an influx of people into the area, land degradation, a decrease in biodiversity, reduction in water quality, and air and noise pollution are some of the results of mining by Koidu Holdings Limited (KHL) in Sierra Leone. KHL, operating since 2003, was granted rights to mine kimberlite diamonds worth about $1.5 billion for 25 years after the end of Sierra Leones war (KHL underwent restructuring in 2012 and is now under Octa Diamond Group). In December 2007, two people were shot dead by security in clashes with residents from nearby communities at the mine. Following this incident, the government suspended KHLs operations, and set up the Jenkins-Johnston Commission of Inquiry to investigate. The Commission produced a critical report on KHLs operations and made recommendations which were included in a White Paper published in March 2008[1]. The commission found that the main root causes were relocation and resettlement, forced evacuation before blasting, lack of community benefits and lack of community participation[2]. Crop compensation, assessment of which was made in 2003, has also been a point of contention, with residents complaining it was not enough. The initial EIA going back to 2003 has been criticized because it happened just after the war at a time when people were displaced. That EIA said 4,537 people would be affected by KHLs blasting, and would have to be relocated to new housing which the company should construct. KHL eventually built housing using mud bricks and proceeded with operations but this led to near violence until agreement was reached in 2005 to build new houses[1]. In December 2012, violence again flared at the mine and two people were shot dead, when local workers went on strike over what they said were poor working conditions[3].",
         "koidu-diamond-mining-conflict-sierra-leone",
         null,
         null,
         null,
         null,
         null
        ],
        [
         "4",
         "NÃO",
         "The inhabitants of Catacaos denounce that they have been subjected to persecution since 2011 by the San Juan Bautista Association, whose president is the Archbishop of Piura and Tumbes, a Sodalit priest [1a], with the aim of depriving them of their ancestral lands. They have sought protection from Pope Francis. The representatives of the commission sent by Pope Francis, Archbishop Charles Scicluna and Priest Jordi Bertomeu, listened to the community members Marcelino Inga Inga, Fiorela Martínez Imán (widow of Guadalupe Zapata Sosa), Valeria Silupu Fernández, Paula Sandoval Sullón, Santos Maza Juárez, and Percy Maza Sandoval. They were all accompanied by the executive secretary of the National Coordinator for Human Rights (CNDDHH), Jennie Dador. The representative and member of the CNDDHH legal team, Carlos Rodríguez, explained that since 2011, the community members have been criminalized with police reports, prosecutions, and eviction lawsuits to force them to leave their land by their own means. He detailed that the citizens have been accused of the crimes of simple and aggravated usurpation, theft, injury, generic falsehood, and terrorism, although all of these accusations have been dismissed. Rodríguez stated that this information will be transmitted to Pope Francisco, who will have to make a decision. He informed that Monsignor José Antonio Eguren, founder of this Catholic organization, would also have been summoned to present his defense. He mentioned that there is a strong possibility of the closure of the Sodalitium as an institution and that they hope for Pope Francis to issue a statement that helps to cease this harassment against the community members. \"It is important that the authorities give a voice to the community members who have been invisible for a long time. The Judiciary, the Prosecutor's Office, and the Ministry of Justice should make decisions to protect them from these ongoing attacks,\" he emphasized. According to him, the San Juan Bautista Civil Association has advanced and has taken possession of more than 1,500 hectares, with the support of private security teams and even police forces. \"They are enclosed, in some cases with crops from agribusiness companies that they have, and that have also been persecuting the community members all the time,\" he warned. They demand justice for the death of community member Fiorela Martínez, wife of Guadalupe Zapata, who lost her life in 2011 defending communal lands, and they demand justice for the death of her husband. Amid tears, she denounced that her case was dismissed due to lack of evidence. Furthermore, she called on Pope Francis to find a solution and for the lands to be returned to the community. [1]. In addition, the Sodalitium is at risk of suppression or dissolution by the Vatican after many years and many evidence of internal sexual abuses. The headquarters of the Sodalitium is in Lima. The community of Catacaos has a long history. [2]. Due to its antiquity, history, and extent, one of the most important communities in the dry forest of Piura is the San Juan Bautista de Catacaos community (SJBC) located in the department of Piura, in northern Peru, which has its origin in the reduction of the Catacaos indigenous people from the 16th century which was formally registered as a community in the Indigenous Communities Registry in 1940. Its ancestral territory covered more than 200,000 hectares of the dry forest, which were gradually reduced—through processes of dispossession, expansion of estates, privatization, and illegal sale, among others—over the centuries [3]. This community has about 20,000 registered community members living in the more than 100 rural hamlets that it comprises. Its governing body is the General Assembly of Community Members, represented by a Community Directive that is elected every two years, in accordance with the General Law of Peasant Communities enacted in 1987. The community has possession certificates granted by the Spanish crown in 1545 and 1646 and confirmation of titles and fixing of boundary lines by Viceroy Toledo in 1578.",
         "comunidad-de-catacaos-vs-sodalicio",
         null,
         null,
         null,
         null,
         null
        ],
        [
         "5",
         "NÃO",
         "Oil palm monocultures have expanded rapidly in Myanmar over the last decades. In Tanintharyi region, more than 1.8 million acres (728,434 ha) of land have been awarded for oil palm plantations, often to companies with close ties to the military. Expansion has further increased recently through the arrival of foreign direct investment into the country. This expansion has provoked large human rights abuses and environmental destruction, as the case of the Myanmar Stark Prestige Plantation (MSPP) Oil Palm concessions shows [1,2,3]. The development and impacts of the MSPP concession have been documented in detail through the Green Desert report (see [1]), produced by local civil society organizations. MSPP was granted a permit by the Myanmar Investment Commission (MIC) to establish a 38,000 acres (15,378 ha) oil palm project in the year 2011. The project is in an area marked by more than six decades of civil war between the central government and the Karen National Union (KNU). The preliminary ceasefire agreement, signed by both parties in 2012, brought an end to the massive human rights violation caused during the civil war. However, it also opened former war zones with weak land tenure to foreign direct investments, which have caused new negative impacts for communities and the environment. Located in an area under mixed administration of both the Myanmar government and the KNU, villagers are even more vulnerable to the concession development, as the two governments shift the blame and responsibilities among them [1]. The concession was granted in a non-transparent way and has caused large social and environmental impacts. The concession development did not comply with domestic law or with international human rights principles. No free prior informed consent (FPIC) with affected communities was obtained and the area was incorrectly classified by the central government as 'vacant land'. This has led to severe conflicts over encroachment of indigenous customary land - the project area overlaps with agricultural and community land of four villages, home to approx. 4,480 people. Since 2011, about 6,000 acres (2,428 ha) were cleared by the company, including betel-nut and cashew orchards belonging to villagers. Loss of productive land has resulted in livelihood loss and increased debt levels as many villagers have been unable to meet their basic needs. Some were forced to become day laborers for low wages [1]. Money offered by the company to compensate damages was too little and many villagers refused the compensation [1,3].Fertilizer and pesticides use have moreover caused water pollution. While some wells were constructed by the company to deal with the declining availability of clean water sources, some of the wells were soon polluted by animal feces due to poor design. Consequently, villagers reported livestock dying, skin irritations and dysentery. Furthermore, the company has been involved in aggressive timber logging, leading to deforestation and clear cutting of natural forests. To establish the plantation, high value timber stocks were first logged and retrieved from the area. Remaining vegetation was then burnt to establish the palm oil cultivation. The affected communities organized themselves, held large meetings and protested in many ways to show that they did not accept their land being taken. Religious prayer ceremonies were held. Several complaints were filed to the company, to KNU officers, to the regional government and to the central government, including State Counsellor Daw Aung San Suu Kyi. However, no meaningful responses followed. In February 2015, affected communities invited media groups to share their case and also met with lawyers to discuss their legal options. Villagers furthermore started to document in a detailed way their losses caused by the company. In March 2015, the KNU Mergui – Tavoy district issued an order to halt operations; however, the company continued operations. In April 2016, affected communities submitted complaints over the MSPP plantation to the Tanintharyi Joint Meeting Committee (JMC), responsible for monitoring complaints in the area. Following a subsequent meeting in July 2016, the Tanintharyi Township Police office sent a letter to MSPP, requesting to suspend operations temporarily. The company stopped further expansion. The suspension was a great achievement and offered an important opportunity to seek solutions in the MSPP land conflict. In December 2017, the Green Desert report (see [1]) was released through a collaboration of 12 civil society organizations. Based on 18 months of field work, the report detailed many of the concerns associated with the plantation. It was presented to the central government and received large media coverage.As of early 2018, further expansion of the oil palm plantation has been limited by the authorities, however the remaining concession land has not been returned to the communities. Concerns over forest clearance and timber logging continue despite of the suspension. Negotiations between the communities, the company and the government are ongoing.",
         "mspp-oil-palm-plantation-tanintharyi-region-myanmar",
         null,
         null,
         null,
         null,
         null
        ],
        [
         "6",
         "NÃO",
         "Land has been grabbed for the operation of an illegal stone quarry in the Andarawewa Forest Reserve. The Andarawewa Forest Reserve is located in the Northen Central Province within the Mahaweli 'H' zone and has been under the the control of Mahaweli Authority since 1892, when it was declared a wildlife protection zone. As a protected zone unauthorized entrance, clearing and timber extraction were prohibited by the Mahaweli Authority. However, since 2010 Mahaweli Authority has begun dividing the area into allotments for release to the private sector. Allegedly, the Resident Project Manager of system H of Mahaweli has facilitated land allotment to private investors with political support of several Ministers. In particular, environmental activists and local villagers accuse the Agrarian Services and Wildlife Deputy Minister S. M. Chandrasena and Irrigation and Water Management Deputy Minister W. B. Ekanayake for grabbing the reserve lands distributing it amongst their cohorts and relatives without considering the environment impact and the biodiversity of the forest. Following a report by Friends of the Earth International [1], a 20 acre (8ha) plot has been given to the company 'Access Engineering' for the operation of a stone quarry. The land was acquired by a local councilor for the Madyama Nuwara Palatha Pradeshiya Sabha and by Rasika Ekanayake, the son of Deputy Minister W. B. Ekanayake. This land has been leased to the above mentioned company and the necessary equipment is currently being installed on the land. In spite of being located in a Forest Reserve, according to Geological Survey and Mines Bureau (GSMB), three Industrial Mining licenses have been granted for the quarry to Rasika Ekanayake, his wife and W. P. Wickremasinghe, on the recommendation of the Mahaweli Authority and the Central Environmental Authority. In 2013, Arunashantha, a representative of a farmer organization opposing to the project declared to The Sunday Leader that the land given to Ekanayake for the quarry has an archaeological value. Moreover he stated that the granite is removed with the help of backhoes and other heavy machinery working round the clock. The noises have forced wild animals away from the Andarawewa Forest Reserve and their lives are at stake. In addition to this extractive project, further tourism projects, such as the Palm Garden Hotel (see below, related conflicts), have been implemented within the forest reserve, increasing the pressure on the forest ecosystem. All these activities have been implemented ignoring the regulations of the National Environmental Act. Following the mentioned article by The Sunday Leader, in order to build the road, many trees have been cut and security check points were established within the forest to check who entered the forest reserve. Despite the strong opposition carried out by villagers and local EJO's, the project have been implemented causing severe damages to the forest environment and to the residents in the area [1][2].",
         "illegal-stone-quarry-in-andarawewa-forest-reserve",
         null,
         null,
         null,
         null,
         null
        ],
        [
         "7",
         "NÃO",
         "The Curipamba Sur Mining Project is a gold and base metals deposit located in the Sierra of Ecuador in the Las Naves canton, Bolivar Province, 250 km southwest of Quito. In 2007, peasants from nearby communities protested against the project by breaking the mineral samples extracted from the underground, which contained key information for quantifying the mineral reserves. This action resulted in the waste of several months of work, according to Francisco Soria, the project's Exploration Chief. He added that many community members who oppose mining are not from the area, but were brought in by environmental organizations. The population expelled all personnel and machinery used in the project. Consequently, the Echandia Prosecutor's Office initiated an investigation against approximately thirty members of the community, criminalizing them for resisting the project, which would cause harm to the communities of Jerusalen, Naves Chico, Bellavista, Buenos Aires, and others. The arguments raised by the community include the lack of prior consultation with the community, failure to obtain permission from the municipality, and absence of environmental impact studies. In June 2010, the Ministry of Non-Renewable Natural Resources authorized the resumption of exploration by issuing property titles for concessions for a period of 23 years (with the option of renewal for an additional 25 years), in accordance with the new mining law of 2009, which had been previously suspended with the issuance of the Mining Mandate by the National Constituent Assembly in April 2008. Once again, hundreds of peasants from the communities of Jerusalen, el Triunfo, and Salinas arrived at the facilities with the aim of halting the activity. However, this time the company did have the authority's permission, leading to a strong police crackdown on the protesters. The mayor of Las Naves explained that a group of peasants feared contamination of the nearby water sources due to the project. In March 2012, the CONAIE, the largest indigenous organization, called for a national march named \"March for Water, Life, and the Dignity of the Peoples,\" which traveled from the town of El Pangui in the southern Amazon to Quito to reject the country's entry into this new phase of large-scale mining, including protests against the Curipamba Sur project. In April 2013, the Ministry of the Environment (MAE), through the National Environmental Control Directorate and the Provincial Directorate of Bolivar, conducted an inspection of the Curipamba Sur 2 mining project by the company Curimining. This was to verify the status of the advanced exploration activities of metallic minerals in the Las Naves canton. During the inspection, it was confirmed that the work was in the superficial exploration phase. In 2013, Salazar Resources signed an agreement with the Dutch company Union Mining (a subsidiary of Trafigura). Keywords: Indigenous complaints; water pollution.",
         "curipamba-sur-bolivar-ecuador",
         null,
         null,
         null,
         null,
         null
        ],
        [
         "8",
         "NÃO",
         "Pirquitas is the largest and oldest silver, tin, and zinc mine in Argentina. It is located about 80 km west of Abrapampa, in the northwest of Jujuy province, at an altitude of 4,300 meters. The mining activity led to the founding of the town of Mina Pirquitas along the current national route 40. Mina Pirquitas was an underground mining operation that operated from 1930 to 1990. It is estimated that during the six decades of this period, 777,600 kilograms of silver and 18,200 tons of tin were produced from all the veins, in addition to 9,100 tons of alluvial tin. In 1995, Sunshine Argentina acquired the mining property of Pirquitas. In 2005, the mining property became owned by Silver Standard Resources Inc., and the new mining project, based on the development of an open pit, began execution in 2008. Geological studies indicate that deepening an open pit in an area that was previously exploited underground significantly increases the risks of instability in the walls of the banks and in the interior roads. Communities have claimed the impact on the water in the area. The prosecutor of the Federal Chamber of Tucumán (Antonio Gustavo Gómez) noted environmental violations in seven mining ventures during 2007 and 2008, including at Mina Pirquitas. He forwarded the preliminary proceedings and evidence to the prosecutors of Jujuy, who can act on their own initiative. The federal prosecutors did not advance with the investigations, despite the evidence. The complaint documents the impact on the Orosmayo River, reducing its flow downstream and altering the morphology of the channel, all without authorization. The mine is nearing the end of its exploitation, but the plant would continue to process the extracted minerals. It would also expand the tailings dam.",
         "pirquitas-amenaza-aguas-de-jujuy-argentina",
         null,
         null,
         null,
         null,
         null
        ],
        [
         "9",
         "NÃO",
         "The Cupriferous Mining Project today known as Llurimagua is located in the western foothills of the Western Mountain Range of the Andes in the province of Imbabura and in the region known as Intag. Its forests belong to the most important biodiversity hotspot in the world, tropical andes. The site where copper was discovered is very rich in water, and covered by cloud primary and secondary forest which house tens of endangered species, some reported in these forests and anywhere else on the planet. Communities and organizations have released a fight against 4 mining companies since 1995 in defense of their constitutional rights, and to protect their sources of water, and their native forests and biodiversity, which give life to the entire region [1 ] [2].The struggle of the Intag Valley has motivated the organization and deployment of various initiatives of women, youth, producers (organic coffee, agroforestry systems, network of small hydroelectric plants, ecotourism, as well as a strong process of organization and territorial mobilization that seeks to defend the territory and propose other ways of living it more just and sustainable [3]. Throughout these years, more than one hundred social and environmental scientific research has been generated in the area [4], alternative reports have been promoted [5], as well as established radios, newspapers and various local and virtual information channels. International collaboration networks have been created that have allowed, for example, that the fight will reach Toronto Stock Exchange [6]. And the struggle continues under the various Ecuadorian governments that see on large-scale mining the continuation of a backward oil economy.A conflict with HistoryIn 1991-1998 Bishimetals reaches Intag in 1991 product of an agreement of Japanese-Ecuadorian governments to evaluate the mining potential of the sector within the concession today known as Llurimagua. Bishimals at the time, was a subsidiary of the Mitsubishi Corporation, and the entire project was funded by the Japanese Government, through its International Development Cooperation Agency (JICA). It is important to point out the latter since the studies were not financed by mining companies, but with public funds from the Japanese, and is the only EIA that really shows the impacts of a large-scale mining project in a site like Intag.In the year 1996, the Japan International Cooperation Agency (JICA) and Metal Mining Agency of Japan (MMAJ) publish the report of their exploration activities, including a section where It warns drastic environmental and social damage for a small copper mine. These include the relocation of hundreds of families from four communities, massive deforestation, which will lead to local climate drying (the term used in the study was desertification), until impact on endangered species and the Cotacachi-Cayapas National Park. As well as the pollution of rivers and broken with lead, arsenic and other heavy metals, increased crime and impacts to pre-champic archaeological vestiges.These impacts were based on A mine of only 450,000 tons of pure copper in a deposit of 72 million tons of Mena. The following year the presence of 2.26 million tons of copper was inferred in a deposit of 318 million tons. In 2018, Codelco estimated that it could have 17 million tons of copper in a deposit of 3,846 million tons of Mena.In 1997, the comuneros around the project They bring together and form a committee and decide to request the departure of the Junín Forest's company. Neither the government nor the Japanese respond and the comuneros burned the camp. The company leaves Intag without having concluded the investigations, not without before the government prosecuting 3 comuneros due to sabotage and terrorism. In 2018 the government gave up judgment.In 2004, the presence of Canadian company Ascendant Copper is verified and a division and conflict phase begins. By seeing a strong opposition, progressively the tactics become more violent, including death threats to certain leaders. In 2005, the company's camp is burned on a low chalguayacu by comuneros of the entire Intag area.Although the comuneros were denounced to justice, the judge absolves them alleging in his opinion: \"The Ecuadorian Criminal Code does not foresee the criminal sanction to a community,\" (...) \"The Assemblymen have been the ones who made the decision to set fire Facilities of the company Ascendant Copper S.A. In defense of the environment and its community, by the mining works that has undertaken in the area, before this decision Polybio Pérez, who directed the same and the other accused, is obvious that they were before The tax decision of the comuneros and acted then moved by a force majeure (Community resolution) \"[7].In October 2006 based on a false denunciation was mounted A judicial assembly against Carlos Zorrilla, from the Organization Intend Decoin, whose end was to arrest him and imprison him to silence him and his organization. He tried failed, but included the invasion of his home with 19 policemen strongly armed with arrest and raid-raid order. It did not result in the company because Carlos was able to evade capture, escaping at the last moment, hiding in the forest. In 2018, a court in Quito sentenced that the complaint was malicious. The police, it is worth mentioning, planted a weapon, ammunition and drugs in their home, which led to another capture order by illegal holding of weapon (this chapter can be seen in the feature film under rich floors).In November 2006 Ascendant Copper hires Quito security companies and train several Intag inhabitants in paramilitary tactics. They try to enter the mining concession via Cerro Pelado, but the communities block the entrance despite the fact that the employees of the company used tear pumps and trained dogs.in December In 2006, the company hires another security company which quickly hires former soldiers, puts their costume of the company and gives them weapons that were eventually identified as of illegal production. On December 2, they try to get into the concession again by High Chalguayacu. A confrontation and shooting are carried out using illegal weapons against unarmed commuvers, but eventually the police are withdrawn. A few days later approximately 100 Intag inhabitants, meet in Junín and, knowing where the paramilitaries are falling from surprise and arrest 57 of them. Eventually they are delivered to the police with illegal weapons, but the government did nothing (this chapter can be seen in several documentaries, including, after haze, under rich soils, among others. None of the paramilitaries, or their bosses were sanctioned, despite using unregistered illegal weapons).In 2011, Ecuador and Chile sign Agreement for Codelco to develop certain selected mining projects without tender. ENAMA EP (Ecuador's National Mineral Company) is the Holder of the Minera Llurimagua Concession.In 2012 the presence of the national company Minera Emilica and Codelco trying to socialize The mining project now as the support of the Chilean government. Codelco does not see her in socializations, who gives the face is the ENAMA who is also the holder of the concession. Most communities reject the attempted socialization to such an extent that the government and the company is forced to use much more aggressive tactics [8].In 2013, companies fail to enter the communities to socialize the project and generate support, so the President Rafael Publicly Correa, and on several occasions, discreditiates Leaders of the opposition in Intag, to such an international amnesty intervened to guarantee the integrity of one of the leaders [13].In April 2014, when an Enami truck tried to access the mining concession is blocked by comuneros by the high chalguyco sector. In the confrontation someone breaks the windshield of the truck and the employees of La Enami, even though it was the first time they entered the area, identify Javier Ramírez as responsible and his brother Víctor Hugo Ramírez. Javier, it is worth mentioning, at that time he was the president of the Junín community and one of the best-known antiminery activists. However, at the time of conflict Javier was at home being attended by a Belgian doctor and was unable to be mobilized due to a severe swelling of the knee. The arrest was made arbitrarily without the arrest warrant and was held when he returned with another companion of the community of a meeting convened by the Minister of the Interior at that time, José Serrano. Javier is transported several hours in a patrolman, the reason for the arrest is not informed. Just when he reached jail, the capture order is shown. It is imprisoned for 10 months without judgment, so eventually be sentenced to 12 months, sentence that it was reduced to 10 for good behavior. (This chapter and the following can be seen in several documentaries on YouTube (Javier, and Intag; Harassment to Intag; Intag helplessness ...)in May 2014 the government Send 389 troops from elite police and military groups that entered violently to the mining concession. Codelco installs his camp at the site called the viewpoint where the community took his tourists within the community reserve that the Decoin. Reservation acquired by the Community A Ends 1990. Also the forest where advanced exploration eventually developed is part of the community reserve, however, at that time nobody had scriptures [9].The police, it is worth mentioning, occupied not only the sector of Junín and High Chalguayac, but the entire area of ​​Intag for months violating fundamental rights as the right to transit freely. In Junín they remained at least 6 months. According to inhabitants, at that time He took advantage of the company to \"socialize\" the project to the inhabitants, but they went from home at home sheltered by police or a brazen intimidationThe DeCoin estimates that between 2015 and 2018, the company started its exploration, drilling at least 90 wells in the primary forest of the community. At the beginning of 2019 Codelco reported the possible presence of 17 million tons of copper in a deposit of 3,860 million tons of MENA. However, the figure handled by the Government is 982 m / tons of MENA [9].at the end of 2018 CODELCO requested the expansion of the exploration area to Another 700 hectares within the mining concession. Until 2021, the impact study has not been approved and contains very serious omissions and errors.Inspection of the Ombudsaler and uncestors of the Ombudsman.In August 2018, the General Comptroller of the State inspected the mining project, and March 2019, published its report [10], in which it reported more than 20 irregularities and violations by state entities: a) To the Enhouse-Codelco Convention, b) Environmental Impact Study (lack of basic information, for example, c) poor socialization, d) lack of consultation, e) lack of environmental license, which is why The Comptroller reported that there were enough arguments to cancel the mining concession and put a high on the project.In April 2019, the Ombudsman's Office published its resolution on the abuses Associated with the presence of miners in Intag, detailing numerous violations of human rights and nature ZA [11].Since 2019, Codelco, who has financed almost 100% of the exploration, withdraws its equipment (in November 2018) and to date (10-2021) Do not restart activities, waiting for it to be approved in new environmental impact study to expand the exploration area. Another obstacle is non-compliance with the bilateral agreement, where it indicates that a new company should be constituted to continue developing the mining project. That breach led, in 2021, to Codelco to take the Ecuador to the ICC, International Tribunal based on Paris.Constitutional actions.With the support of the DeCoin, civil society raised precautionary measures based on the violation of the rights of nature (probable extinction of two species of endemic frogs to the mining area). He won in the first instance (Sept 2020), but was lost in the appeal for insurmountable failures from the first instance judge (2021) [12].The DeCoin denounces that companies (ENAMI and CODELCO, but Codelco more than everything) continue to be presence in the communities surrounding the project and have hired approximately 50 workers between Junín and Cerro Pelado and continue to offer dádivas to the communities instead of obtaining their support . Meanwhile, in 2021 there were several clashes in the Barcelona sector and Cerro Peeled at times that Codelco tried to enter to socialize the mining project, or to give things.Since DeCoin stands out that based on environmental impacts predicted by Japanese experts in its 1996 preliminary environmental impacts for a small copper mine, it could become one of the most devastating the history of mining. This opinion is based on mining projects in similar sites; Since highly sensitive factors coincide as high rainfall, the super plenty of frequetic water, the presence of primary forests that house tens of endangered species, very rough topography, seismic risks, the content of the deposit that will generate Drainage mining acid, copper mixed with heavy metals such as arsenic, lead and cadmium.",
         "intag-mining-junin-ecuador",
         null,
         null,
         null,
         null,
         null
        ],
        [
         "10",
         "NÃO",
         "Pineapple monocultures in Costa Rica have been growing dramatically since the end of the previous century. From 1990 to 2009, the cultivated area grew 675% to almost 50000 ha and, in 2015, it had arguably reached almost 60000 ha. Costa Rica is the main exporter of pineapple (since 2007) having North America (53%) and the European Union (44%) as main destinations (2015). Production is heavily concentrated: Del Monte and PINDECO - the biggest companies – have 50% of Costa Rica's pineapple output. The first 31 companies concentrate 96% of total production. Small landowners although big in number, produce the remaining 4%. Pineapple monocultures have become a major source of both environmental and social impacts in Costa Rica. Apart from the land use changes that threaten the country's forests and wetlands, the agrochemicals used in the plantations have been polluting both surface and underground waters. In the municipality of Siquirres (Huetar Atlántico region), the communities are consuming water from tankers since 2007 due to the presence of 3 substances used in pineapple monocultures: Bromacil, Diurón and Tridamefón. At that time, the Instituto Costarricense de Acueductos y Alcantarillados (Costa Rica's public water provider) denounced the plantations proximity to springs, violating the country's Law.The agrochemicals mentioned above are only a small part of the substances required in pineapple monocultures, especially for the variety MD2 (also known as 'Sweet Gold'). Many of these substances are associated to different health hazards – including cancer - and are  forbidden in some countries. Exposure to agrochemicals threatens not only the communities leaving nearby but also the workers, who are often sprayed while at the plantations. Pineapple monocultures are also responsible for higher land concentration, the displacement of peasant families and the loss of food sovereignty. Moreover, stockbreeders have been complaining about water contamination and the persistence of Stable Fly (Stomoxys calcitrans) plagues, associated with the crops.Finally, the pineapple industry in Costa Rica is infamous by its lack of adequate labour standards: salaries are low, working days are long and basic benefits (such as social security) aren't respected. The situation is particularly difficult for migrant workers.Faced with all the negative consequences of pineapple monocultures, the successive Governments of Costa Rica have been extremely lenient with producers. The importance of the crop in Costa Rica's economy and the influence of the Cámara Nacional de Productores y Exportadores de Piña (CANAPEP) have been major factors in the State's incapacity to take action. Producers are hardly sanctioned for breaking the Law and the activity benefits from extremely low tax burdens, due to Free Trade Agreements and national legislation. Governments have ignored UN recommendations and seem to only care when the European Union officials visit the country, though they're more interested in protecting consumers in Europe than the people in producing regions. Furthermore, key people at the Government have constantly refused to participate in meetings with communities and to address questions posed by the press. The Government , through the Secretaría Técnica Nacional Ambiental (SETENA), went even further by creating (in 2009) a voluntary ex-post mechanism for impact analysis that, in practice, allowed producers to bypass the requirement for an Environmental Impact Assessment. Some years later, in 2011, the vice-presidency of Costa Rica launched the Plataforma Nacional de  Producción y Comercio  Responsable de Piña en Costa Rica, sponsored by the United Nations Development Program (UNDP). However, the initiative was criticised from the beginning because its administrator was an ex-member of the export sector (closely linked to CANAPEP). Costa Rica's president, Luis Guillermo Solís, was a fierce critic of the situation brought by the pineapple monocultures while in opposition and even defended a moratorium on new crops. However, things have not changed much since 2014, when he assumed office.Affected communities, together with urban allies, have been actively opposing the expansion of pineapple monocultures and demanding harsher measures from the State. The most important platform against the crop is the Frente Nacional de Sectores Afectados por la Producción de Piña (FRENASAPP). The FRENASAPP has actively participated in different protests and marches demanding a moratorium on pineapple crops. Only in 2017, together with other organized groups, they called for a march in May and another one in June. Their actions have not yet been able to put a stop to new plantations, but they managed to suspend a new project by Del Monte, close to a wetland in the south of the country. Furthermore, they were able to pressure the Government into forbidding Bromacil, one of the most dangerous agrochemicals still in use in Costa Rica. However, the remaining substances still pose a threat to the environment and to people's health. The communities pressure has also forced some local governments to take action. In 2012, the municipalities of Guácimo and Pococí issued a decree prohibiting new crops. However, the CANAPEP managed to revert both decisions in court. In 2016, the supreme court of Costa Rica, once again invalidated a moratorium decreed in Los Chiles. Despite these attempts, community and environmentalist pressure and even the recommendation of Costa Rica's National University on a moratorium, the Government refused to address the issue. Another important actor in the struggle have been the plantation workers, namely through the Sindicato de Trabajadores del Sector Privado (Sitrasep CR), a union present in some pineapple companies, organised a strike in 2016 with the workers of Exportaciones Norteñas S.A in Los Chiles (Huetar Norte region, close to the Nicaraguan border). They were able to reach an agreement with the company for better wages. They went on strike one more time in January 2018, but still without any results. Except for some minor skirmishes in a roadblock in Guácimo and some police repression in the 2018 strike, it appears that the struggle has not been marked by violent episodes.",
         "no-a-la-pineria-en-costa-rica",
         null,
         null,
         null,
         null,
         null
        ],
        [
         "11",
         "SIM",
         "A collision in the early morning hours of November 23rd 2002 between the \"Tasman Sea\", a Maltese oil tanker laden with 81,000 tons of crude oil and a Chinese vessel, the \"Shunkai No.1\" triggered a massive oil spill. The spill caused serious pollution in the waters off the port of Tianjin and part of the bay area near the city of Tangshan, leaving behind a heavily polluted maritime ecological system [1].  According to official reports, the oil spill measured 2.5 nautical miles in length and 1.4 nautical miles in width in the Bohai Sea. [2]The case is of paramount importance as it is the first in China in which maritime authorities used the courts to claim compensation for environmental damage at sea. With the authorization of the State Oceanic Administration (SOA), the Tianjin Maritime Bureau brought a lawsuit in the Tianjin Maritime Court against the owners of the \"Tasman Sea\" (Infinity Shipping) and its insurer, the London Protection and Indemnity Club, seeking compensation for damage caused to the maritime environment. It is the first marine ecological claim in China, following its accession to the 1992 International Convention on Civil Liability for Oil Pollution Damage [3].On December 30, 2004, after two years of investigation, the Tianjin Maritime Court ordered the two defendants to pay out a total compensation of 42.9 million yuan (US$6.7 million) to the plaintiffs. Over 17 million yuan (US$2.6 million) were ordered to be paid out to the group of 1,490 fishermen plaintiffs, that had been impacted by the spill. Over 15 million yuan (US$2.3 million) were assigned to Tianjin Fisheries and Harbours Office for losses to fishery resources. Almost 10 million yuan (US$1.5 million) in compensation were intended for the Tianjin Maritime Bureau. Of which 7.5 million yuan were meant to compensate for the loss of environmental capacity and 2.5 million yuan making up for the costs of investigation. Following the verdict, the defendants immediately appealed to the Tianjin Higher People's Court. As a result, seven years later, the defendants only paid out about 21.2 million yuan (US$3.3 million), less than half of the original amount of compensation [4].Despite the fact that the case against the Tasman Sea and its insurer was not a victory in financial terms, the lawsuit was a landmark for upcoming cases. It raised awareness between officials in Chinese maritime authorities for their possibilities in claiming compensation through the courts. Additionally it set a precedent for safeguarding the rights and interests of China's marine ecological environment, which has had a profound impact on the maintenance of China's marine ecological rights. The case served also as a precedent for finding within the scope of damages owed by a responsible party: losses to maritime ecological functions, cost of restoration of maritime sediment, cost of restoration of tidal shoals and other environmental costs [5].The case of the Tasman Sea prompted the State Oceanic Administration in 2007 to publish the \"Guidelines for Evaluation of Environmental Losses Due to Maritime Oil Spills\" [6].",
         "tanker-oil-spill-in-the-bohai-bay-near-tianjin-china",
         null,
         null,
         null,
         null,
         null
        ],
        [
         "12",
         "NÃO",
         "On the morning of 17 January, 2017 Mofijul Khan (26) and Alam Mollah (22), died of gunshot wounds during a protest organized by the villagers which turned violent. The villagers of Polehat II panchayat of Bhangar in the South 24 districts in West Bengal have been protesting for many months now against the construction of a sub-station and the high voltage transmission lines.  The story starts in 2013, when the Trinamool Congress, the ruling party in the state of West Bengal since 2011, forcibly acquired 13 acres of agricultural land in Khamarait for construction of the power project by Power Grid Corporation of India Limited (PGCIL). PGCIL is a central government organization which had planned to set up the substation of 440/220KV for transmission of electricity [1]. The substation would have an insulation of sulphur hexafluoride (SF6) and along with an associated 953 Km (480 Km passing through West Bengal) length of 400KV double circuit, 450MW Transmission lines for transmitting power between West Bengal and Purnia in Bihar would cost about Rs.1200 crores. The power for the substation will be provided from the NTPC power projects at Farraka in West Bengal and Kahalgoan in Bihar [2]. The villagers were informed that the power would be used to electricify nearby areas, and the normal transmission lines would be constructed along the road sides [2]. However, in early 2016, when the sub-station was nearly completed and the transmission lines were starting to be installed, the villagers found out that the transmission towers were being constructed in their fertile fields, without their permission. This made the villagers suspicious. The villagers were also not informed of the number of transmission towers which were to be constructed. There was a clear lack of transparency in the dealings of the state authorities with the villagers [2].  The protests gained momentum in October 2016 as the villagers became more aware of the consequences of the sulphur hexafluoride insulated substation and the high voltage transmission lines through their fields. According to Nisha Biswas, a scientist who has joined the movement, \"High tension lines create strong electromagnetic fields (EMF). The EMF can extend to about 300 meters and is the strongest directly under the power lines, and gradually fades away with increasing distance. Many have experienced mild electric shocks while walking under lines while walking with an umbrella even on a clear day. The field is so high that if one places florescent tube under the current carrying high voltage wire, it lights itself without any electric connection.\" [3] With the help of the CPI(ML) Red Star, the villagers started an independent committee called Jomi, Jeebika, Vaasthuthahntro, O Parivesh Raksha Committee (Committee for Protection of Land, Livelihood, Biodiversity and Environment) to demand this project to be shut down. Since December 2016, this Committee submitted numerous memorandums to the local bloc, thane, district and state authorities to resolve this serious problem affecting thousands of the people through discussions. In spite of a number of mass mobilizations in the area, followed by a march to Kolkata Raj Bhavan, and then a successful road block on 11th January, the authorities refused to talk with the committee [4]. Instead during the evening of 16 January 2017, the police came into the village and picked up one of the prominent activist, Kalu Sheikh for questioning. Villagers of Machhidanga hit the streets demanding his immediate release. According to the villagers, within hours of witnessing clashes, Sheikh was released by the police after pressure mounted on them [1]. However later that night police returned and used tear gas and lathi chargers the villagers, destroying property. This resulted in the violence of 17 January 2017, where two members were killed and several others injured. Angry villagers vandalised police vehicles and set at least three buses on fire. They uprooted trees, blocked roads with the trunks and hurled brickbats at the police [5].   State terror was further intensified, arresting 11 members of the Committee as well as comrade Pradip Singh, state secretary of the CPI(ML) Red Star and comrade Sharmistha, central committee member of the party and General Secretary of the AIRWO, imposing UAPA provisions on them. After remanding to police custody since 25th January, on 8th February they were sent to Alipore jail. The statement being given by the West Bengal Chief Minister's office is that it has received intelligence report that some leftist extremists are trying to provoke the farmers of Bhangar [6]. The Vice President of the party Mukul Roy said, 'It's clear that these people do not want development in the state.' [7] However, this protest is gaining momentum as there were more protests in Kolkata and a massive rally on 30 January 2017. The project is currently suspended, but it is too soon to tell whether it will remain so in the future.",
         "protest-against-high-voltage-transmission-lines-in-bhangar-west-bengal",
         null,
         null,
         null,
         null,
         null
        ],
        [
         "13",
         "NÃO",
         "Spread over the districts of Bankura, Purulia, Midnapore, Burdwan, there are around 100 sponge iron factories. Most of these factories operate out of the coal-rich Burdwan district. To produce sponge iron, which steel plants use as feedstock, these units burn coal to heat iron ore. These factories are providing employment to around 11,000 workers. These workers are mostly working on contract basis, deprived of minimum wages, health and other social security benefits. In the adjoining areas, people's lives have been greatly affected by the pollution caused by these factories. Most people are facing severe health troubles, mainly breathing problems. All water sources, including drinking water, in nearby areas are polluted. Sal leaves, which provide livelihood to thousands of people from collection and sale, have dried up. This is affecting their livelihood. Food crops in the nearby areas are also been greatly affected [1], as most of these units use coal with high ash content. The coal used in these factories are considered inferior in quality and sourced mostly from illegal private mines. Many of these factories even switch off pollution control devices to save power costs. The smoke typically contains a lot of harmful gases, such as oxides of carbon, sulphur and nitrogen, and substantial quantities of fine particles, mainly fly ash [2] In such difficult circumstances for the common people, Nagarik Mancha and other organisations have released a pamphlet in Bengali questioning government's policies concerning environment and pollution, and also demanding that these factories should be closed immediately [1]. In the last couple of years, West Bengal State Pollution Control Board (WBSPCB) has issued closure notices to 50-60 units for not abiding by its norms.",
         "sponge-iron-factories-in-west-bengal-india",
         null,
         null,
         null,
         null,
         null
        ],
        [
         "14",
         "NÃO",
         "India proposed to build the barrage in 1984 on the River Jhelum, at the mouth of Wullar Lake, Indias largest fresh water lake, at Sopore in Kashmir Valley. According to the original Indian plan, the barrage was expected to be of 439-feet long and 40-feet wide, and would have a maximum storage capacity of 0.30 million acres feet of water. India claims the barrage would make the river navigable in summer [1]. Pakistan considers construction of Wullar Barrage by India near Sopore in Occupied Kashmir Valley as a violation of the 1960 Indus Waters Treaty. Islamabad fears the barrage can disrupt water flows into Pakistan [2] Pakistan also believes that the barrage could be used by India to control the flow of the river and can be used as a geo-strategic weapon. The barrage also has the potential to disrupt the triple canal project of Pakistan-Upper Jhelum Canal, Upper Chenab Canal and the Lower Bari Doab Canal [1]. So far, different rounds of talks have been held on the disputed barrage. The two countries have held 13 rounds of talks on the issue so far, including four rounds under the composite dialogue. It has yet to resolve the issue [2, 3]",
         "wullar-barrage-tulbul-project-in-kashmir-india",
         null,
         null,
         null,
         null,
         null
        ],
        [
         "15",
         "NÃO",
         "In May 2000, as part of the government ́s aggressive policy adjustments for attracting multinationals, British Petroleum (BP) and state-owned Empresa Colombiana de Petróleos (Ecopetrol) signed an oil exploration contract for the Niscota oil block covering 62,275ha of land in the northeastern part of the Andes mountain range encompassing the municipality of Paya in Boyacá as well as the municipalities of Paz de Ariporo, Támara, Nunchía, and Yopal in Casanare [7]. In July 2005, however, BP and Ecopetrol returned their shares owing to not having a promising exploration phase. BP did drilling in the area that reached depths of 19,000 feet (5,795 meters) without positive results, despite requiring investments of about $80 million. Yet In September 2006, the National Hydrocarbons Agency then sold additional oil contracts to Total, Repsol, Corporinoquia, Equión, Tempa, Perenco, Hocol (subsidiary of Maurel & Prom), Pluspetrol, Talisman, and Lukoil, as well as recontracted those of Ecopetral and BP [6].Paya, in Boyacá, is an especially vulnerable town with a 94% poverty rate and a long history of repression and exclusion [10]. The local population of 5,000 does not have access to electricity, roads, proper sewage, and is 75% illiterate. In 2002, BP announced plans to drill wells in Paya for Niscota [8]. Local groups have long been organizing against the project because of the serious threats that it poses to local communities, indigenous peoples, and the environment [1]. For decades, activists have been protesting and litigating against the Niscota oil block for polluting groundwater reserves, disrupting ecological balances, destroying biodiversity and protected ecosystems/species, violating prior consent rights, causing loss of livelihoods, threatening culturally important sites, threatening public health, encroaching upon indigenous territories protected by recognized land rights, lack of environmental impact analysis, and more [4]. Niscota is also precariously sited on top of fault lines. However, the Ministry of Mines and Energy refuses to acknowledge that prior consultation was necessary on the false grounds that there are no ancestral people nearby [10].The Niscota oil block is especially notorious for its violence and threats against local leaders, particularly coming from a thug group called \"The Black Eagles Movement of Social Cleaning of the Casanareño Piedemonte\" as well as from the XVI Brigade military group, the ELN (National Liberation Army) guerrillas, and the FARC EP Front 28 [1, 10]. Guerilla, military, and thug groups camp around farms and towns to threaten locals with kidnappings, assassinations, extortion, recruitment, harassment, torture, sexual assault of women, and more [10]. Notoriously, on December 15, 2012, hitmen shot and killed activist Rosa Helena Bernal Pinto, who was the leader of the Peasant Association of Morcote and the Province of La Libertad, Peasant Workers Protectors of the Land and Territory (ASOCAMPROV-LIBERTAD), and collaborator of the Claretiana Corporation \"Norman Pérez Bello\" (a religious civil society organization) [9]. [12]. She had been fighting against the Niscota oil block since July 2012. Neighbors found her body after hearing the gunshots between 15:00 and 17:00 that day, but were not able to report which armed group committed the crime. At 18:00, children, relatives, and supporters were transporting the body on the way to Morcote, a nearby urban area, when two bombs went off, killing two. The villagers scattered and hid, and there has still never been any resolution [10]. Hitmen also attacked community leader José María Largo, who since 2014 has been confined to his house following violent threats and an incident wherein he was confronted on horseback and paralyzed, forcing him to use a wheelchair [1].",
         "niscota-oil-block-and-military-violence-in-boyaca-and-casanare-colombia",
         null,
         null,
         null,
         null,
         null
        ],
        [
         "16",
         "NÃO",
         "In 1608, Captain John Smith sailed up the Anacostia River, and thus began the industrialization of the river and surrounding areas that have polluted it ever since. In the 18th century, a port was established on the river at its mouth at Bladensburg, Maryland, and the area only continued to be developed. The river was soon polluted by shipbuilding at the Washington Navy Yard and an upriver coal gasification plant [10]. The Washington Navy Yard was classified by the EPA as a Superfund site in 1998 [9]. By 2000, approximately 70% of the watershed had been developed [19]. Since the beginning of the industrialization of the Anacostia, it has faced numerous issues, namely stormwater runoff and urban waste pollution. About 25% of the watershed is covered by impervious surfaces, causing storm water to flow into the river rather than sink into the ground [17]. Runoff brings sediment, toxins, heavy metals, agricultural waste, trash, fecal bacteria, oil, antifreeze, and other pollutants into the river, while also accelerating currents, eroding the banks and increasing sedimentation [19]. The National Resources Defense Council estimates that 75-90% of pollution in the Anacostia is caused by stormwater runoff [7]. Another source of pollution is D.C.'s outdated sewage system, which allows about half a billion gallons of raw sewage to flow into the Anacostia each year. As a result, the river is laden with fecal bacteria, at levels which measure many times more toxic than permitted by public health standards [15]. Before the Clean Water Act passed in 1972, the Anacostia served as a dumping ground for toxic waste. Long-lasting toxins remain in the sediment today, and there are six known \"legacy toxic sites\" in the Anacostia [12]. Toxins still flow into the river from old sites of development as well [8]. These toxins include pharmaceuticals, polychlorinated biphenyls (PCBs), polycyclic aromatic hydrocarbons (PAHs), pesticides, herbicides, and heavy metals. These contaminants are destructive to fish and to all organisms that eat them, disrupting and affecting the food chain and ecosystem of the river [19]. The Anacostia is also littered with trash. It is the second U.S. river declared to be \"impaired by trash\" [12]. Another issue faced by the river is wetland destruction, as 96% of tidal wetlands in the watershed have been destroyed. Wetlands are essential for ecosystem health, and their absence degrades the water quality [9].  The destruction of the Anacostia River is an environmental justice issue as the communities through which it flows are predominantly populated by low-income people of color [11]. The Anacostia meets the Potomac River in D.C., and the Potomac flows primarily through communities of wealthy white people. The Potomac River was once just as degraded as the Anacostia. However, in the 1960s, efforts were made to clean the Potomac, and today it is described as healthy [5]. Even though the Potomac is faster flowing than the Anacostia, and is therefore less susceptible to pollution, it has received extensive attention and assistance while the Anacostia remains polluted. Ironically, the Anacostia feeds into the Potomac, thus its pollution goes into the Potomac albeit in diluted form [11]. Today, the Potomac is a popular tourist destination that houses many landmarks on its waterfront, while the Anacostia has been nicknamed \"the forgotten river\" [4]. The people living by the Anacostia are disproportionately affected by its contamination. In the mid 20th century, when pools were segregated, many African American people swam in the Anacostia instead. In addition to the numerous drownings that occurred, additional dangers arose from the fact that the river was already dangerously contaminated by that time [18]. Additionally, in 2012, a study found that over 17,000 people rely on subsistence fishing in the Anacostia, and though these fish are toxic to eat, many people cannot afford other options [14]. The river also releases a foul smell [11]. While the wealthy white people who live near the Potomac are able to enjoy the river as a green space and place of recreation, the Anacostia is unable to offer these things. Many people are unable to access the river due to obstruction by highways, train tracks, fences, and contaminated land. In 2003, only two out of the fifteen communities bordering the Anacostia were able to access it. In many places, it is only reachable by car or bicycle, which makes it inaccessible to those who cannot afford these transportation methods [4]. Since the late 1980s, efforts have been made to clean up the Anacostia. The Anacostia Watershed Society (AWS), a local NGO, has been working to clean the river with a goal of fishable and swimmable waters by 2025 [9]. In 2009, they installed a trash trap at Nash Run, a stream that feeds into the Anacostia. Between February 2009 and June 2011, the trap captured about 3,300 pounds of trash [10]. In 1998, former D.C. mayor Anthony Williams formed the Anacostia Waterfront Initiative (AWI). The AWI's Framework Plan was intended to economically rejuvenate the area. However, the Framework Plan focused primarily on developing the West side of the river, which is a wealthy, white area of D.C. The East side, a low-income, predominantly African American area of D.C., was not developed. Yards Park and Nationals Stadium are two developments on the West side of the river instigated by the Framework Plan. Though intended to economically bolster the area, these sites are largely unaffordable and inaccessible to residents of Southeast D.C. Not only did communities on the East side of the river not benefit, they were actually harmed, as these developments inadvertently caused housing prices to rise in Southeast D.C. In 2001, the AWI began renovations on the Arthur Capper/Carrollsburg Public Housing Project. The intention was to mitigate effects of gentrification, but that did not occur. Complexes were torn down and new ones have yet to be completed. Some units were completed but were situated in areas with contaminated soil. Furthermore, many low-income housing units are inaccessible to truly low-income people, as the median income in D.C. is so high that it skews the data. Despite, and perhaps because of the AWI's efforts, the river remains a symbolic dividing line between both the poor and the rich and white people and people of color in Washington D.C.  In 2009, D.C. passed the Anacostia River Cleanup and Protection Act, which added a five-cent tax to plastic bags, in an effort to reduce litter. This has been largely successful [4]. In 2011, Earthjustice won a court case requiring the EPA to set reasonable limits on pollution from sewage and storm water overflow systems [15]. In 2011, D.C. Water began its Clean Rivers Project, a plan to control sewage overflow. The Blue Plains and Anacostia River Tunnels were completed in March of 2018. These first seven miles divert sewage from the river, and in 2018, the tunnels prevented 4.6 billion gallons of sewage and 900 tons of trash from entering the Anacostia, having been redirected to the Blue Plains Advanced Wastewater Treatment Plant. The Northeast Boundary Tunnel is the next section, and it is slated to be complete by 2023 and will add approximately 90 million gallons of storage [1]. In 2016, laws prohibiting Styrofoam went into effect in Prince George's County, Montgomery County, and D.C. In 2018, the Anacostia passed the AWS's annual State of the River Report Card, with a D- grade; this was the first year it did not fail. Scores for fecal bacteria, water clarity, and chlorophyll all improved, likely as a result of D.C. Water's work improves sewage output. Sewage overflows were down by 40% in 2009 and 60% in 2011. Submerged aquatic vegetation has reappeared in the river, meeting the AWS's goal of 20 acres of coverage. However, in 2019, the Anacostia failed the same report. The AWS remains optimistic, stating that this is likely a result of dissolved oxygen depletion due to extreme weather [19]. In October 2020, the city of DC released their game plan for river clean up, addressing the areas with the highest contamination and hoping to clean 77 acres, which would reduce health risks from contamination by 90% [20]. The next step is to acquire the appropriate permits, with hopes to break ground over the next few years in order to clean up the watershed, protect the environment, and improve the lives of the community.",
         "anacostia-river-environmentally-degraded-by-pollution-and-urban-waste-usa",
         null,
         null,
         null,
         null,
         null
        ],
        [
         "17",
         "NÃO",
         "Urban heat islands are becoming an increasing threat to the health of residents with rising temperatures due to climate change. Phoenix AZ is one of the fasts growing cities in the United States and the state of Arizona has three to seven times more heat related deaths than the United States overall from 1993-2002 [1]. While direct action on this issue remains fairly limited there has been increasing academic attention to the problem. At this stage no EJOs have emerged focusing on the source of the climate change source of the problem. Rather most action has come from community nonprofits providing relief and emergency assistance in the response to heat waves.",
         "extreme-heat-events-phoenix-arizona-usa",
         null,
         null,
         null,
         null,
         null
        ],
        [
         "18",
         "NÃO",
         "Currently in the Alto Ariari region, the socialization processes of the \"Guarupayo Exploratory Drilling Area\" project are being carried out as part of the CPO9 Eastern Plains oil block. This exploration process would be carried out by the company Mega Oil, contracted by ECOPETROL, the holder of 55% of the CPO9 block, alongside Talisman Energy Inc, which holds the remaining 45%. On November 8, 2013, the communities organized a march called \"No to oil exploration in the Ariari,\" in which they expressed opposition to the Guarupayo area project because it would put at risk the stability of the Ariari River, considered the \"backbone of agricultural and livestock development of the smallholders in the region and ensures the vital consumption of the inhabitants,\" making this region considered an agricultural pantry for the country for years; they also consider that oil extraction is a setback to the progress made by the community and local authorities in promoting tourism development around the river, which is one of the most important resorts in the region. The socialization process carried out in 2013 was also one of the triggers for this opposition by the inhabitants of the municipalities in the region that will be most affected in the exploration process: El Dorado, Granada, El Castillo, and Cubarral. In the municipality of El Dorado, they denounce that Ecopetrol has incurred irregularities in socialization regarding community participation, arguing that fragmentations have occurred in the participation of communities, limiting access for the more remote population, as meetings are held in the urban area, 2 or 3 hours away from the veredas that are to be intervened. In the municipality of El Castillo, the socialization activities have had to be suspended on two occasions due to public order problems. In Granada, the company has been supporting cultural events of historical recognition of the territory, which has sparked the indignation of the communities as they are against the company that plans to change their landscapes and environmental surroundings supporting historical reconstruction processes where the interrelationship traditionally woven by the inhabitants with their river and the piedmont are evident; there they also accuse ECOPETROL of attempting to divide the communities with perks to leaders or job offers to the inhabitants. In early 2014, the communities in these municipalities stated that they were making arrangements and seeking advice to carry out popular consultations in their territories regarding oil exploitation.",
         "exploracion-petrolera-en-el-alto-ariari-meta",
         null,
         null,
         null,
         null,
         null
        ],
        [
         "19",
         "SIM",
         "Nigeria is the sixth largest oil exporter worldwide [11]. Most of its oil comes from the Niger Delta, which fuels its entire economy. However, villagers there do not receive any of the economic benefits from the oil trade [5]. The delta used to be abundant with fish and farming, but  women, who are primarily responsible for such subsistence activities, report that land dispossession and pollution from the oil industries have destroyed the environment [1]. One U.S. company, ChevronTexaco (also known as simply \"Chevron\"), is particularly to blame for the shocking poverty and environmental degradation in Escravos, where schools often have no roofs or books, hospitals have no equipment or windows, there is little work, the villages have no sanitation [5]. Oil companies such as Chevron began such chaos owing to \"male deals,\" wherein some of the men in villages made deals with oil companies in hopes of bringing in economic development without the consent of the rest of the village, particularly without consent from women who were more intimately aware of the consequences of these deals from their subsistence work [2]. Christiana Mewe, a women's activist group leader from Escravos, said, \"Our land is sinking.  We cannot farm, we cannot kill fishes and crayfish from the river again, every where, pollution ... It is the gas that Chevron burns that is causing it\"  [3]. Ororo Irene, another female protest movement leader, added, \"We have no good water source ... Most of the time we have spillage, which brings oil to the river.  You cannot use it to wash clothes, how much less to bath ... The gas that Chevron is burning, when the rainfalls into a drum, the water will be white.  It is the gas.  When we drink it we always fall sick.  The oldest person in town is no longer more than forty\" (sic) [3]. Protesting in the Niger Delta goes back 40 years, against the Shell company. In Escravos it was already common from the early 2000s when locals demanding a fairer share of the oil money, would often kidnap workers from oil companies and demand ransom. Armed men would also sabotage oil companies to pressure them for jobs, protection money, or environmental damage compensation [15]. In one particular incident in April 2002, the ChevronTexaco Escravos site was attacked and 43 oil workers were taken hostage [4]. Women began organizing a very different kind of peaceful protest. On Monday July 8, 2002, a core group of middle-aged women activists (Queen Uwara, Alice Oyuhe, Christiana Mewe, Ororo Irene, Anunu Uwawah, and more) affectionally called \"the mamas\" but formally known as the Escravos Women Coalition led more than 600 women ages 30-90 from local indigenous communities (the Ugborodo, Ogidigben, Ajudiagbo, Imaghaho, Itsekiri, and Iyala peoples) in a ten-day occupation protest at Chevron's main oil terminal in Escravos, hijacking the ducks, airfield, gas plant, and tank farm [2, 3, 5, 11]. This manifestation came about when the women had been tired of waiting for three weeks for a response from Chevron to a list of demands they sent [5]. Men were not allowed to join the protest because, as Alice Oyuhe explained, \"We don't want men there ... if our boys and men come Chevron will say we want to come and fight them.  But as the women went there, we didn't touch their things, we only stopped them from working.  What we want is to stop them from working\" (sic) [3]. The occupation started with an infiltration team of 150 women who first snuck into the facility. Making way for the rest of the protesters, the rest of the women, communicating with the infiltration team through walkie-talkies, then blocked the airstrip, helipad, and port, the only exits at the facility, which is surrounded by swamps and rivers. As Anunu Uwawah recalled, \"I was the leader of the air strip team. If any plane came, I would drive my people there and we circled it\" [11]. They brought their own food in straw mats and thermoses and cooked meals in the terminal cafeteria, also rotating shifts with reinforcements from the outside [9]. During the following days, fellow women and even some allied men also occupied twelve other oil facilities across the Niger Delta in coordination with this main protest. Over 1,000 women occupied six oil stations belonging to Chevron specifically including Abiteye, Makaraba, Otuana, and Olera Creek. 100 women even paddled a massive canoe for 8km into the high seas to take over Chevron's deepwater operation in the Ewan oilfield [2]. Chevron attempted to evacuate its expatriate staff, shut down production and refused to negotiate with the women, though 700 U.S., British, Canadian, and Nigerian workers were still trapped in the terminal that first day. Two hundred employees were allowed to leave Sunday, and hundreds more two days later, leaving just a few dozen inside. [2, 6]. On Wednesday July 10, 2002, two days after the occupation began, about 100 police officers and soldiers armed with assault rifles stormed the terminal to protect the facility [11]. Indeed, Queen Uwara, deputy chairperson of the Escravos Women Coalition, stated, \"Chevron brought soldiers and police to threaten us when we were at Chevron yard. If Chevron wants to kill us, we are no longer afraid\" [2]. Rapes, beatings, forced prostitution, and murder were all common tactics that soldiers employed to take down female protesters. Attacks on men as fathers, husbands, and sons also hurt women for a multitude of reasons, such as how widowed women are typically disinherited or outcast. The police officially claimed that they were strictly ordered not to hurt any of the women, but various women had been attacked anyway [5]. The occupation remained peaceful, however, and the women retaliated by threatening to take off their clothes. This gesture is called the \"curse of nakedness,\" and is the most powerful thing a mature woman of 40 or older can do to seriously shame people [5]. There is also the common belief in rural communities that the act inflicts magical curses on enemies ranging from madness to death [1]. As the occupation became a mass naked protest of more and more women, shaming Chevron, they finally began negotiating with corporate management. The protesters initially had 26 demands, including establishing a permanent conflict resolution board between multinationals, the state, and local women; permanently hiring community representatives from each village; building vital infrastructure; giving all elders older than 60 a monthly stipend of $375; providing new ways for villagers to generate more income; and most importantly, getting rid of all local Chevron facilities [2]. However, after ten days of the blockade, the women signed a memorandum ending the occupation in exchange for the company's promise to improve sanitation, give villages electricity, build schools, clinics, town halls, chicken, and fish farms, and employ 25 locals for five years [2, 4, 5]. During these ten days of protest, the terminal was prevented from producing approximately 500,000 barrels of oil each day [4].Despite the initial celebration of this partial success, Chevron as well as Shell who had owned other oil facilities occupied by the second wave of women activists after the Monday infiltration in Escravos were taking too long to implement their promises. Consequently, on August 8, 2002, over 4,000 women from the Warri, Ilaje, Ugborodo, and Ijaw tribes performed another peaceful operation and naked protest at the companies' regional headquarters in Ekpan as four additional Chevron facilities in the Niger Delta [2, 7, 15]. These women refused to budge until senior company executives would get moving on their promises to improve the communities and provide jobs. They did not sabotage any equipment and just sang together, but were still attacked by police and soldiers, according to protest leader Josephine Ogoba [15]. Protester Alice Youwuren elaborated, \"we were just singing, we didn't destroy anything. We were peaceful. The police and soldiers misbehaved. Look at me, seven armed men pounced on me and reduced me to nothing\" [2]. The United Nations Integrated Regional Information Network reported that Shell police killed at least one woman, though Shell refuted the claim, saying that \"to the best of our knowledge, the protests at our offices went without any major incident\" [2]. Two days later, the companies reached another verbal agreement promising to provide the jobs and amenities, and Chevron even promised to throw a party for the women, their families, and their neighbors as a thank you for not damaging the facility equipment [15].During this time, another 50-member wave of these protesters were also occupying Chevron's deepwater Ewan oilfield facility. The naked women brought samples of their broken fishing equipment and polluted water to the offices in boats, with leader Ibimisan Ebiwonjuni stating, \"Our fishing lines and waterways have been destroyed, and our commercial trees, straw-mat farms are all dead as a result of gas flaring and oil spillage\" [7, 8].  Irene Wamala also threatened the curse of nakedness, showing her genitals in retaliation for the companies not paying for her hospital bills [1].  Having been shut down so many times in 2002, Chevron agreed to not only clean up the environment and provide amenities to locals, but also shut down  one of its Ewan oilfield facilities [7].The relative success of the naked protest movement rapidly gained attention worldwide. In solidarity,  on September 26, 2002, Nigeria's Environmental Rights Action, Project Underground and Acccion Ecologica, the Ecuadorian affiliate of OilWatch International started a boycott against Chevron's oil, and more than a million people in the U.K. launched a similar boycott against ExxonMobil to resist the atrocious conditions in oil producing countries. Furthermore, on November 12, 2002, women in California, inspired by the Nigerian story, started a movement around the world doing naked protests against the imminent Bush attack on Iraq. From February to July 2003, Nigerian men working in the oil industry also striked in solidarity with women doing another naked protest occupation for eight days against Chevron., and another one again happened from July to September 2003 [2]. Not everything was a happy ending, however, as in 2005, Chevron began cutting its community amenities projects because much of the approximately $60 million for aid was fueling further violence and corruption because of a serious lack of transparency [5]. Uneven implementation favoring the communities in the most profitable oil zones sparked a lot of hostility, jealousy, and violent outbursts between neighbors [16]. Moreover, many young men hired as part of the deals were paid to basically do nothing and often also threatened and extorted people for protection money during occupations, kidnappings, and oil theft. Consequently, in February 2005, villagers demanding that Chevron still honor the promises for jobs and amenities at a protest at the Escravos facility were also shot at, killing one person and injuring several [2].",
         "nigerian-womens-war-against-chevrontexaco",
         null,
         null,
         null,
         null,
         null
        ],
        [
         "20",
         "NÃO",
         "The Huachón commoners in Pasco have been raising their voices of protest, demanding that Statkraft Peru S.A. fulfill its commitments and not damage their pastures affected by the reservoir and release of water from the dams in the Jalco and Altos Machay lagoons. The Norwegian company Statkraft manages these dams near the territories of the Huachón peasant community. For the construction of the dams, the company channeled six lagoons, which the peasants use for their agricultural and livestock activities. The population of Huachón did not approve the construction of the dams. In 2006, the peasant community held a strike, and three commoners were judicially prosecuted. The process continues to this day. The community has independently conducted a study to determine the environmental impact of these dams. Since 2010, the commoners have been demanding that the agreements reached on October 10 of that year be fulfilled, especially to compensate the commoners for the consequences of the reservoirs and releases. In May 2015, the commoners initiated an indefinite strike to protest against the havoc caused by the company Statkraft, which they accuse of causing artificial rain with silver sulfate, damaging their pastures and the Huaguruncho snow peak. Additionally, the company refuses to engage in dialogue and environmental management in the areas of the Jalco and Alto Machay lagoons. The strike paralyzed the activities at the three dams of Alto Machay, Tingo Cancha, and Huachón, which generate and supply water to the hydroelectric plants of Yuncan I, Yuncan II, and Yaupi. The strike lasted for 6 months, and a \"technical\" dialogue table was set up. The company committed to compensating the commoners for the problems caused by the reservoir and release of water. They will meet periodically to evaluate the fulfillment of the agreed commitments. There have been marches and road closures.",
         "comunidad-de-huachon-against-statkraft",
         null,
         null,
         null,
         null,
         null
        ],
        [
         "21",
         "NÃO",
         "Geothermal energy is an energy source used to produce electricity whose environmental impacts varies greatly from one area to another, depending on the hydro-geochemistry composition of the geothermal ground and on the technologies used. In Mt. Amiata, Tuscany, local committees affirm that Geothermal energy practiced by Enel Green Power, is neither renewable nor sustainable. Mount Amiata is a dormant volcano located in the provinces of Siena and Grosseto in the southern part of the Tuscany region. The mountain aquifer, one of the richest in Italy, supplies water to about 700,000 citizens in the provinces of Grosseto, Siena and Viterbo. The exploitation of geothermal resources there began at the end of the 1950s. The oil crisis of the 70s led to an intensification of exploration and exploitation of geothermal resources for electricity production, especially by Enel. In the 1990s, a high enthalpy geothermal well was discovered at a depth of about 2 500-4 000m with high potential for electricity production. Towards the end of the twentieth century alarm has increased among local municipalities about the connection between geothermal exploitation, the reduction of the Amiata aquifer and the presence of high arsenic levels in water. Therefore, some administrations expressed the willingness to opt for a \"controlled divestiture\" of existing plants. However, in 2007, a turnaround has occurred and the majority of local administrations signed a Memorandum of Understanding with Enel and the Tuscany Region for the exploitation of geothermal energy in exchange for annual economic compensation [3]. The local municipality of Abbadia San Salvatore did not sign the agreement because of strong opposition to the geothermal exploitation of the area. Enel Green Power has over the years implemented several geothermal plants in the area. Currently it has four plants in the municipalities of Piancastagnaio and Santa Fiora. In 2012 Enel received the Integrated Environmental Authorization (IEA) for the new geothermal plant of Bagnore 4, whose construction started in March 2013. In December 2013 environmental organizations lodged an appeal against the authorization to the Regional Administrative Court (Tribunale Amministrativo Regionale, TAR) which temporarily revoked the IEA in January 2014. Local committees attribute the decrease of the Mt. Amiata aquifer, the increase of arsenic in drinking water and the increment of pollutant and harmful substances in the air to the exploitation of geothermal energy implemented by Enel. The Tuscany Region supports Enel's projects. The latter receives green certificates, subsidies and public funding and distributes to the regional authority and the municipalities an amount of money for environmental compensation as agreed in the 2007 MoU. Enel also gains the ability to produce energy in other places with fossil fuels, thanks to the carbon offset system. Citizens of the area gathered in March 2012 in a public assembly, and created the network \"Coordination of Movements for Amiata – SOS Geothermal\", which brings together those opposing the destruction of the territory of Amiata. The network claims that environmental destruction is perpetrated by promoting the false belief that geothermal is a renewable and clean source of energy. In the case of Amiata local committees brought to the attention of institutions and citizens the drastic reduction of the aquifer caused by the interference between the shallow aquifer for drinking water and the deep geothermal aquifer. Furthermore, they warned about the increase in the concentration of dissolved and accumulated heavy metals in the surface water and the emission of vapors into the atmosphere rich in carbon dioxide (the main emission from the geothermal field), mercury, arsenic, hydrogen sulphide, ammonia and other pollutants causing serious damage to the environment and health of inhabitants. Other serious menaces concern the risks of induced seismicity and subsidence. While the existing plants carry on working and new plants are planned, \"SOS Geotermia\" continues to disseminate information –based on scientific studies- on the impacts of geothermal activity in their territory and to promote discussions and confrontation with local municipalities.",
         "enel-geothermal-plants-in-mt-amiata-italy",
         null,
         null,
         null,
         null,
         null
        ],
        [
         "22",
         "NÃO",
         "In 1976, during the last dictatorship in Argentina, the incineration of waste by individuals was prohibited and existing incineration plants were closed, promoting the \"sanitary landfill\" modality. The municipalities of the City of Buenos Aires and the provincial government created a state company, \"Metropolitan Area Ecological Belt State Society\" (CEAMSE), dedicated to the recovery of low-lying lands and landscaping: the landfills would be located in low-lying and flood-prone areas to raise their level and transform them into recreational parks. The \"cirujas,\" or waste workers, were expelled from the system and persecuted because their activity was prohibited. CEAMSE constituted an experience of waste management privatization, awarded to Waste Management Inc., associated with the Argentine group SOCMA (from the Macri family) to create the company Manliba. It generated a regional management system with landfills located in the province, outside the City of Buenos Aires: Bancalari (later José León Suarez, in San Martín), Villa Dominico (Avellaneda and Quilmes), González Catán (La Matanza), and Punta Lara (Ensenada). A \"Camino Parque del Buen Ayre\" highway was also planned to consolidate a beltway within the Metropolitan Area of Buenos Aires. In 1987, the name was changed to \"Ecological Coordinator Metropolitan Area State Society\": it would only limit to the disposal of waste, not to landscaping. In the 90s, citizen movements against these landfills arose. First, against the Villa Domínico landfill: in the face of an increase in the number of diseases, mainly in children, and 10 deaths from leukemia, the \"Mothers of the Towers\" were organized. Their struggle, along with \"Ambiente Sur,\" pressured the municipality of Avellaneda, and in the face of protests in 2003, in 2004 they achieved the closure of the landfill. In González Catán, in the face of increasing diseases, the \"Self-convened Neighbors against CEAMSE de González Catán\" was organized. In 2006, the \"Catanazo\" occurred: thousands of people demonstrated for an end to waste disposal, demanding the release of repressed and detained neighbors for blocking the entrance to CEAMSE. In Punta Lara, the struggle of the NGO Nuevo Ambiente, the Environmental Assembly No + CEAMSE, and the Neighborhood Center Punta Lara, reached the Supreme Court of Justice of the Province of Buenos Aires, which in 2007 ruled the definitive closure of the landfill due to environmental damage, which has not yet been realized. In José León Suarez, the lack of control over the actions of the police forces in the CEAMSE premises has led to repression, beatings, shootings, sexual abuse, and theft of the collected items by the police towards the \"cirujas,\" including women and children. In 2004, a teenager was covered by a garbage truck discharge, disappeared, triggering a conflict that led to the creation of sorting plants. However, many people still depend on informal waste collection to survive. The search for alternative disposal sites has generated resistance movements in the proposed locations, including cities in the interior of the province of Buenos Aires, such as Olavarría and Tandil.",
         "ceamse-y-el-conflicto-por-la-gestion-de-los-residuos-en-buenos-aires-argentina",
         null,
         null,
         null,
         null,
         null
        ],
        [
         "23",
         "NÃO",
         "Since 2003, the indigenous people of the Talamanca region, located in the province of Limon, have heard about the presence of Norwegian mining explorations seeking gold on their lands. The issue of mining is not new in Talamanca. During the last mining cycle in the 1990s, its inhabitants had almost all of their territory requested for concessions. The Bribri people, in various assemblies, have massively rejected mining in their territory, believing that it opposes their way of life, which is based on respect for the nature that gives them life and culture, and which they hope to consolidate with their claims of autonomy and 'good living.' Since 2006, they have denounced the illegal mining explorations in the high parts of the Uren river in Talamanca, but in May 2008, the President of the Association for the Development of the Indigenous Territory of Talamanca Bribri signed a mining exploration permit in the Talamanca area. The permit was an individual decision, and consequently, by unanimity, the Board of Directors decided to dismiss him as President of the ADI Talamanca-Bribri. In 2008, various complaints demonstrate that the suspension is not real, and the illegal construction of a heliport was detected, which, according to neighbors, was used to extract 'material samples' from Mount Sukut. In 2010, the Environmental Technical Secretariat (SETENA) published a notice of presentation of an Environmental Impact Study (EIA) developed by Grupo Sureño Ocho Rojo, Sociedad Anonima, and granted a period of 10 working days for citizens to make observations. In the project file, the company expressly indicates its interest in exploring the existence of silver, copper, nickel, gold, molybdenum, and zinc deposits on the lands of the Bribri indigenous reserve. However, the Association for the Integral Development of the Bribri Indigenous Reserve (ADITIBRI) in Talamanca filed an opposition to the development of the project, considering, among other things, that the territory for which exploration is requested is the communal private property of the reserve, and therefore, it must be consulted with the indigenous people, in accordance with the provisions of article 6 of the International Labour Organization (ILO) Convention 169. They also add that 'Cerro Nomasol represents the temple of the spirituality of the Bribri and Cabecar people, a human intervention on the sacred mountain would be a desecration, sacrilege...'. In October 2010, a decree from MINAET suspended all procedures related to the pending gold mining exploration and exploitation before the Directorate of Geology and Mines and before SETENA. In their own statement, which adds to ADITIBRI's, Congressman Villalta asks SETENA to suspend the process of the metallic mining exploration application by Grupo Sureno Ocho Rojo, S.A. Additionally, he requests that the Environmental Impact Study be rejected for not complying with ILO Convention 169 and for contemplating a project not included in the application, such as the Uren mining exploration. Keywords: Bribri indigenous territory; Convention 169; Sacred mountain.",
         "bribri-mineria-costa-rica",
         null,
         null,
         null,
         null,
         null
        ],
        [
         "24",
         "SIM",
         "The peninsula of Hanhikivi is an important nesting area for numerous endangered species of birds, and its flora consists to a large extent of endangered and close to extinct plant species (1). Different parts of Hanhikivi are protected through different conservation agreements, two of them being FINIBA (Finland Important Bird Area) and Natura 2000. On this peninsula, the company Fennovoima wants to build a nuclear power plant, thus making this protected nature area an industrial one. Fennovoima is owned by a conglomerate of companies; the German energy company E.ON who owned a major share decided to abandon the project. It has been replaced by Russian company Rosatom who would build a completely different type of reactor than what Fennovoima applied for. Rosatom is currently building another nuclear power plant in Russia and evidences of inadequate security from this construction site has lead to concerns in Finland as well. (2) In 2007 the association Pro Hanhikivi was founded in Pyhäjoki to oppose the project. Since it started, the association has worked at local, national and international level and has joint efforts together with EJOs, such as Greenpeace, for fighting against the nuclear power project which is still in its planning phase. (3-11)By 2019-20 new delays were announced. According to a report by Bellona, \"the start-up date of a Russian-built Hanhikivi nuclear power plant in Finland has again been delayed over safety concerns, marking another embarrassing set back for nuclear energy in Europe as a whole. The announcement came from the Fennovoima consortium and Rosatom, Russia's state nuclear corporation, and pushes the beginning of the plant's commercial operations back to 2028 – four years behind the previous schedule and eight years later than the start proposed when the project initially received the support of the Finnish government in 2010. The delay is humbling for both the consortium and Rosatom, as both had promised that the project would run on time because it was based on proven technologies. But the consortium had warned in 2017 that the dual VVER-1200 reactor project could potentially face delays because Rosatom was having trouble getting approval from Finland's nuclear safety agency STUK.Yet Fennovoima had said that the planned 1200-Megawatt plant,would be operational,  Rosatom had echoed that assumption, telling the official Tass newswire it expected its safety clearance by this year by 2019. Should the plant become operational, it will be Finland's sixth nuclear power station. For now, though, Hanhikivi joins another delayed nuclear project in Finland – the Olkiluoto 3 plant. France's Areva and Germany's Siemens are building that plant, but Olkiluoto 3 is now more than a decade overdue, at a cost that's expected to be three times its original budget.\" The project has long been controversial because Rosatom is not just a supplier, but also the major shareholder and financial backer of Fennovoima. [13].",
         "hanhikivi-nuclear-power-plant-pyhajoki-finland",
         null,
         null,
         null,
         null,
         null
        ],
        [
         "25",
         "NÃO",
         "The Kishanganga Hydroelectric Plant is part of a run-of-the-river hydroelectric scheme that is designed to divert water from the Kishanganga River (which is called Neelum River in Pakistan) to a power plant in the Jhelum River basin. It will have an installed capacity of 330 MW; its construction on the project began in 2007 and is expected to be complete in 2016. In the meanwhile, Pakistan had also started constructing the Neelum Jhelum project on the Neelum River, located in \"Pakistan Occupied Kashmir\", with a capacity of 969 MW. Both projects follow similar principle of design and operation i.e. to divert a portion of the water to the power station before it is discharged back into the river. Pakistan fears that the Kishanganga Project will divert a portion of the Kishanganga water flow which will reduce power generation at the Neelum-Jhelum Hydropower Plant. The Indus Water Treaty, which regulates the use of Indus river waters by India and Pakistan, in fact allocates all Western rivers to Pakistan. India's main argument is that all the dams constructed on Pakistan's rivers like Indus, Jhelum and Chenab so far are run-of-river hydroelectric plants, which do not apparently involve any consumption of water and, therefore, no reduction in flow of water going to Pakistan. But this does not mean that water flow is not affected. In 2010, Pakistan appealed to the International Court of Justice for resolution of the conflict under the provisions of the Indus Waters Treaty [1], saying that diversion violated provisions of the Indus Waters Treaty of 1965 [2]. The Final Order came as of Dec 20, 2013 by the Permanent Court of Arbitration (PCA). The court has not only asked India to increase the environmental water flow downstream from the dam but has also ruled that all other subsequent projects cannot draw down the water level in projects below the dead storage level. But the conflict around the hydropower plant does not only occur between the two states. Local communities like the Dard-Shina tribe, said to be the last of the original Aryans living in the remote Gurez region, will be relocated to Srinagar, since there is no land in this heavily militarised region close to Line of Control (LoC). But there's also someone saying that relocating people outside Gurez is an attempt to divide and rule the people of Gurez, which would not be a new tactic applied by the Indian authorities. Different compensation measures will also be applied. According to an article in Tehelka (see Links), Gurez tribes will be paid more because they are not only losing their land but also their culture, civilisation, and will probably become extinct in few years because of the hectic urban life.",
         "kishanganga-hydro-electric-power-project-khep-india",
         null,
         null,
         null,
         null,
         null
        ],
        [
         "26",
         "NÃO",
         "Joinkrama 4, popularly called JK4, is an Engene-speaking Ijaw community settled along the Taylor Creek and administratively situated in Ahoada West Local Government Area of River State, sharing boundaries with Biseni and Ikarama communities from the Yenagoa local government area in Bayelsa State. JK4 is in the Edagberi/Betterland Community area where there are over 40 oil wells drilled and operated by the Shell Petroleum Development Company (hereafter SPDC). Additionally, several crude oil pipelines and Shell's Adibawa Flow Station are located within the community's territory. Field monitors from Environmental Rights Action  (hereafter ERA), namely Friends of the Earth Nigeria, visited the community by May 2002 and reported that the Adibawa lake was heavily polluted. They observed that oil slick was floating on its surface. This situation heavily impacts on fishermen daily life and the community folks as a whole.   \"Shell has not been fair to the community in terms of amenities say the leaders of the JK4 community, even though so much wealth is pumped out from our community soil daily. The population has been drinking from the Taylor Creek that has often been polluted by crude oil spills from the company's failed oil facilities\" [1]. \"Without pipe borne water the people have been drinking from the Taylor Creek that has often been polluted by crude oil spills\" [2]. Lots of oil spills are occurring, caused by old, rusty pipes in the community environment, and equipment failure. These material and equipment defects are confirmed by Shell itself. The company did some section replacements of the 12-inch Adibawa/Okordia delivery line in the first quarter of 2010. On September 18th in 2010, community people reported an oil spill caused by a sabotage, for which a Shell staff member and unknown community youth are responsible. The area is yet to undergo adequate compensation by the oil company, as affected community people have lost their means of livelihoods. On October 10th, 2011, ERA heard of a protest by women in the community, triggered by the pollution of the water potable sources, and ERA promptly visited the community [2]. Again by 2013, a member of the Caretaker Committee of JK4 community Mr.Ambrose Kofi Osuolo led ERA's field monitors to the spill sites and made related statements in response to questions: \"I am the Assistant Secretary of the Caretaker Committee of JK4 (Edagberi/Betterland) community. We noticed the spills on the 30th of April 2013 and Shell came for Joint Investigation Visit (JIV) on the 3rd of May, 2013. I represented my community on the JIV but the JIV was inconclusive due to different views held about the cause of spill. While Shell attributed the cause to sabotage, that the pipeline was drilled in; I was not convinced and hence, we didn't sign the JIV report. Although Shell came purposely for this particular spill, we discovered two more spill points within this Well 2 environment on that same day. The affected pipeline conveys crude oil from Well 2 to the nearby Adibawa Flow station. We reported to the Bayelsa State Ministry of Environment so that the Ministry can put pressure on Shell to come and mop up the spilt crude oil in the environment. We were so concerned because the crude oil is spreading in the swamps; especially with the rains. The Ministry was of the view that whatever differences there are about the cause of spill; the spill should be prevented from spreading; hence a claims agent was given the mandate to try and contain the spread. The Shell official who led the Shell team on the 3rd of May, 2013 was Tunde Joel, a Community Liaison Officer (CLO). One man we simply know as Ikainam, a Shell's Production leader was here to with them. This is the second spill point and, it is clear that the pipeline was tampered with by a third party. Shaw was used to cut it. There was no dispute about this. What we want Shell to do is to come and clean up the site\". At the third spill point Ambrose said: \"This rupture occurred at a joint; where two lengths of pipe were welded together. And up till now you can see that the spill point is bubbling; yet to be clamped by SPDC.\"Yet slow responses by Shell to its pipelines' spills are recurrent, being constantly denounced by ERA. The NGO regrets that more than six months after a spill at Adibawa oil field from well 8 in July 2015, the clean-up of oil had  still to be completed [3]. ERA reports that on January 20th2016, exactly seven months after the spill, the impacted site went up in flames [4]. Shell informed ERA that it was going to go work on the recovery of the site. The NGO's field monitors are disappointing: \"The visit to the site didn't prove anything beyond the usual crude method of physically clearing burnt trees and other plants by felling them and heaping within the same environment and, going further to turn top soil upside down\" [4]. The community members complained that Shell burned their bush/forest instead of operating a proper clean-up of the spill.",
         "joinkrama-oil-spill-jk-4-nigeria",
         null,
         null,
         null,
         null,
         null
        ],
        [
         "27",
         "NÃO",
         "The Tia Maria project is located in the Province of Islay in the department of Arequipa, in the southern region of Peru, in a desert ecosystem with a single hydrographic basin corresponding to the Tambo River. It is located in the Cachuyo ravine (90 km from the city of Arequipa and 9 km north of the town of Cocachacra), which flows into the Tambo valley. The project is promoted by the company Southern Copper Corporation (belonging to the Grupo Mexico), which aims to extract copper through two open pits. Due to the arid nature of the area, the use of water could endanger agricultural activities in the surrounding areas of Cocachacra. The same Environmental Impact Assessment (EIA) foresees a massive use of water from wells located in the Tambo river valley. After intense social protest, the company claimed that the project could be carried out using only desalinated seawater. In early 2009, the local population expressed concerns that the project would directly harm the production of rice, sugarcane, and paprika in the Tambo river valley. By August of the same year, the company was required to present its EIA in a public hearing in Cocachacra, however, there was massive opposition from the population on the day of the presentation, and the hearing had to be suspended. Subsequently, local authorities initiated the call for a community consultation to decide on the project. The consultation was convened by the municipal governments of the districts of Cocachacra, Islay-Matarani, Mollendo, Punta de Bombon, Dean Valdivia, and Mejia, through a Municipal Ordinance that called for a consultation as a democratic mechanism. On September 27, 2009, the population of the Cocachacra district held a community consultation in which 93.4% rejected the project. The company expressed its intention to seek the support of local communities for the mining project to resume the public hearing. However, in early 2010 and following tensions between the company and local authorities, the project was announced to be postponed until the end of 2011. Throughout this process, the company accused the local authorities of illegal acts. In February 2011, a strike took place, resulting in three deaths and several injuries. The government authorized the intervention of the Armed Forces to maintain and restore order. In response to the situation, in April, the Ministry of Energy and Mines rejected the initial EIA and ordered the removal of the machinery from the site. The company is conducting a new EIA in which, it claims, it will include the previously raised concerns, including 3000 observations from the communities. It is expected that this study will be presented, and with possible approval, activities will resume in 2015. In December 2013, residents of Cocachacra went on a hunger strike against Tía María while police forces intimidated and attacked the population opposing a new public hearing. The government declared that the project had obtained social approval. Keywords: copper mining, deaths, EIA objected, water conflicts.",
         "tia-maria-peru",
         null,
         null,
         null,
         null,
         null
        ],
        [
         "28",
         "NÃO",
         "The Daryan Dam is a large dam currently under construction on the Sirwan River, located in Kermanshah Province of Iranian Kurdistan, 28.5 km from the Iraqi border. The government of Iran, who is promoting the project, says the dam is built for the purpose of producing hydroelectric power, as well as for irrigation purposes in southwestern Iran. The project is triggering transboundary conflict in the Kurdistan Region of Iraq (KRI). A series of Iranian dams already exist on the river, which provide hydroelectric power in Iran, but restrict water flows to Iraq. Despite this, currently there is no agreement between Iraq and Iran with regards to the use of the Sirwan/Diyala River. Most of the rivers which run through the KRI emanate from Turkey or Iran, and the potential water crisis will be instigated by large-scale dams outside of the KRI's borders coming on-stream, primarily the Daryan Dam in Iran, and to a lesser extent the Ilisu Dam in Turkey, both of which are nearing completion. In recent years, the Kurdistan Regional Government (KRG) itself began constructing additional dams, which are viewed as a threat throughout the rest of Iraq. In Baghdad and Erbil alike, nationalist rhetoric is increasing, and water carries great potential to play a significant role in future disputes between the two governments. Controversially, though KRG politicians and civil activists are in opposition of the construction of dams on shared rivers in Turkey and Iran, they support the construction of dams in the KRI in order to control access to water resources flowing to Central and Southern Iraq. To date, there is little literature available on the Daryan Dam, even though its impact on Iraq is huge. The Save the Tigris and Iraqi Marshes Campaign has  launched a report on the project from which we learn that there is lots of \"controversial construction of dams for purposes of self-interest in a water scarce region despite evidence of their significant negative impact both locally, through displacement, and downstream, through reduced water flows\" [1]. The report states that \"between 20 to 30 percent of the Tigris River's annual flow originates in Iran via the Sirwan River and the Alwand River. In recent years, Iranian water projects have greatly reduced water flows of the Alwand River, and the construction of the Daryan Dam located on the Sirwan River in Kermanshah Province of Iran will significantly affect water flows to Halabjah Governorate in the Kurdistan Region of Iraq\" [1]. It further warns that \"The Daryan Dam, which is expected to be completed in 2018, is predicted to reduce the water flows of the Sirwan River by up to 60 percent, which will affect hundreds of thousands of people in the Sulaymaniyah and Halabjah Governorates. Diminishing flows of rivers will cause a drinking water crisis and will heavily effect the agricultural, hydroelectric power and fishing sectors in the Kurdistan Region\" [1]. It highlights that the reduced water flows of the Sirwan River, known as the Diyala River in Iraq, will also have significant negative impacts on people and communities further downstream in Central and Southern Iraq.  \"According to statistics, more than 3,200 hectares of agricultural land in the areas of Halabjah, Sayyid Sadiq and Darbandikhan will be lost if water flows from Iran further decrease. According to KRG Member of Parliament Abdul-Rahman Ali, other small dams have been built by Iran on rivers that flow into to the Darbandikhan Dam in the KRI. With the completion of the Daryan Dam, the cities and villages of Halabjah, Sirwan, Said Sadiq and Darbandikhan will not only face water crises in the agricultural, hydroelectric power and fishing sectors, but also when it comes to drinking water.\" [1]. The report also warns about possible negative impact on the peaceful coexistence between the religious groups of the region, especially since water in Iran, a Shia Muslim area, will be withheld from the KRI, a Sunni Muslim area. According to the report, the KRG and all walks of society in Halabjah Governorate, including political parties, civil society and NGOs, object to the construction of the Daryan Dam in Iran. Concerns are also related to the tragic past these cities have gone through during Saddam Hussein's dictatorship and during the war. The city of Halabjah, which suffered a chemical attack in 1988 under the regime of Saddam Hussein, considers the diversion of the Sirwan River to be another humanitarian crisis inflicted upon its inhabitants. Protests do not only happen on the Iraqi side; the Daryan Dam is also the subject of protest in Iran, mostly due to the forced relocations (the report talks of at least 20 villages and hundreds of people that have already been displaced in the Hawraman region of Iran) and ecological and cultural impact the reservoir will have on the surrounding area. Also at risk of destruction by the dam is the natural spring of Kanî Bil in the Hawraman region of Iranian Kurdistan, which is the largest spring in the region. To the Hawrami people, Kanî Bil is also of important cultural value. A social media campaign was created in December 2015 to save the spring of Kanî Bil. The \"Save Kanî Bil Campaign\" conducted a social media movement across Iranian Kurdistan, with people holding signs asking the government to save the spring, and some activists also went on hunger strike in December 2015.  Within the wider region, NGOs and civil society initiatives have been calling for the protection of water resources. For instance, in October 2014, several hundred villagers from the outskirts of the eastern IraqiKurdish town of Darbandikhan protested with the slogan, \"We don't trade water for oil.\"",
         "daryan-dam-iran",
         null,
         null,
         null,
         null,
         null
        ],
        [
         "29",
         "NÃO",
         "The use of agrochemicals in agriculture promoted by large agribusiness corporations such as Monsanto, Syngenta, Bayer, among others, has caused impacts on the environment, the health of farmers, the food supply, and even on the culture due to the abandonment of traditional farming methods prior to the so-called \"green revolution.\" El Salvador is a country with a primarily agricultural history, and the use of agrochemicals has been widespread in recent decades. While these chemicals improve short-term crop yields and reduce labor, the long-term costs are high, as they result in loss of lives, contamination of land, food, and water sources, and create dependency on agricultural inputs from large companies.  Health findings indicate that Chronic Kidney Failure is associated with poor working conditions in rural areas and insufficient hydration. According to the Pan American Health Organization (PAHO), there are 3,100 people receiving treatment for Chronic Kidney Failure in El Salvador. In the municipality of San Luis Talpa, as of 2013, 71 deaths were reported due to Chronic Kidney Failure, and by the end of June 2014, 30 deaths were reported for the same cause, not including more alarming cases in areas such as Bajo Lempa, San Miguel, and Santa Ana.  The problem in San Luis Talpa is further exacerbated by a contamination hotspot in the Loma del Gallo area, where the former \"QUIMAGRO\" International Agricultural Chemical factory has stored tons of toxic chemicals for decades. In 2013, the existence of 19 tons of toxic chemicals was discovered, including 12 tons of \"Sponto (emulsifiers and solvents for pesticides), 1 ton of Methyl Parathion and Ethyl Parathion, and 6 tons of Toxaphene,\" the latter two of which were locally banned in the year 2000. However, the problem extends beyond the municipality, as large quantities of toxic chemicals are used in sugarcane cultivation throughout various parts of the country. Extensive areas of crops are burned, causing the toxins to disperse through the air, leading to uncontrollable contamination.  According to the Digital Magazine of the National Center for Agricultural Research in Venezuela, the increase in monocultures has exacerbated the growth of pests, necessitating more use of toxic chemicals. There is a substantial amount of scientific documentation connecting the use of agrochemicals to the occurrence of various types of cancer, diabetes, neurodegenerative disorders such as Parkinson's and Alzheimer's, congenital malformations, reproductive problems, and respiratory and cardiovascular issues.  Over the last five governments in El Salvador, state policies promoting the use of toxic chemicals in agriculture have made it increasingly challenging for many environmental and social organizations to advocate for changing these harmful, polluting practices among farmers and for the establishment of regulations prohibiting their use. This situation is not unique to El Salvador; throughout Central America, there have been 15,000 deaths due to Chronic Kidney Failure in the last decade. Keywords: agrotoxics, chronic kidney failure, Central America.",
         "agroquimicos-e-insuficiencia-renal-san-luis-talpa-el-salvador",
         null,
         null,
         null,
         null,
         null
        ],
        [
         "30",
         "NÃO",
         "The municipality of Lerma in the State of Mexico has been the center of strong environmental pressures that have unleashed multiple social conflicts, with the main issues of the last 10 years being the pollution of the Lerma River and the construction project of the Lerma - Tres Marías highway. In addition to this, in 2009, the expropriation of 44 hectares located in the town of Amomolulco for the construction of the Lerma Unit of the Metropolitan Autonomous University (UAM) was added. The ejidatarios denounced the dispossession that the Federal Public Ministry carried out by \"donating\" the territory to the educational institution, without taking into account that there is a presidential decree since November 2002 where it is classified as a protected natural area [1]. The eviction occurred in August 2009, where elements of the AFI, the Mexican army and federal ministerial judicial police, invaded the lands of the Amomolulco commoners without having an order to support the action. Denouncing the lack of dialogue on the part of the authorities, the ejidatarios assured that they have had possession of these lands for more than 60 years, which are used for the cultivation of beans, corn, oats, and the grazing of animals, for the self-consumption of around 60 families [2]. In one of the demonstrations that occurred three years later, one of the affected remembered, \"They didn't warn us. Two tanks arrived, more than 300 police officers. They surrounded and started putting up a fence on the same day they ousted us. They removed all the neighbors. They demolished houses and huts. The animals that were there were lost and died. Our money has run out, because before we used to produce and now we have to buy. In one day, they ended everything. Trucks passed over the cornfields still to be harvested. We feel humiliated.\" [3]. The legal representative of the peasants indicated that, by means of a presidential agreement in September 1943, the federation gave them 44 hectares of land through \"precarious\" permits. The lands used for agricultural purposes would serve as payment for the water taken through the third regulating basin of the Lerma system. He argued that neither the Secretariat of Public Administration nor the Institute of Administration and Appraisals of National Assets have the authority to disincorporate the 24 hectares that were ceded to the University [4]. The ejidatarios of the community filed a lawsuit before the Unitary Agrarian Tribunal (TUA) corresponding to District 9, based in Toluca, where file 640/2009 was opened, and based on it, it was agreed to issue a precautionary suspension so that the parties refrained from modifying the surrounding area of the land until the legal situation of the land was resolved [1]. After two years of litigation, there was no definitive judicial resolution and despite the determination of the TUA, on July 14, 2011, the authorities of the UAM held an event to initiate the construction of the unit [5]. The event was met with a protest of approximately 25 people with the support of the Front of Peoples in Defense of the Land of San Salvador Atenco [6]. However, the authorities of the UAM stated that the land was federal property and that the issue had already been discussed in courts and tribunals, with the decision that the University has legal possession of the land [7]. The rector of the new unit also stated that, with regard to the polygon of the protected natural area, the university is only the \"third party harmed,\" since they did not buy or request the land and it is up to the federal government authorities, the agencies that participated in the donation, and the courts to clarify the situation [8]. In addition to the ecological implications, the rector of UAM Azcapotzalco questioned the creation and location of the fifth unit of the University in a document addressed to the Academic College in May 2009. Among other things, he argued that the Metropolitan Area of Toluca is not among the most disadvantaged regions in terms of coverage of Higher education, that the installed capacity in three of its units is relatively underutilized, and that likewise, the offer of distance, virtual or open education has not been explored as an institutional project. He also emphasized that as long as the reprobation rates that allow students to reduce their stay at UAM are not reduced, the places cannot be expanded. On the other hand, he questioned the decision-making process and the fact that the Chamber of Deputies had already approved as part of the budget for the year 2009, an amount of 500 million pesos to start the construction of the Unit, asking: \"Is the Congress of the Union the one who decides the academic future of our institution by earmarking resources for the construction of an academic unit that has not yet been approved by the Academic College?\", or alternatively, \"Was there a formal request from UAM to request additional resources to build a new Unit in Lerma, without the initiative having been put up for consideration and approval by the Academic College?\" [9]. In 2012, the demonstrations of the ejidatarios continued to stop the irregular expropriation, to which students from their own UAM Xochimilco were added. These took place at the government house of the State of Mexico with around 30 attendees [10], outside the UAM of the Federal District, as well as in other federal instances. Another protest action had to do with the blockade of a water supply well; however, a hundred municipal and state police officers forcibly took over the facilities, nullifying the rebellion of the ejidatarios [11]. Currently, the Lerma Unit of the UAM is operating and houses more than 200 students [12].",
         "uam-unidad-lerma",
         null,
         null,
         null,
         null,
         null
        ],
        [
         "31",
         "NÃO",
         "The state of Amazonas is one of the areas with the greatest biodiversity in Venezuela, with rich and fragile ecosystems in which more than 19 indigenous peoples live, and where there are also important reserves of strategic minerals such as gold, coltan, bauxite, and diamonds, among others. Illegal mining has had a significant increase in recent years in various parts of this region, including in various rivers of the Manapiare municipality (northeast of Amazonas) such as the Ventuari, Parú, Parucito, among others. In these territories, different indigenous peoples live, such as the Yabarana, Hoti, E'ñepá, and Wotjuja (Piaroa), who have had to face a growing legion of illegal miners, Venezuelans and those from neighboring countries, who, along with other actors, use machinery and primarily extract gold, causing damage to the forests and biodiversity, contamination of rivers and fish with mercury and other toxic substances, depletion of their sources of livelihood and their productive and cultural traditions, violence and criminalization, potential diseases, prostitution, and drug trafficking, among other consequences.  Indigenous organizations in the Manapiare municipality have made complaints, declarations, and demands, both through alternative means and channeled through institutional channels, which began to intensify from 2013. In defense of their territories, these indigenous peoples have intervened in mining areas to capture these illegal actors and hand them over to the official authorities, intensifying violence and disputes. Joint pronouncements of indigenous groups from the entire state of Amazonas have also been made, while various environmental and human rights organizations have supported these struggles. The Venezuelan state has been able to offer few solutions to the problem of mining, while it continues to advance in the area. Indigenous organizations in the Manapiare municipality affirm that, if forced, they will defend their territories with all their resources. The indigenous groups of the entire Amazonas region remain united in the face of future scenarios that could further complicate the situation.  Indigenous organizations have made numerous complaints, declarations, and demands, many of which have been channeled through institutional channels, which began to intensify from 2013. The Yabarana Indigenous Organization of Parucito (OIYAPAM) and the Ye'kwana Organization of Alto Ventuari (KUYUNU) have indicated the increase of illegal mining in the Parucito river and have requested the eviction of miners from the Lower and Upper Ventuari areas. Joint pronouncements of indigenous groups from the entire state of Amazonas have also been made, bringing complaints to the Attorney General's Office, the Office of the People's Defender, the Vice Presidency, the Ministry of Indigenous Peoples, the Ministry of Defense, and the Supreme Court of Justice.  Indigenous organizations in the Manapiare municipality have warned that if the Venezuelan state continues to overlook the problem, they will be forced to take action to defend their territory. The Yabarana, Hoti, E'ñepá, and Wotjuja peoples have intervened in mining areas, attempting to reclaim their territories by capturing illegal miners and their machinery and turning them over to the authorities. In January 2016, a group of indigenous people detained illegal miners in the Majagual area and handed them over to military personnel from the Zone of Operations and Integral Development (ZODI). This has had repercussions, as there have been death threats against the community and the indigenous leader and president of the Yabarana organization OIYAPAM, Benjamín Pérez.  Indigenous mobilizations have received support from various human rights organizations and support for these indigenous peoples. The Working Group on Indigenous Affairs (GTAI) has demanded precautionary measures in favor of indigenous leader Benjamín Pérez and other members of grassroots indigenous organizations (Coiam, Orpia, Coiba...). GTAI has also denounced that the problem is linked to the absence of demarcation of indigenous territories, which is a constitutional obligation.",
         "indigenas-yabarana-hoti-y-enepa-afectados-por-mineria-ilegal-en-el-municipio-manapiare",
         null,
         null,
         null,
         null,
         null
        ],
        [
         "32",
         "NÃO",
         "Gurgaon is a city located very close to Delhi, the National Capital of India and fall under the National Capital Region (NCR). It did not have proper waste management facilities. A section of the city's residents (DLF City Gurgaon) were initiated actions after suffering from the uncontrolled dumping of municipal wastes. The DLF City Gurgaon residents demanded better waste management facilities in the city. The residents had been agitating for long and pressed authorities to set up a new facility nearby Bandwari village. With their long demand and no action taken from the Gurgaon Municipal authority, they filed a petition in the Punjab and Haryana High Court in 2008. The honorable high court in its verdict ordered Municipal Corporation of Gurgaon to make better waste management facilities in the city. With the instruction from the Court, Gurgaon Municipal Corporation (GMC) along with Faridabad Municipal Corporation (FMC) decided to set up a joint solid waste treatment plant at Bandhwari village. The proposed site is about 15 km from Gurgaon on Faridabad-Gurgaon road. Haryana state government had promised to build this modern solid waste-treatment plant. The facility will treat waste from both the cities [1,4]. After the decision taken by the respective municipal corporations, people from about 50 nearby villages started their protest. They called a mahapanchayat (large gathering of villagers to discuss some issues) of all villages. The mahapanchayat passed a resolution to oppose the proposed waste treatment plant. Villagers were afraid that the proposed garbage treatment plant would not only contaminate the groundwater, but also pollute the atmosphere. Thousands of people living in the radius of 15 km would get exposed to the foul smell and other possible ailments because of this plan. They decided to file complain to the respective authorities and also to file petition at the court. The villagers had grievances that the government did not ask the panchayat for a discussion before deciding on the dumping site in their land. On a move to protest villagers decided to guard the proposed site and not to allow dump the garbage at the site. [2].",
         "waste-treatment-plant-at-bandhwari-in-gurgaon-haryana-india",
         null,
         null,
         null,
         null,
         null
        ],
        [
         "33",
         "NÃO",
         "Plans to expand a coal-fired cement plant in Tharzi district, Mandalay, have provoked opposition by villagers and civil society groups. The project entails not only the expansion of the cement factory, but also an adjunct limestone quarry and a coal mine in Kalewa, operated by the firm to exclusively supply the factory with raw materials [1]. The project is developed by the Shwe Taung Group (STG), whose majority shareholder Aik Htun is a controversial figure. He is believed to be linked to the former military regime, to narcotics trade and to money laundering, according to an open letter sent by a civil society coalition opposing the project [see 1]. Funding for the coal-fired cement factory comes from the International Finance Corporation (IFC) – the private arm of the World Bank [2]. While the World Bank pledged not to finance coal-power plants for Myanmar's national grid due to their devastating health, environmental and climate impacts [1], the Bank accepts – with surprise for civil society organizations - the use of coal power for Myanmar's cement factories [1,3].The company began operations in 2010 [3], close to Kyubin village, where multiple indigenous communities live. In an open letter [1], civil society organizations have reported that locals are concerned about the project's impacts. Several disputes have emerged, caused for instance by the bulldozing of farmland without prior notice and inadequate compensation procedures. Juridical harassment against villagers who complain about their land and livelihood loss was also mentioned [1]. According to the letter, villagers reported that the Environmental Impact Assessment (EIA) had serious shortcomings - some stated that a merely \"5 minutes question and answer\" session was held [1]. Health and environmental impacts from the expansion of the coal mine and the factory were expected to be high. They include pollution of lands and water bodies, deforestation, habitat destruction, livelihood loss and potential cultural impacts in the surrounding area [1]. Both the coal mine and the limestone quarry are in areas classified as a Critical Habitat in the IFCs' Environmental and Social Review Summary, informs the letter [1]. After the factory's expansion, villagers complained about skin diseases which they attribute to the dust from the cement factory [4]. The use of coal and the IFC's support to the expansion plans have been major points of contention among civil society groups, who \"emphasize the sheer irresponsibility of this investment and the multiple ways it undermines the IFC's commitment to sustainable investment and 'shared prosperity' through private sector development\" [1].Land disputes in the area have been ongoing for decades, says a news article [4]. Already in 1983, land was seized by the government and in 2008 several private companies were given land to develop cement factories, taking advantage of the nearby limestone hills. In 2012, in the context of new political freedoms, activists started to campaign for the return of their land [1]. Complaint letters were sent and national civil society organizations such as MATA (Myanmar Alliance for Transparency and Accountability) got involved. Attempts to settle the disputes between the company and the villagers followed and several public meetings were organized. Controversies, however, remained [4].On June 7, 2017, a coalition of 174 civil society organizations sent an open letter to the IFC, urging the Board to reject funding for this project [1]. The letter expressed concerns over the extraction and burning of large amounts of coal through the controversial Shwe Taung Cement Factory: \"The IFC Board should refuse funding for an environmentally destructive coal-reliant project in a critical biodiversity area, which has caused immense social problems at the local level, and only serves to enrich a businessman with known ties to the former military regime and suspected connections to the narcotics trade. The IFC's reputation, and the people of Myanmar, deserve better.\" [1]In a response, the IFC backed the project and the EIA consultations, arguing the project would help to meet the growing demand for raw materials for construction and, moreover,  provide 200 jobs [3]. On July 31, 2017 the project received green light by the IFC, although the US representative and executive director voted against it because of environmental concerns, such as impacts on endangered species and lack of emission data [4]. IFC Investment began on January 4, 2018 [2].",
         "shwe-taung-cement-factory-mandalay-myanmar",
         null,
         null,
         null,
         null,
         null
        ],
        [
         "34",
         "NÃO",
         "Construction of the Son La Hydropower project on the Da River was approved in June 2001 and commenced in 2005. It is located 250km upstream of the Hoa Binh Hydropower Dam and approximately 360km northwest of Hanoi. The Son La dam is a multi-purpose project for electricity supply, water storage for irrigation, and flood protection. Its capacity is 2400 MW and can generate approximately 9,000GW of power annually. The project was originally scheduled to be operational in 2015, but in order to increase national revenue, construction was sped up to be completed 2 years early in 2013. The World Bank funded the feasibility study for the project but would not fund the construction. The Russian government and Japanese consultants Electricity and Power Distribution Company also contributed financially to feasibility studies for Son La. The project is entirely State funded, with some support for the resettlement program from the Asian Development Bank. As means to help finance Son La Electricity of Vietnam increased electricity prices and the dam completed construction to become operational two years ahead of schedule was to also help finance the project. The Son La Dam has been a very controversial project as it required the resettlement of 100,000 mainly ethnic minority people have been moved up to 100km away from the reservoir area where they previously lived, which is the largest resettlement in Vietnamese history. Of the displaced people, 83 % were part of the Thai ethnic minority group, 6% from the La Ha ethnic group and the rest comprised of Kinh, Mang and Giay ethnic groups. 80% of those resettled relied solely on farming for their livelihoods. Their resettlement has been problematic for many reasons, including due to the very limited availability of arable land and the lack of consultation in the process. Furthermore, the resettlement process was rushed and contractors did not have adequate time to prepare the necessary infrastructure in the resettlement sites prior to people moving in. Other problems arose because many of the resettled households were moved into host communities who had to give up some of their own land to make room for the resettled people. (2) (6) (7) (8) (13) (14)",
         "son-la-hydropower-dam-vietnam",
         null,
         null,
         null,
         null,
         null
        ],
        [
         "35",
         "NÃO",
         "In a territory rich in diamonds, gold, iron, rutile and bauxite, the ideation of Bumbuna dam was accompanied by a series of promises made by the politicians in power: jobs for everyone and free electricity, tourism and economic prosperity, monetary compensation. However, the expression 'When Bumbuna is completed' become for Sierra Leone's people a way to say 'never'[1, p.15].  The first Sierra Leone's nation-wide hydropower inventory was financed by UNDP in 1970, which identified 22 potential sites. In 1982 the Italian Salini Costruttori (locally known as SalCost) began the construction works for a dam co-financed by the World Bank, the Government of Italy and the African Development Bank. Between 1995 and 1997, however, a civil war erupted and the area around the dam was the centre of clashes between the various armed groups involved in the conflict: the dam became a strategic target. The construction company's directors, therefore, decided to hire mercenary troops to protect their staff, equipment and machinery [2]. In 2002 works were resumed with completion forecast to end in 2007. After trials and the solving of a few technical problems, the 50MW turbines of the power station started up in November 2009. Since then, however, technical problems and polemics due to the frequent interruption of the station's supply have not failed to appear [2]. Only one of the 30-year old plant`s two turbines was functioning, and roughly five percent of the population at the time had access to power, despite mining activities were running as usual. Nevertheless, the second phase of the project is planned for the increase in supply from 50MW to 350MW by 2017 'Bumbuna will be finished only at the end of the world' ironically sang the well-known Sierra Leonean singer Emerson Bockarie [3]. Mistrust, suspicion and presumption of corruption became the general feeling around the project. According to an enquiry undertaken by the World Bank, there was a widespread opinion among the inhabitants of the Tonkolili District that the works to complete the power station had been deliberately slowed down by the Italian constructors themselves - allegedly with the agreement of some corrupt members of the government- in order to have more time to secretly mine and smuggle out the gold and diamonds found during the construction of the dam [1]. It is also interesting to note that the local population was convinced that the dam belonged to the same construction company. The latter had sought to build up over the years a relationship of 'good neighbourliness' with the inhabitants of the villages near the dam, making gifts of various kinds. In this way, a paternalistic relationship was set up in which the local communities \"were begging the constructor instead of asking for their rights, of which they were not fully aware\" [2]. Two main communities were directly impacted by the project construction, protesting the \"reckless\" construction of the dam and \"the lack of inclusion of the affected communities in the decision-making\" [1]. Another episode raised tensions and suspicion among the landowners along the route where the high tension pylons had been built. In 2009, about some 176 homes being demolished along this route. To motivate this operation, the authorities explained that there was a high health risk. But a local satirical newspaper questioned the scientific grounds for this explanation, describing it as an urban myth. The doubt was that the medical reason for demolishing the house might only be an excuse to 'disturb, harry, and terrorise other people' [2].Update: In July 2020, riots broke out in Makeni over the decision of the government to relocate a standby generator, which is supplied by Bumbuna Dam. During a two-days violent protest, five people died in clashes with the police. A steady flow of electricity of Bumbuna can still not be guaranteed during the dry season. However, the Ministry of Energy and the Electricity Distribution and Supply Authority (EDSA) decided overnight to relocate the generator to the airport town Lungi [4].Furthermore, Sierra Leone's Ministry of Energy has reached an agreement with Joule Africa and various Development Partners to finance and launch the construction of Bumbuna II [5]. Bumbuna II consists of a second dam project located 32km upstream of Bumbuna in Yiben, which is supposed to add 143 to Bumbuna I. A Social and Environmental Impact study has not been conducted yet.For more information on Bumbuna II please check:https://ejatlas.org/conflict/bumbuna-ii-dam",
         "bumbuna-dam-sierra-leone",
         null,
         null,
         null,
         null,
         null
        ],
        [
         "36",
         "NÃO",
         "The Jalaput Dam is a hydroelectric dam built on the Machkund River, a tributary of the Godavari River in India which rises in the Mudugal hills of Visakhapatnam District and nearby Ondra Gadda it becomes the boundary between Andhra Pradesh and Odisha. For over 48 km the river runs nearly north along a meandering course through the Padwa Valley. About 48 km south of Jeypore, it winds westward along the edge of the Plateau and then suddenly tums at a short angle to the south-west down a steep descent popularly known as Duduma Falls. Jalaput Dam (and Reservoir) impounds 34.273 Tmcft of water for the needs of down stream 120 MW Machkund Hydro-Electric Scheme (MHES), which is in operation since 1955. The dam and the MHES are the joint projects of Andhra Pradesh and Odisha states. The existing six power generation units have become old and obsolete compared to latest technology. It is much economical to install a new hydro-electric scheme with a 15 km long tunnel using nearly 400 meters available level drop between Jalaput reservoir and the existing Balimela Reservoir back waters. This reservoir will serve as upper pond and existing Balimela reservoir as tail pond for installing Pumped-storage hydroelectricity units. Alleging indifferent attitude of the State Government towards their demands, around 3,000 villagers are displaced due to the Jalaput dam in Koraput district. The villagers staged demonstration in front of the Collector's office over nine-point charter of demands including adequate compensation, rehabilitation, setting up of a lift irrigation and provision for job, water and electricity. There are no facilities for healthcare, electric supply and road communication either. They threatened to boycott elections and relocate to neighbouring Andhra Pradesh if their demands are not fulfilled before the deadline. Palpable tension prevailed as several people displaced for Machhakund Hydro Electric Project 'gheraoed' the office of the project officer in the district over various demands including compensation. Mostly inhabitants of eight blocks of the district staged protest outside the office of project officer. It is pertinent to mention that it is almost 75 years that the displaced people in the area are not yet provided with compensation. The land dispossessed have also submitted a 9-point charter of demands to the concerned officer [1]. Meanwhile, the locals threatened to intensify their protest if their demands are not fulfilled. \"If our demands are not fulfilled within one month, we will not release a single drop of water from the Jalaput dam and will lock the Machkund Hydro Power Project office\" said President of Machhkund Reservoir Oustees Association. \"Their demands include peripheral development, availability of job, water, electricity and transport. \"",
         "jalaput-dam",
         null,
         null,
         null,
         null,
         null
        ],
        [
         "37",
         "NÃO",
         "According to a detailed report published by a coalition of environmental NGOs in China, Apple's Chinese supply chain has been identified as a serious threat to environmental health in China, with key suppliers such as Meiko Electronics being identified as having failed to address serious pollution issues caused by their manufacturing activities [1]. At the launch of the report in Beijing, the NGOs spearheading the campaign (including Friends of Nature and the Institute of Public & Environmental Affairs led by prominent Chinese environmentalist Ma Jun) stated that they had \"uncovered cases of severe environmental damage and serious complaints from local communities\" owing to the huge amount of toxic waste that was being produced by certain Apple suppliers in China (ibid). The Japanese firm Meiko Electronics established another factor in the Wuhan Economic and Technological Development Zone in Hubei province in 2005. As a printed circuit board manufacturing company, it acts as the supplier of global electronic giants such as Apple, Motorola and Siemens. Upon learning that \"the factory had a chlorine accident in 2008 that led to the poisoning and hospitalization of 18 workers\", Friends of Nature and IPE sent staff to investigate the pollution status of the plant in April 2011 [2]. On-site investigations revealed a long ditch \"running from the east side of the facility to Nantaizi Lake, filled with a milky-white liquid\" [1]. NGO staff then witnessed severe pollution at Nantaizi Lake, which \"was an ash grey color with white bubbles accompanying groups of black floating\"objects\" [2]. Tested samples from the drainage channel showed that \"the water sample contained...heavy metals copper and nickel, [with the] concentration of nickel...[being] 11.15 times over the authorized limits\" of...water designated to be a source of domestic drinking water or surface water (ibid). Further test results obtained on 2 June, 2011, revealed unusually high levels of copper (\"4.8 times the Category V (40mg/L) 20 Environmental Surface Water Quality Standard\") (ibid). The report concluded by noting that a \"corporate environmental conduct letter\" was sent to Meiko Electronics following the investigation, but that no response has been received from the company as of 30 August, 2011. Soon thereafter, Apple commissioned a third party organization to confirm the investigation results, then pushed the suppliers to go through a third party audit, overseen by environmental NGOs, to provide proof to the public that corrective actions and improvements had been carried out\" [3]. This has prompted Meiko Electronics in Wuhan to undergo major changes to its operations following a third-party auditing process which began on 26 April, 2012, following discussions between Apple, the Institute of Public Affairs and the Natural Resources Defense Council Office in Beijing, China, which commenced on 27 January, 2012 (ibid). In light of the audit findings [3], Meiko Electronics in Wuhan now \"monitors copper concentrations in the final combined treatment system pool, [and have] set up an online monitoring system to monitor total copper and total nickel discharge, [as well as] waste water discharge. [They have also] moved pipes that were originally underground to above ground, so as to avoid the mixing of storm-water and wastewater in the pipe network, [having] installed valves on the two storm water final discharge outlets to prevent direct discharge, [and] added a 400m3 storage tank before the two final storm-water discharge outlets to store initial rainwater. [The company has also] installed a new on-line monitoring system at the final storm-water discharge outlet to monitor copper and nickel concentrations to ensure there are no instances of discharge breaching the authorized standards. [Lastly, Meiko Electronics] has also commissioned a professional organization to formulate a remediation plan and carry out a comprehensive restoration project\" to address the problem of contaminated sediment in Nantaizi Lake (ibid).",
         "severe-water-pollution-by-meiko-electronics-plant-in-wuhan-china",
         null,
         null,
         null,
         null,
         null
        ],
        [
         "38",
         "NÃO",
         "UPDATED. Juan Miguel Hernandez in El Espectador, December 30, 2019. \"Sunday, March 26, 2017 was an unforgettable day for the inhabitants of the municipality of Cajamarca (Tolima). The community said no to the execution of mining projects in their territory and with 6,165 votes, equivalent to 97% of the total scrutiny, compelled the multinational Anglo Gold Ashanti to stop the gold exploration at the La Colosa mine. For many farmers in the region, this was the most important choice of their lives. In Cajamarca, the decision was not about who would be the ruler at that time, but about what the model of development and sustainability for the future should be. The two options were clear. Abstention, publicly promoted by the company and, silently, by the mayor and the parish priest, defended the mining-energy locomotive, the extraction of non-renewable natural resources, and foreign investment. The \"no\" to mining, promoted by the Environmental Committee and by the common citizens, aimed to preserve the moorland and rivers, promote agriculture and ecotourism, and guarantee food sovereignty for the community. That March afternoon, it wasn't just the La Colosa project at stake, but the fate of mining in the country. As Robinson Yance, leader of the Environmental Committee, stated after learning of the consultation results, \"this decision will not only transform the future of the municipality, but also the future of public policies at a national level.\" Cajamarca was teaching Colombia a lesson in dignity. The flame of rebellion and peaceful resistance that its inhabitants had ignited would multiply in the following months in more than a dozen towns that were willing to follow the example of determination set by the people of Tolima.  How was it possible that a group of men and women from a small municipality in the Central mountains had won, without any other weapon than words, a definitive battle against the most important multinational in the world in gold exploitation? Who could explain that 6,000 people committed to the future of their territory had stopped the most important gold extraction project in Colombia in the last ten years? However, the fight had only just began. After the jubilation that followed the community's triumph, a series of events put Cajamarca back in the headlines of the media. The Minister of Mines and Energy, Germán Arce, said that the consultation \"did not have the capacity to change the law\"; Carlos Enciso, the former corporate operations manager of Anglo Gold Ashanti, insisted that the decision was not binding and, therefore, the company could continue with the project, and the mayor of the municipality, Pedro Pablo Marín, stated on several occasions that there was a kind of socio-economic crisis in Cajamarca and that people were regretting having voted against mining. Despite all the buts, the results of the consultation were endorsed by different civil society organizations that were dedicated to legally defending the decision made by the inhabitants of Cajamarca. Dejusticia demonstrated that laws 134 and 1757 established that the result of a popular consultation, if it exceeded the necessary threshold, was obligatory and binding. \"Legally, what has to happen in this case is that the municipal council must adopt the decision of the popular mandate and prohibit mining in the municipality,\" said Diana Rodríguez, a researcher with that NGO. And it happened as she said. The Council of Cajamarca reluctantly ordered the prohibition of mining in the territory and, therefore, on April 27, thirty days after the consultation, Anglo Gold Ashanti recognized the position expressed by the community and decided to indefinitely halt operations and leave the region. \"New investments will not be made in the study and exploration activities, operating expenses will be reduced to a minimum, and more than 400 workers in the operation, administration, and logistics areas settled in the area will be laid off and compensated,\" they wrote in a press release. The community leaders agreed that this was the second victory for those who believe in the possibility of an economic development project other than mining. For Renzo García, promoter of the popular consultation, the company's decision was in line with the Political Constitution and opened up new challenges for the municipality. \"The ball is now in our court. It is our responsibility to demonstrate that agriculture and ecotourism are a real possibility for generating wealth and good living in the territory. It is our duty to enhance peasant organization processes, promote proper land use, advocate for the consumption of healthy food, and generate employment for the entire population of Cajamarca,\" he acknowledged once Anglo Gold announced the end of its operations in the municipality.\".=====================================Version from 2014.- In the municipality of Cajamarca (Tolima), the South African multinational AngloGold Ashanti (AGA) has 426,263 hectares concessioned by the Colombian Institute of Geology and Mining (Ingeominas) since 2008 for gold exploration. The La Colosa gold mine (as this mega-project is known) could be the largest deposit found in the last 10 years worldwide. The La Colosa project is currently in the exploration phase, despite this, it has generated a series of reactions not only from the inhabitants of the area, but also from the national and international opinion, as it is located in the Central Forest Reserve of Colombia, an area with 161 water sources. Resistance to the project has also been presented because this area is known for developing activities typical of the countryside, thanks to the fertility of its soils, causing the community to react to this mega-project. Among other activities, the mobilization of June 3, 2011 against the ecocidal project (a term used to signify the destruction of the environment) of La Colosa can be observed, which was possible both by the actions and tasks generated from the Environmental Committee in Defense of Life, and by the solidarity work of various social, cultural, and environmental organizations in Ibagué, Cajamarca, and Anaime. The call was also the result of the commitment of Usocoello and other organizations in El Espinal. Likewise, thanks to the solidarity participation of the communities of Marmato, the students of the University of Caldas, Cauca, the South of Bogotá, and the citizens of Armenia, Circasia, Chaparral, Rovira, and Libano, among others. The Carnival March in Defense of Life and against the ecocidal project of La Colosa was an environmental celebration in defense of life. More than 12,000 people gathered minds and hearts in defense of the right to a healthy environment for present and future generations. Vital rights that emerge from the depths of mother earth and that include the possibility of enjoying the well-being that nature provides, having pure water to drink, healthy food to consume, and landscapes to enjoy. Since the beginning of the project, that is, in the exploration phase, irregularities have been presented, due to this the environmental authorities of Tolima pointed out that the first perforations impacted the forest reserve and the neighboring aquifers. The company has responded with different arguments denying this position. The company had requested an area of 515 hectares to be subtracted from the forest reserve to complete the exploration phase, but the Ministry of Environment, Housing, and Territorial Development did not authorize it. The magnitude of the project, but above all the environmental and social impact that it would cause, has prompted the different institutions of the State to take a position on the matter, the most striking case being that of the Office of the Comptroller General of the Republic, which, through the Comptroller Sandra Morelli, urged the Ministry of Environment and Cortolima to prevent ecological damage to the water in the execution of the AngloGold Ashanti mining project. The control body considers that the possible affectations to the area of influence, both direct and indirect, will have an impact on the water supply to the population and to the Uso-Coello irrigation district, thus damaging an important agro-industrial and rice-growing region of Tolima. Ingeominas granted concessions to AGA for mining exploration and exploitation in Cajamarca, disregarding the Natural Resources Code that prohibits these activities in forest reserve areas and, in addition, the regulation ordering the protection of hydrographic basins. The purchase of water from the municipality of Girardot to supply the needs of the activity was also noted. The Comptroller's Office also points out that to date, there is no information on the detailed designs and characteristics of the La Colosa project, nor are there studies on the characterization and hydrogeological modeling of the area of direct influence of the mining project, and aspects regarding the beneficiation process that would be carried out, such as the possible location and characteristics of the leach pad and ponds, direct water consumption, among others, are unknown. In June 2011, British MP Ian Lavery promoted the signing of a statement, in which it was expressed that mining in developing countries is often conducted in ways that would not be acceptable in rich countries. Taking into account the precedents of AngloGold Ashanti in terms of the environment and human rights in Ghana and the Democratic Republic of the Congo, it is worrying that this company holds such extensive mining title areas in Colombia, as is the case with the La Colosa mine. At the moment, it is known that La Colosa has inferred resources of 24 million ounces of gold (about US$30,000 million) that are currently unexploited because Cortolima has denied water concessions necessary to carry out its exploration activity, an issue that is stalling the megaproject for approximately two years, to the point that it would not begin producing gold in 2016, as had been planned, but in 2019. Cortolima argues that the water resource in the Coello River has been depleted. But the change in the director of this environmental state corporation (Cortolima) could pave the way for the project to be developed. However, in July 2013, the municipality of Piedras, in a referendum or popular consultation, has refused to be an area for the construction of a reservoir where AGA would deposit huge amounts of sludge.",
         "la-colosa-colombia",
         null,
         null,
         null,
         null,
         null
        ],
        [
         "39",
         "NÃO",
         "The residents of Apanas, a relatively remote village in Kemerovo region, started actively resisting the expansion plans of a coal company that would make their dire situation - through heavy mining without recultivation, happening too close to villages, toxic fumes from underground burning - even worse. [1]According to locals the smoldering of coal tailings and the toxic fumes have been a reality for about 20 years, though starting at the end of 2019 the situation became even more accute, according to locals  the fumes may be connected to a heightened cancer rate in the village. Residents are also concerned the underground smoldering would reach the taiga and lead to forest fires [1].   The residents are using repeated road blocks to protest the destruction of the only road servicing Apanas to mine coal, as on February 3rd 2018 when around 150 people blocked the technical road leading to the coal pit \"Berezovskij\" with their cars [2]. At a similar action two weeks later five of the protesters were arrested [3]. \"Sibenergougol\"- the company responsible for the  mining activities-planned not only to remove the road for mining but also to drain technical water into the nearby river [6].Two activists have been subject to repression by fines of 10.000 rubles to the company and a lawsuit of 14 million rubles for supposed damages during a protest [4]. Eventually the protest led to a victory in March 2020 when Rosnedra, the  Federal Agency for Mineral Resources, revoked the mining license for the sector \"Ananinskij Vostochnij\", located on the existing road, from the company - 7 years ahead of the regular expiration date [6]. After complaints from the residents the governor of Kemerovo Oblast was forced to declare a state of emergency in the region on April 14th 2020 due to the smoldering of tailings at Apanas and at Kiselevsk [5].After local protests in the villages grew into a demonstration in the region capital Novokuznezk of about 500 people the authorities don't sanction public protests like that, harass single protesters and intimidate active organizers of the protests [1]. Three activists were arrested during an SOBR (Speznaz) operation after an excavator in the coal pit cought fire. After beeing released they are still regularily brought in for questioning to keep up the repression [1].",
         "street-protest-in-kuzbass",
         null,
         null,
         null,
         null,
         null
        ],
        [
         "40",
         "SIM",
         "Greenpeace together with the Norwegian group Nature and Youth (Natur og Ungdom) have taken the Norwegian government to court over their decision to open up areas of the Arctic Ocean for oil exploration. They are basing their legal claims on Section 112 of the Norwegian constitution which gives the right to a healthy environment, as well as the country's commitment to the Paris Agreement.In May 2016, the Norwegian government issued 10 licenses to 13 companies for the exploration of oil and gas in the Barents Sea, above the Arctic Circle [1]. A continued pursuit of the extraction and combustion of fossil fuels implies continued emissions of greenhouse gases, which contribute to climate change. Drilling in the Arctic sea would also pose a serious risk to the marine environment in the case of an oil spill, and the extreme conditions would make a cleanup operation challenging to manage [2].As the plaintiffs claim, this commitment to contributing to climate change and risking the environment  is a violation of Section 112 of the Norwegian constitution; this is the first time this high level law has been tested in court. The law states: \"Everyone has the right to an environment that safeguards their health and to nature where production ability and diversity are preserved. Natural resources must be managed from a long-term and versatile consideration which also upholds this right for future generations\". §112  was carved into a five tonne block of ice which was placed outside the court by Greenpeace on the first day of the trial (14/11/2017). The plaintiffs (from Greenpeace, Nature and Youth and Grandparents Climate Campaign) claim Arctic drilling will not only violate this law, but also constitutes climate injustice as further contributions of greenhouse gases from oil combustion will exacerbate climate change and put communities around the world at greater risk. Norway's decision to issue the licenses  in the Barents Sea- for the first time in twenty years [1] - came just one month after they signed the Paris Agreement. Norway was the first developed country to ratify the agreement, just ten days after this licensing round [3]. Following the science presented by the IPCC, the Paris Agreement requires countries to pledge to keep global temperature rise to 1.5°C  or \"well below\" 2°C compared with pre-industrial times. As Greenpeace states, there are already more known sources of fossil fuels than can be burnt to keep within the carbon budget set by the Paris Agreement, hence exploring for Arctic oil is not in keeping with Norway's commitment [4]Pacific Islanders, already affected by climate change, were amongst those testifying at the court case in Oslo. The case has also received support from scientists, lawyers and activists [5], and an online petition has thus far gathered the support of over 522,200  people which has also been presented as evidence in court [6]. During the court case Arctic drilling was also presented as a human rights issue, and a UN Committee called upon Norway to revise its policy on Arctic oil drilling on the basis that that climate change disproportionately affects women [7] . While the trial was underway, the Norwegian Oil Fund and the Norwegian Central bank (Norges Bank) - the largest sovereign wealth fund in the world - asked the Government for permission to divest more than 35 billion USD from oil and gas to \"make the government's wealth less vulnerable\", signalling expert support for the economic uncertainty of fossil fuels [8] . Ingrid Skjoldvær, Head of Nature and Youth, comments: \"If we lose, the Norwegian state will continue to drill for oil in the Arctic. This will lead to more climate change and an uncertain future for young people today, and those who come after us. Our hope is that the court will both cancel the oil licenses awarded in the 23rd licensing round and ensure that the Norwegian government start to assess the climate change consequences of distributing new oil licenses.\" [9] On January 4th 2018 the Court reached a decision, finding the Norwegian government not responsible for breaching the Constitution. However, the Court found that the right to a healthy environment is protected by the Constitution and the Government must uphold those rights.  [10] The groups may consider an appeal.Timeline [6]April 2016 - Norway signs the Paris Agreement and promises to help limit climate changeMay 2016 - The Norwegian government hands out new oil licenses in the ArcticAugust 2016 - Norwegian state-owned Statoil announces a massive drilling campaignOctober 2016 - Greenpeace and Nature and Youth hand in lawsuit against the Norwegian governmentJuly 2017 - Greenpeace ship is present in the Barents sea for the drilling seasonNovember 2017 - Trial begins. Names and witness statement are submitted as evidence in CourtJanuary 2018 - Court challenge defeated",
         "the-people-versus-arctic-oil",
         null,
         null,
         null,
         null,
         null
        ],
        [
         "41",
         "NÃO",
         "Sukhdev Vihar near Okhla; Delhi residents filed a case in the Delhi high court against the Okhla waste-to-energy plant. Local residents have opposed the plant. The report also claimed that an untested and unapproved Chinese incinerator technology was being used in the plant. The case was transferred to National Green Tribunal on January 23, 2013. Representatives from Delhi government has failed to appear before the tribunal. The Uttar Pradesh government has also objected the waste-to-energy plant which is running within the 10-km eco-sensitive zone of the Okhla Bird Sanctuary without the approval of the National Board for Wildlife (NBW). Waste recyclers grouped in a recyclers' union are against this incinerator that will deprive them of he means for their livelihood.The plant falls in the Delhi government's area of jurisdiction while the birdlife sanctuary lies in UP. Updated, 8 April 2018. The location is Sukhdev Vihar near Okhla. This is a case where local residents refuse to bear the risk of an incinerator (having learnt about danger from dioxins), and  a strong movement of waste pickers also opposed incineration of waste because this \"expropriates\" their customary rights to recycle waste and make a living out of it. Metabolic contestations in cities in the global South—and waste conflicts in particular—involve struggles over values and livelihood as well as health and wellbeing. (Demaria and Schindler, 2016). There has been an increased role for the private sector in the various stages of waste management in cities. Delhi has been at the forefront of this shift and this has brought out conflicts over collection and disposal of waste. It was argued that the informal sector should be meaningfully incorporated into an efficient and equitable waste management system that is also environmentally sustainable and does not damage the recyclers' health. Instead, the incinerator in Okhla is in operation.  The case of Okhla ran in parallel to that of another smaller incinerator in Gazhipur. They are still exceptional in India where industrial incineration of urban domestic waste was quite new. But the conflicts were not so different from many other cases in China and elsewhere of opposition to incineration by neighbours. On the other hand, the case is also similar to cases in cities in India and other countries (Pune, Bogota) in which unions of urban waste recyclers successfully oppose privatization and incineration of waste, and defend their livelihoods, while rightly claiming that their task provides environmental benefits. In Delhi, a number of trade unions have been active demanding continuing access to waste faced with privatization and incineration, such as All India Kabadi Mazdoor Mahasangh (AIKMM), Safai Sena, Delhi Kabadi Mazdoor Sangh, and Green Flag. These unions organize rallies and demonstrations, and their demands have targeted local officials and private firms. For example, AIKMM organized a demonstration outside of the Delhi headquarters of the United Nations in 2011 to protest the inclusion of the Okhla and Ghazipur waste‐to‐energy plants in the Clean Development Mechanism's carbon credits scheme. The effectiveness of grassroots unions is however limited.Demaria and Schindler (2016) quote several comments of waste pickers typically understanding the conflict as a struggle for their livelihood: \"Since we don't have any other work we are forced to do this filthy work. We are forced to pick up this waste. Still the government is trying to force us out. They want to produce electricity by burning our livelihood\". \"The work of the waste‐to‐energy plant is to burn things. They know that [inert and organic] waste never burns. They are trying to burn things [recyclable material] from which we earn our living. Therefore, we are opposing the waste incineration plants.\" Nevertheless, despite such claims, waste‐to‐energy plants are perhaps meant to become the cornerstone of Delhi's waste management system.Currently two waste‐to‐energy plants are operational in Okhla and Ghazipur (south and east Delhi, respectively) and more are planned. The case of Okhla was transferred to the National Green Tribunal on January 23, 2013.  The Uttar Pradesh government  also objected the waste-to-energy plant which is running within the 10-km eco-sensitive zone of the Okhla Bird Sanctuary without the approval of the National Board for Wildlife (NBW). There was then a confluence of urban middle class dwellers concerned about risks of dioxin, nature conservationists, and a strong movement of waste recyclers against the Okhla incinerator that will deprive them of the means for their livelihood.  Demaria and Schindler (2016) conclude that there are possible alliances between waste pickers and a local middle class. While waste pickers' main objective is to configure Delhi's metabolism in such a way that they maintain access to waste, middle class residents envision a metabolic configuration and waste disposal methods  that insulate them from waste and from the risks of incineration while enabling their desired lifestyle. In Dehli such an alliance was temporarily stronger in the case of Gazhipur than in Okhla.The outcome at the NGT was eventually favourable to incineration. As reported in The Wire (in an article signed by a Indian member of GAIA, the international global alliance against incineration), \"After four long years, the National Green Tribunal (NGT) sealed the fate of more than half a million people living around the controversial waste-to-energy (WTE) incinerator in the Okhla region .... The highly polluting plant had been a bone of contention between the residents of Sukhdev Vihar and the Jindals (a large industrial firm) who own and operate the facility. In a 142-page order dated February 2, 2017, the bench – headed by Justice Swatanter Kumar – observed that the Principle of Sustainable Development leads to some inconvenience and thus causes some impacts on environment. Unless such impact and effect is irretrievable within the limit of Sustainable Development, the Tribunal would be inclined to permit such plants to operate ... The NGT has been hearing the Okhla WTE case since February 2013. During its course, the bench had made several observations regarding the risks the plant poses to public health, environment and the violations in the environmental clearance terms and conditions. However, contrary to its own observations made earlier regarding such violations, the tribunal (finally) ruled in favour of the project's proponent.The question is whether \"...  an entity tasked (as the NGT) with the duty to uphold the law (can) be allowed to justify violations by applying utilitarian logic?\". In other words, who has the power to allow or exclude valuation languages different from cost-benefit analysis or sustainable development? Should not the precautionary principle prevail? Which is the metric used to compare costs and benefits to different social groups and interests?",
         "okhla-waste-to-energy-plant-india",
         null,
         null,
         null,
         null,
         null
        ],
        [
         "42",
         "NÃO",
         "Essar Steel is a fully integrated flat carbon steel manufacturer–from iron ore to ready-to-market products–with a current capacity of 10 million tonnes per annum (MTPA). Essar Steel's manufacturing facility comprises ore beneficiation, pellet making, iron making, steel making, and downstream facilities including cold rolling mill, galvanising, pre-coated facility, steel processing facility, extra wide plate mill and a pipe mill. In April  2018 (as reported in The Telegraph) nearly 80 families who lost their homestead to Essar's steel project here renewed their agitation for permanent employment cover on Tuesday. The protesting families squatted in front of the project gate, stopping raw materials from going in or finished products from coming out, affecting production at the pellet plant. The agitators took strong exception to the alleged dilly-dallying tactics of the administration and the steelmaker in fulfilling of their demands, including employment and rehabilitation of displaced families. According to The Times of India (4 April 2018) displaced former residents of the area, along with workers whose positions at the factory were insecure staged a  strike and a dharna  at the gates of the factory.. In 2016, the company had committed to provide employment to one member from each displaced family and gave a written undertaking to the district administration. \"The company has deliberately shied away from protecting the larger interest of the people affected. Essar officials had pledged to fulfil demands on several occasions after the district administration mediated in the dispute. But things have come a cropper as people who lost their land to the project continue to suffer,\" said Dharanidhar Swain, who led the agitation.\"As the company has ignored people's demand, we stopped production.\" Swain added that the company had assured employment at the unit to local residents. \"The plant has been operational for seven years. But few of the affected families have got jobs. Those who have got jobs are on contract where there is no job security,\" he said.In late August 2018 it was reported by Odisha TV  and other media that the protest at Essar Steel India Limited in Paradip  continued and neither the local administration nor the company management had taken any step to resolve the issue. Surprisingly, the protestors began their agitation even though Section 144 has been clamped in front of the company gate.Ratnakar Jena, a protestor, said \"We handed over our lands to Essar Steel at cheap prices. Whatever money we had got from the sale, we bought Hyva trucks and engaged the vehicles in the company work.However, the company is now trying to engage vehicles from outside. It will have an adverse effect on our livelihood.\"As per reports, Essar Steel is setting up a 12 million tonne pellet plant in Paradip with an aim to increase the production capacity to a whopping 24 million tonne per annum in future. The company had also planned to set up an Integrated Steel Plant (ISP) with 6 million tonne production capacity per annum at Handia later. Essar had sought intervention of the State Government to provide land at the village for its ISP plant.This is the first phase of the 12 mtpa pellet plant to be commissioned by 2013.The company is also setting up 12 mtpa iron ore beneficiation plant at Dabuna and a 253 km slurry pipeline connecting Dabuna and Paradip.The beneficiation plant will enhance the iron content in the ore to 63 per cent from 54 per cent.Essar Steel plans to invest Rs 4,200 crore to set up the integrated facility in Odisha.The pellet plant in Paradip, along with the eight mtpa facility at Visakhapatnam, in Andhra Pradesh, will fully secure the iron ore requirements of the company's Hazira plant.The company will beneficiate the low-grade iron ore available at Dabuna and transport it through a slurry pipe to the pellet plant at Paradip.The pellets will then be transported from the company's dedicated berth at Paradip port to Hazira.\"The entire process will bring down our production cost to $750 a tonne against the industry average of $1,000 to $1,350 a tonne,\" he said.However in February 19 ,2016, the company informed the State Government that it has changed its plans and will not set up the ISP plant at Paradip. Hence, the villagers of Handia will not be rehabilitated.Activists of Gramya Surakhya Samiti said the affected families of Handia are living in pathetic conditions due to lack of developmental activities. Claiming that Essar Steel is harassing the locals by not providing employment opportunities, activists demanded rehabilitation of villagers as per R&R policy, provision of permanent jobs to unemployed youths who have been trained by the company besides degree and diploma engineers and hike in remuneration of workers engaged in Essar. If the Government fails to resolve the issue, the villagers would launch an agitation, threatened threatened by GSS.With Essar Steel withdrawing its proposed project at Handia village in Jagatsinghpur district and the local authorities stopping developmental activities, the villagers have been left in a lurch.As the company required 394 acre of land at Handia for the ISP, the administration had issued notice to nearly 80 families residing in the village for their displacement under section 4 (1) of Land Acquisition Act in 2008. The administration even decided to stop development activities in the village due to the proposal for displacement of its residents. Following strong protests by villagers over the move to stop development activities, the administration decided to provide health services, drinking water facilities and road connectivity till February 14, 2014 as displacement process had not been initiated by Essar Steel.",
         "essar-pellet-plantparadeep-odisha-india",
         null,
         null,
         null,
         null,
         null
        ],
        [
         "43",
         "NÃO",
         "This agrarian conflict around the Seringal Capatará, a rural and forested area in the State of Acre, 40 km South of Rio Branco, involves at least 180 rubber tapper and farmer families and the cattle rancher Osvaldo Ribeiro who claims to be the land owner, including an area of at least 5,000 hectares that is in particular under dispute and occupied by the communities. The seringal (rubber plant) is located in the district of Capixaba, at the border to the district of Senador Guiomard, close to the highway BR 317 which connects Acre's capital Rio Branco with the Brazilian-Peruvian-Bolivian border. [1][2]Rubber tapper families have moved to the area decades ago without having official land titles. In many cases, they had practiced latex extraction elsewhere before coming to Seringal Capatará. After the economic potential of rubber was discovered in the late 19th century, Acre and other parts of the Amazon soon became well-known centers of latex extraction from rubber plantations, with Seringal Capatará to be first reported in 1899. [2] [3] The rapidly extending rubber frontier traded on a system of semi-slavery, violently incorporating a large part of the indigenous population as workforce to then create dependencies. [4] The following period was characterized by the historical uprisings of rubber tappers fighting for better social and economic conditions and independence from Bolivia, nourishing the ground for the Acrean Revolution during which also the control over rubber plantations was disputed [2][5]. The rubber economy however faced an economic crisis after 1915 and, while World War II brought a short boom, the Brazilian government declared the prioritization of agriculture in the 1960s, putting an end to many rubber plantations in Acre. The arrival of fazendeiros (farmers, ranchers) gradually expelled rubber tappers and renewed the land conflict [4]. Many seringueiros (rubber tappers) moved to more interior parts of the plantations to become autonomous rubber tappers or small farmers, often occupying abandoned land as posseiros (landless workers who do not possess land titles). [2] [6] In the Seringal Capatará, some individuals reported to have already spent more than 50 years there, others for more than 20 years, and others less. [7]. People report that many have never accessed schooling, due to the lack of infrastructure and isolation. Some came because they simply wanted to survive; they were vainly waiting for resettlement after being expelled from their old home due to similar agrarian conflicts (in Acre alone, there were at least seven in 2013) and say that they do not see a way to make a living in the city. Others are part of families that have lived there for generations; and note for example that over the years the pressure from, but also the political influence of farmers has become stronger, nowadays controlling all the public institutions.  Throughout the region, the historical rubber tree forest - of which the area is part of - is progressively being taken over by the expansion of cattle farming, and also the situation in the Seringal Capatará indicates an increasing importance of agriculture due to the inflow of landless farmers. [2][5] While the region looks back at a long history of conflict of land issues and between ranchers and rubber tappers (e.g. the struggles of Chico Mendes and the rubber tapper movement), the start of the conflict in the Seringal Capatará can be traced back to the year 2004. According to posseiros who claim to have been living in the area under dispute for a long time without officially possessing land titles, the cattle farmer Osvaldo Ribeiro illegitimately began to present himself as the owner, threatening and pushing posseiros to carry out agreements that would confirm this. [1] It has been reported that he 'offered' them 75 hectares of land in order to get authorization of the rest, and that until that point some rubber tapper families had measured their territory only by the amount of rubber trees, which also gives an idea about the different historically emerged ideas of territory that coexist until today. The conflict simmered on until in 2009 new families came to the territory under dispute and, understanding it as public land. They started a peaceful occupation in order to live in and from the forest, dividing the land with posseiros that had already been living there. [2] Mobilization began shortly after when posseiros started to denounce the increasing threats by the owner against them. In a reportage by media platform O Rio Branco, people complained about the closure of a pathway that had been used for decades and was critical to access the city and agricultural production, the destruction of gardens and death threats in case of staying on the territory by gunmen of the rancher. [8] Also the burning of houses and physical violence were reported. [2] The workers union Central Única dos Trabalhadores started to mediate the case and to support the posseiros, assessing the situation in the villages and reporting the threats. According to documentation by Fiocruz, one of the union's meetings held with approximately 30 squatters was interrupted by armed patrols of Osvaldo Ribeiro, ending the meeting and expelling everyone from the place. [9]The conflict entered the legal sphere in 2010 when Oswaldo Ribeiro entered a process of reintegration of tenure, claiming that his territory would have been invaded whereas posseiros believed it to be public land. The land question intensified when the National Institute for Colonization and Agrarian Reform (INCRA) intervened in November 2011 and declared that part of the land in dispute belonged to the federal government and thus the process was remitted to the Federal Court of the State of Acre in January 2012. Ribeiro refused negotiations when being summoned to a conciliation hearing by the Federal Court of the State of Acre. [9] Threats against the squatters continued and an (anonymous) entry on the blog 'Capixaba em Notícias' even stated in 2013 that the farmer's son Dilson Ribeiro, along with his armed gunmen, threatened to kill more than 40 posseiros of the Capatará community. [10] After the process got delayed, in June 2013 people of Capatará protested and camped for two days outside the INCRA headquarter in Rio Branco. On the following day they closed the street in front of the building, demanding a final solution to the land conflict. As the news channel G1 reported, one of their speakers complained about a lack of action after negotiations and meetings with different representatives of INCRA, stating that the posseiros want to see concrete action against the faced discrimination and humiliation through the land owner and his henchmen but reality rather shows an absence of public power. The president of the Associação Seringal Capatará, moreover stressed that the conflict had already been going on for 20 years and that they even fear deaths, as they had already occurred in related conflicts. According to him, the situation has gone worse after failed negotiations with the owner. He also assumes that disagreement about the conflict within the public authorities had so far prevented intervention, as according to him the owner sits down with them while residents are left aside. [11][12] INCRA reacted to that by stating that the root causes of the conflict lied in the historically lacking administrative differentiation between public and private land in the region. They claimed that the case was already mediated by the National Agrarian Obudsman and that they were proposing an agreement with the owners of Seringal Capatará to return a third of the land – which could then be used for the agrarian reform program, and that moreover the residents and property situation were to be reassessed in the forthcoming months. [11] [12] Moreover, an investigation process against the threats attributed to the supposed owner Osvaldo Ribeiro was initiated. That way, INCRA and the residents association reached an agreement and the demonstrations left the headquarter despite remaining skeptical. They stated that they have not fully achieved what they wanted but taken a first step and that they will fight until having their rights. [12] The process was prolongated several times in the hope for an extra-judicial agreement between the parties and because some posseiros were confirmed as landowners by an INCRA assessment, ultimately being entitled to stay. The final court record has 1,652 pages and the process ended in May 2016 with a decision in favor of the farmer and to the disadvantage of most of the posseiros, as it the defender of the posseiros, the Agrarian Ombudsman, had missed  deadline. The decision instigated the return of an area of 2,000 hectares to Osvaldo Ribeiro and the evacuation of officially 103 families (although apparently more were affected) as they were considered to have moved to the land recently or could not prove a long residency. Only 15 families were recognized as land owners as they were believed to had been living there between eight and 50 years. The community of Capatará reacted to the court decision with blockades of street BR-317, occupying it several times with cars, wheels, tents and and wood which initially led to the postponing of the eviction. In August 2016 the eviction was implemented. Again the street was blocked and occupied in an effort to resist, the media reported about the case and kids protested in front of their school. The military police used rubber bullets and gas bombs after a group of people, claiming to have been provoked by the workers of the rancher, started to revolt. However, despite the court decision in favor of the cattle rancher, no one knew where the area in question began and ended. Thus, while only 2,000 hectares were authorized for eviction, the area de facto evicted seems to have been about 5,000 hectares, involving families that have lived there for more than 25 years, kids that had been born there and a fully functioning school that had been built by the residents themselves and had to be closed. In TV interviews, people declared their desperation of loosing everything and having nowhere else to go or to make a living from.  It is reported that up to 261 families became expelled and that the military police knocked down houses with tractors. They did not receive support to find a new home. Three month after the eviction, 150 families invaded the area of the supposed owner in an attempt to return to their land. In fear of tensions between them and the rancher's workers - who were reported to only be waiting for the order 'to open fire' -  a special forces unit was sent to intervene and disarm both sides.  Still in 2017, the community kept fighting for their rights by speaking to the Legislative Assembly of Acre (ALEAC) and denouncing irregularities in the procedure to the Agrarian Ombudsman. After the complaints were not taken into account, posseiros complained that numerous meetings with INCRA have not resulted in the promised actions, and moreover, the community of Capatará is not heard by the Ombudsman as its role is also to advocate farmers in the region.  Long after the court decision, it was still internally disputed within INCRA how much of the land under question belonged to the State. [1] [2][7] [13] [14][15][16][17][18][19][20][21][22]Apart from problematizing the land rights situation in the Amazon part of Brazil, this conflict also exemplifies the clash between the old land use practices of rubber tappers and the clearly increasing pressure from agriculture, and in particular, cattle farming. It can be linked to the persisting struggles of rubber tappers against cattle farmers that have been taking place in the region for decades, most notably known through the mobilization of rubber tappers before and after the death of Chico Mendes in 1986 which has inspired today's environmental justice movements.",
         "rubber-tappers-of-seringal-capatara-displaced-by-cattle-farmer-in-acre-brazil",
         null,
         null,
         null,
         null,
         null
        ],
        [
         "44",
         "NÃO",
         "The Government's decree of February 11th 2015 approves the Public-Private Parternship with the ICADE promotor for the construction of the Sud de France TGV train station in Méjanelle/Pont Trinquat. The new train station is presented as required for the new high speed railway under construction between Nimes and Montpellier. Local and national organizations mobilize together to denounce the numerous absurdity of the project; as the TGV future station is to be constructed by the Negue-Cats stream, which regularly overflows. The neighbors' collective « anti-gare de la Mogère » denounces the lack of transparency of the whole decision-making process. For instance, the annexes of the private-public partnership contract were not published. The reasons justifying a public-private partnership were not communicated to the general public. It is feared such contract will give advantages to the private partner's financial interests. They also reminded that the public investigation in the general interest from September to October 2014 was barely publicized.  Still almost 700 people participated and 685 declared to be against the project. Finally the public investigation gives its conclusions in favor of the project.   The same neighbors' collective recalls that the Environmental Authority declared itself against the project in April 2014. In 2005 a declaration in the public interest proposed the construction of a railways' exchanger at Saint-Brès  which would allow the high speed trains coming from Nimes to arrive to the Saint-Roch Montpellier central train station. That's the option they keep supporting until now. It is much cheaper and it does not prejudice the Negue-Cats banks' fauna and flora. It is also in the interest of the travelers' comfort to have only one train station, in case of connections. The activists denounce the fact that the TGV station comes to feed the real estate promoters for the urbanization of \"Montpellier Agglomeration\".  Two judicial appeals were initiated against the project in February and August 2015 respectively before the Conseil d'Etat and the Administrative Tribunal of Montpellier. Still in October 2015  the planning construction was granted by the Herault prefet.",
         "high-speed-train-station-in-a-floodable-area-france",
         null,
         null,
         null,
         null,
         null
        ],
        [
         "45",
         "NÃO",
         "Energy has been one of the main concerns in Myanmar since the country opened up to foreign investment in 2012 and the government has been focusing on increasing production to meet the new demand. Even though some of the projects were already on the table, the government and companies are pushing to get approval for controversial hydroelectric projects and coal plants across the country. Some of these projects have followed the signature of peace deals with rebels groups [1], even though many of them are rejected by the ethnic groups.One of these projects is the 1,280 MW coal plant that has been proposed in Hpa-An, the capital of Karen state, an area where the Karen National Union (KNU) and its army branch, the Karen National Liberation Army (KNLA), have been fighting against the central Myanmar government since the 1940s. The plant was proposed after another similar project located in Inn Din, in Mon state, south of Karen state, was canceled due to the local rejection (see related conflicts, below).In April 2017, the Kayin state government signed a memorandum of understanding to conduct a feasibility study [2] with the Thai construction company TTCL Public Co Ltd, a joint venture between Italian-Thai Development, which holds a 51 percent stake, and Japanese company Toyo Engineering Corporation, which holds 49 percent [3]. According to this agreement, the plant would cover 333 hectares (825 acres) on the Thanlwin (Salween) River, about 20 miles north of downtown Hpa-An, and would cost US$2.8 billion.The project raised concerns among the local populations, that have rejected the plant [4]. Thus, in June 2017, 42 Kayin State-based civil society organisations and 130 other CSOs issued a statement opposing the project [5]. In October 2017, the Karen state government approved the project and signed a joint venture with TTCL [6]. In November 2017, protesters were stopped when they tried to demonstrate against the plant [7].In March 2018, the central government in Naypyidaw announced that they would not support the coal plant [8]. However, the state government didn't follow, raising concerns among the local communities that they would not respect the government decision [8] and 131 local organisations and residents signed a letter with three requests to the Union Government: to cancel all proposed and suspended coal-fired power plants, to pass a national moratorium on coal power plants, and to promote and regulate the implementation of sustainable renewable energy projects [5].According to Greenpeace [9], the Myanmar government is planning on an alarming increase in coal plants to provide all the country's energy needs by 2030. If all planned coal-fired power plants start to operate, Myanmar's SO2 emissions from energy use would be projected to increase 7-fold, and NO2 to triple, the organization says in a report released on the issue. The report also points out that Myanmar's coal power plant emissions would be responsible for a total of 7,100 premature deaths each year, or 280,000 premature deaths if these plants operate for 40 years.",
         "hpa-an-coal-plant-myanmar",
         null,
         null,
         null,
         null,
         null
        ],
        [
         "46",
         "NÃO",
         "In the Central Valley of California water is scarce and often diverted to agriculture and development rather than low income communities or minorities. Migrant farm workers and new immigrants have an especially difficult time getting fair access to water. Communities such as Seville in Tulare County are subject to nitrate contamination in their water from fertilizers and they cannot afford backup systems when their pipes are corroded. Tulare County has the highest poverty rates and the lowest in health care coverage in the state, and yet these communities are the ones that have to bare the cost of water pollution. According to a University of California [1], Berkeley report, nitrate exposure's health impacts fall disproportionately on the poor Latino communities of the Central Valley who make up most of the low-wage workforce of the local agriculture industry as they do not have the tax base to support the construction and operation of treatment plants, or to secure alternative sources of water. According to the Environmental Justice Coalition for Clean Water, rural Central Valley communities pay the highest drinking water rates in the state. Some families pay as much as two to six percent of their income for undrinkable water. Many residents drive 30 to 50 miles each week just to buy water bottled water, effectively paying twice for their basic need [5].",
         "lack-of-clean-water-in-central-valley-ca-usa",
         null,
         null,
         null,
         null,
         null
        ],
        [
         "47",
         "NÃO",
         "The Fandora mine conflict is a 'point of extraction' conflict between different land use intentions. The mining company Imperial Metals has plans for exploratory drilling for gold in the area. The Tla-o-qui-aht First Nations have designated the area as a tribal park called Onadsilth-Eelsukis. Tribal parks presrcibe a land use vision of sustainable, place based economy in line with existing cultural and spiritual values in the area. The Fandora mine site was originally explored in the 1930s and a variety of mining outfits operated small scale (hand, steel, and wheelbarrow) shaft mines along the mineralized vein up until 1964. From the mid 60s until 1999 no significant exploration took place. Recently the property was acquired by a subsidiary of Imperial Metals and plans have been made to conduct extensive drilling and some trenching work on the property. The Tla-o-qui-aht First Nation have expressed their clear opposition to mining on their territories, citing existing spiritual sites, sustainable ecotourism plans, and fish enhancement as uses for Tranquil valley that conflict with potential mining. If mining will not be allowed, then no exploration should be considered either. Unfortunately in 2013 BC's provincial government approved an expanded exploratory permit for Imperial Metals that included two separate drilling sites and several kilometres of road reactivation. The approved permit came despite clear and persistent opposition by local First Nations to the project. Another Imperial Metals mine experienced a breach of the tailings pond dam. releasing 10 billion litres of water and 4.5 million cubic metres of metals-laden fine sand and contaminating several lakes, creeks and rivers in the Cariboo region in August 2014 and triggering a state of emergency.",
         "fandora-gold-tofino-tranquil-onadsilth-eelsukis-tribal-park-vs-imperial-metals",
         null,
         null,
         null,
         null,
         null
        ],
        [
         "48",
         "NÃO",
         "In July, 28, 2002 Rosia Montana witnessed a large meeting of 350 people from the region. This meeting produced the first Declaration in Romania after 1989: the â€Rosia Montana Declaration that articulated and legitimated Alburnus Maior, as the local association. The purpose of this grassroot organization was to mobilize opposition to what had been promoted to be the largest open cast cyanide use gold mine in Europe, a project of a Canadian corporation called Gabriel Resources and later on Rosia Montana Gold Corporation. The Declaration was supported (signed) by a group of 25 environmental NGOs from Romania. For the last 14 years Alburnus Maior has been successful not only in blocking the mining project but also in developing the most enduring and the largest socio-environmental movement in Romania with intense transnational networking. Currently, the movement has gathered over 100.000 active supporters who, by means of activism and direct participation, donations or promotion have been involved in the many various actions initiated in Rosia or (inter)nationally for Rosia as to transform the area from a doomed mono-industrial isolated space into a dynamic, lively and attractive region of farming, eco-tourism and socio-political debates about alternative futures.",
         "rosia-montana-romania",
         null,
         null,
         null,
         null,
         null
        ],
        [
         "49",
         "NÃO",
         "In summer 2007, the Irish government was determined to deport, with the help of the Gardai (police), the group of Roma in the M50 between Dublin airport and Ballymun [9]. Almost a hundred people (even though other sources report approximately 60 [6, 8, 9]) living there, with one third being children, were living in the roundabout of one of Ireland's motorways [7, 9] since they had nowhere else to go in the Irish territory. The planned deportation had the full support of the Romanian government, to where the families living in the M50 would be deported [9].  A government official stated that if the Irish government were to \"give in to this group many, many more would come seeking social welfare\" [5, 9]. This was qualified by other sources as a controversy characterized by racism [8]. The conditions in the M50 camp were never good [2, 4, 7, 8] but deteriorated by the last days of the families living there [9]. Since it was located near the motorway it had a direct impact from traffic pollution. Furthermore, and according to certain news outlets, the camp was flooded by heavy rain (as it was in a basin and there was the danger to be flooded when it rained), the people were living among garbage, they had no access to sanitation facilities, and the whole settlement reeked of a foul stench [7, 9]. The danger of disease was an ever-present threat according to some Non-Governmental Organizations (NGOs) helping the Roma, with two children being taken to the Temple Street Hospital in central Dublin because they had severe vomiting and diarrhea [4, 7, 9]. Not only there was that danger but the constant movement of these families through the motorway, and the begging that the kids did in it, posed a grave threat against the wellbeing of the Roma [7, 9].Despite the conditions, certain Roma claimed that they were better there than where they came from; the edge of a massive landfill in Romania [4, 9], even though the Romanian ambassador said they had permanent flats back in their country [1, 5] and the information about the landfill was later denied [10, 11]. Furthermore, even when several instances of hate speech and verbal violence have been enacted towards the Roma [4, 9], the families continued camping there, where they could get free illumination from the light at night [9]. An alliance of NGOs, like Pavee Point Travellers Centre and the Irish Association of Social Workers, demanded emergency accommodation for the families noting that since the Roma are EU citizens, they have civic rights in Ireland [4, 5, 6, 7, 9]. Neither the Department of Health and Children nor the Department of Justice did anything to meet the NGOs' demands since the idea to deport them was sustained by the Romanian embassy as well as the neighbors living close to the settlement [5, 9]. Irish legislation states that \"Romanians are not allowed to work in Ireland without a work visa, and can only stay for three months at a time before having to prove employment. Additionally, another law in Ireland prevents anyone from claiming welfare until they have lived legally in the country for two years\" [12] making it specifically exclusionary of this community and, even though that can be determined by subtext, based on a racist narrative.In July 2007, the Garda (police), on the instructions of the Justice Minister, gave to the Roma their deportation orders, with the support of the Romanian government [2, 5, 7]. According to the Ministry of Justice, the police moved them to a temporary holding center before their deportation, something that a representative of the government qualified as being voluntary, with an emphasis on \"voluntarily repatriated\" [3, 5, 7]. Some of the people in the camp refused to leave and tried to fight the deportation orders, to what the authorities said that they had 15 days to challenge the orders and to indicate why they should stay [2, 3, 5]. By July 2007, the Roma were flown from Ireland to Bucharest, ending the months-long stand-off between the Irish government and the families and NGOs' demands [2, 3, 5, 7].",
         "almost-a-hundred-roma-set-up-camp-alongside-the-m50-motorway-and-ended-up-being-deported-in-dublin-ireland",
         null,
         null,
         null,
         null,
         null
        ]
       ],
       "shape": {
        "columns": 8,
        "rows": 3333
       }
      },
      "text/html": [
       "<div>\n",
       "<style scoped>\n",
       "    .dataframe tbody tr th:only-of-type {\n",
       "        vertical-align: middle;\n",
       "    }\n",
       "\n",
       "    .dataframe tbody tr th {\n",
       "        vertical-align: top;\n",
       "    }\n",
       "\n",
       "    .dataframe thead th {\n",
       "        text-align: right;\n",
       "    }\n",
       "</style>\n",
       "<table border=\"1\" class=\"dataframe\">\n",
       "  <thead>\n",
       "    <tr style=\"text-align: right;\">\n",
       "      <th></th>\n",
       "      <th>label</th>\n",
       "      <th>text</th>\n",
       "      <th>slug</th>\n",
       "      <th>annotator_1</th>\n",
       "      <th>annotator_2</th>\n",
       "      <th>annotator_3</th>\n",
       "      <th>annotator_ai</th>\n",
       "      <th>label_majority_vote</th>\n",
       "    </tr>\n",
       "  </thead>\n",
       "  <tbody>\n",
       "    <tr>\n",
       "      <th>0</th>\n",
       "      <td>SIM</td>\n",
       "      <td>The 5 No. Habilashdweep Union (lowest administ...</td>\n",
       "      <td>groundwater-lifting-by-industries-leading-to-w...</td>\n",
       "      <td>NaN</td>\n",
       "      <td>NaN</td>\n",
       "      <td>NaN</td>\n",
       "      <td>NaN</td>\n",
       "      <td>NaN</td>\n",
       "    </tr>\n",
       "    <tr>\n",
       "      <th>1</th>\n",
       "      <td>NÃO</td>\n",
       "      <td>Cassandra mines operate since 6th BC century a...</td>\n",
       "      <td>gold-mining-in-chalkidiki-greece</td>\n",
       "      <td>NaN</td>\n",
       "      <td>NaN</td>\n",
       "      <td>NaN</td>\n",
       "      <td>NaN</td>\n",
       "      <td>NaN</td>\n",
       "    </tr>\n",
       "    <tr>\n",
       "      <th>2</th>\n",
       "      <td>NÃO</td>\n",
       "      <td>Jambi-2 power plant is a proposed mine-mouth c...</td>\n",
       "      <td>proposed-jambi-2-coal-fired-power-plant-jambi-...</td>\n",
       "      <td>NaN</td>\n",
       "      <td>NaN</td>\n",
       "      <td>NaN</td>\n",
       "      <td>NaN</td>\n",
       "      <td>NaN</td>\n",
       "    </tr>\n",
       "    <tr>\n",
       "      <th>3</th>\n",
       "      <td>NÃO</td>\n",
       "      <td>Relocation from mining sites, an influx of peo...</td>\n",
       "      <td>koidu-diamond-mining-conflict-sierra-leone</td>\n",
       "      <td>NaN</td>\n",
       "      <td>NaN</td>\n",
       "      <td>NaN</td>\n",
       "      <td>NaN</td>\n",
       "      <td>NaN</td>\n",
       "    </tr>\n",
       "    <tr>\n",
       "      <th>4</th>\n",
       "      <td>NÃO</td>\n",
       "      <td>The inhabitants of Catacaos denounce that they...</td>\n",
       "      <td>comunidad-de-catacaos-vs-sodalicio</td>\n",
       "      <td>NaN</td>\n",
       "      <td>NaN</td>\n",
       "      <td>NaN</td>\n",
       "      <td>NaN</td>\n",
       "      <td>NaN</td>\n",
       "    </tr>\n",
       "    <tr>\n",
       "      <th>...</th>\n",
       "      <td>...</td>\n",
       "      <td>...</td>\n",
       "      <td>...</td>\n",
       "      <td>...</td>\n",
       "      <td>...</td>\n",
       "      <td>...</td>\n",
       "      <td>...</td>\n",
       "      <td>...</td>\n",
       "    </tr>\n",
       "    <tr>\n",
       "      <th>3328</th>\n",
       "      <td>NaN</td>\n",
       "      <td>The Minas-Rio Project is a big business owned ...</td>\n",
       "      <td>impacts-of-iron-ore-mining-in-conceicao-do-mat...</td>\n",
       "      <td>NÃO</td>\n",
       "      <td>SIM</td>\n",
       "      <td>NÃO TENHO CERTEZA</td>\n",
       "      <td>NÃO</td>\n",
       "      <td>NÃO</td>\n",
       "    </tr>\n",
       "    <tr>\n",
       "      <th>3329</th>\n",
       "      <td>NaN</td>\n",
       "      <td>Cirali Coast consists of a 90 ha area. On 27.0...</td>\n",
       "      <td>leasing-of-the-cirali-coast-turkey</td>\n",
       "      <td>SIM</td>\n",
       "      <td>NÃO</td>\n",
       "      <td>NÃO TENHO CERTEZA</td>\n",
       "      <td>NÃO</td>\n",
       "      <td>NÃO</td>\n",
       "    </tr>\n",
       "    <tr>\n",
       "      <th>3330</th>\n",
       "      <td>NaN</td>\n",
       "      <td>The construction of 120 MW wind energy and 380...</td>\n",
       "      <td>unlawful-removal-of-olive-trees-and-wind-energ...</td>\n",
       "      <td>SIM</td>\n",
       "      <td>NÃO</td>\n",
       "      <td>NÃO TENHO CERTEZA</td>\n",
       "      <td>NÃO</td>\n",
       "      <td>NÃO</td>\n",
       "    </tr>\n",
       "    <tr>\n",
       "      <th>3331</th>\n",
       "      <td>NaN</td>\n",
       "      <td>The proposed Tanintharyi National Park is part...</td>\n",
       "      <td>tanintharyi-national-park-proposed-threatens-i...</td>\n",
       "      <td>NÃO</td>\n",
       "      <td>SIM</td>\n",
       "      <td>NÃO TENHO CERTEZA</td>\n",
       "      <td>NÃO</td>\n",
       "      <td>NÃO</td>\n",
       "    </tr>\n",
       "    <tr>\n",
       "      <th>3332</th>\n",
       "      <td>NaN</td>\n",
       "      <td>Australia's Lynas Rare Earth Ltd. (formerly kn...</td>\n",
       "      <td>lynas-refinery-in-kuantan</td>\n",
       "      <td>SIM</td>\n",
       "      <td>NÃO</td>\n",
       "      <td>NÃO TENHO CERTEZA</td>\n",
       "      <td>SIM</td>\n",
       "      <td>SIM</td>\n",
       "    </tr>\n",
       "  </tbody>\n",
       "</table>\n",
       "<p>3333 rows × 8 columns</p>\n",
       "</div>"
      ],
      "text/plain": [
       "     label                                               text  \\\n",
       "0      SIM  The 5 No. Habilashdweep Union (lowest administ...   \n",
       "1      NÃO  Cassandra mines operate since 6th BC century a...   \n",
       "2      NÃO  Jambi-2 power plant is a proposed mine-mouth c...   \n",
       "3      NÃO  Relocation from mining sites, an influx of peo...   \n",
       "4      NÃO  The inhabitants of Catacaos denounce that they...   \n",
       "...    ...                                                ...   \n",
       "3328   NaN  The Minas-Rio Project is a big business owned ...   \n",
       "3329   NaN  Cirali Coast consists of a 90 ha area. On 27.0...   \n",
       "3330   NaN  The construction of 120 MW wind energy and 380...   \n",
       "3331   NaN  The proposed Tanintharyi National Park is part...   \n",
       "3332   NaN  Australia's Lynas Rare Earth Ltd. (formerly kn...   \n",
       "\n",
       "                                                   slug annotator_1  \\\n",
       "0     groundwater-lifting-by-industries-leading-to-w...         NaN   \n",
       "1                      gold-mining-in-chalkidiki-greece         NaN   \n",
       "2     proposed-jambi-2-coal-fired-power-plant-jambi-...         NaN   \n",
       "3            koidu-diamond-mining-conflict-sierra-leone         NaN   \n",
       "4                    comunidad-de-catacaos-vs-sodalicio         NaN   \n",
       "...                                                 ...         ...   \n",
       "3328  impacts-of-iron-ore-mining-in-conceicao-do-mat...         NÃO   \n",
       "3329                 leasing-of-the-cirali-coast-turkey         SIM   \n",
       "3330  unlawful-removal-of-olive-trees-and-wind-energ...         SIM   \n",
       "3331  tanintharyi-national-park-proposed-threatens-i...         NÃO   \n",
       "3332                          lynas-refinery-in-kuantan         SIM   \n",
       "\n",
       "     annotator_2        annotator_3 annotator_ai label_majority_vote  \n",
       "0            NaN                NaN          NaN                 NaN  \n",
       "1            NaN                NaN          NaN                 NaN  \n",
       "2            NaN                NaN          NaN                 NaN  \n",
       "3            NaN                NaN          NaN                 NaN  \n",
       "4            NaN                NaN          NaN                 NaN  \n",
       "...          ...                ...          ...                 ...  \n",
       "3328         SIM  NÃO TENHO CERTEZA          NÃO                 NÃO  \n",
       "3329         NÃO  NÃO TENHO CERTEZA          NÃO                 NÃO  \n",
       "3330         NÃO  NÃO TENHO CERTEZA          NÃO                 NÃO  \n",
       "3331         SIM  NÃO TENHO CERTEZA          NÃO                 NÃO  \n",
       "3332         NÃO  NÃO TENHO CERTEZA          SIM                 SIM  \n",
       "\n",
       "[3333 rows x 8 columns]"
      ]
     },
     "execution_count": 23,
     "metadata": {},
     "output_type": "execute_result"
    }
   ],
   "source": [
    "ds1 = pd.read_csv('final/dataset_1-gold_labels.csv')\n",
    "ds2 = pd.read_csv('final/dataset_2.csv')\n",
    "ds3 = pd.read_csv('final/dataset_3.csv')\n",
    "\n",
    "all_ds = pd.concat([ds1, ds2, ds3], ignore_index=True)\n",
    "all_ds"
   ]
  },
  {
   "cell_type": "code",
   "execution_count": 24,
   "id": "d57df4fc",
   "metadata": {},
   "outputs": [
    {
     "name": "stdout",
     "output_type": "stream",
     "text": [
      "Total unique slugs in all datasets: 3267\n"
     ]
    }
   ],
   "source": [
    "all_slugs = set(all_ds['slug'].unique())\n",
    "print(f\"Total unique slugs in all datasets: {len(all_slugs)}\")"
   ]
  },
  {
   "cell_type": "code",
   "execution_count": 25,
   "id": "f0a83683",
   "metadata": {},
   "outputs": [
    {
     "name": "stdout",
     "output_type": "stream",
     "text": [
      "Conflict intensity data for slugs in all datasets: (3266, 4) (from (3838, 4))\n",
      "Number of unique slugs retained: 3266\n",
      "Reaction stage data for slugs in all datasets: (3266, 4) (from (3838, 4))\n",
      "Number of unique slugs retained: 3266\n",
      "Relevant government data for slugs in all datasets: (3266, 2) (from (3838, 2))\n",
      "Number of unique slugs retained: 3266\n",
      "Company names data for slugs in all datasets: (8144, 11) (from (9557, 11))\n",
      "Number of unique slugs retained: 3266\n"
     ]
    }
   ],
   "source": [
    "final_conflict_intensity_new = final_conflict_intensity[final_conflict_intensity['slug'].isin(all_slugs)]\n",
    "print(f\"Conflict intensity data for slugs in all datasets: {final_conflict_intensity_new.shape} (from {final_conflict_intensity.shape})\")\n",
    "print(f\"Number of unique slugs retained: {final_conflict_intensity_new['slug'].nunique()}\")\n",
    "\n",
    "final_reaction_stage_new = final_reaction_stage[final_reaction_stage['slug'].isin(all_slugs)]\n",
    "print(f\"Reaction stage data for slugs in all datasets: {final_reaction_stage_new.shape} (from {final_reaction_stage.shape})\")\n",
    "print(f\"Number of unique slugs retained: {final_reaction_stage_new['slug'].nunique()}\")\n",
    "\n",
    "final_relevant_government_new = final_relevant_government[final_relevant_government['slug'].isin(all_slugs)]\n",
    "print(f\"Relevant government data for slugs in all datasets: {final_relevant_government_new.shape} (from {final_relevant_government.shape})\")\n",
    "print(f\"Number of unique slugs retained: {final_relevant_government_new['slug'].nunique()}\")\n",
    "\n",
    "final_company_names_new = final_company_names[final_company_names['slug'].isin(all_slugs)]\n",
    "print(f\"Company names data for slugs in all datasets: {final_company_names_new.shape} (from {final_company_names.shape})\")\n",
    "print(f\"Number of unique slugs retained: {final_company_names_new['slug'].nunique()}\")\n"
   ]
  },
  {
   "cell_type": "markdown",
   "id": "f680acfc",
   "metadata": {},
   "source": [
    "## Save the Results"
   ]
  },
  {
   "cell_type": "code",
   "execution_count": 26,
   "id": "59db5982",
   "metadata": {},
   "outputs": [],
   "source": [
    "final_conflict_intensity_new.to_csv('raw/conflict_intensity.csv', index=False)\n",
    "final_reaction_stage_new.to_csv('raw/reaction_stage.csv', index=False)\n",
    "final_relevant_government_new.to_csv('raw/relevant_government.csv', index=False)\n",
    "final_company_names_new.to_csv('raw/company_names.csv', index=False)\n",
    "\n"
   ]
  },
  {
   "cell_type": "code",
   "execution_count": 27,
   "id": "24779881",
   "metadata": {},
   "outputs": [],
   "source": [
    "final_conflict_intensity_new.to_excel('raw/conflict_intensity.xlsx', index=False)\n",
    "final_reaction_stage_new.to_excel('raw/reaction_stage.xlsx', index=False)\n",
    "final_relevant_government_new.to_excel('raw/relevant_government.xlsx', index=False)\n",
    "final_company_names_new.to_excel('raw/company_names.xlsx', index=False)\n"
   ]
  },
  {
   "cell_type": "code",
   "execution_count": 28,
   "id": "5f36f0ff",
   "metadata": {},
   "outputs": [],
   "source": [
    "final_conflict_intensity_new.to_json('raw/conflict_intensity.json', orient='records', lines=True)\n",
    "final_reaction_stage_new.to_json('raw/reaction_stage.json', orient='records', lines=True)\n",
    "final_relevant_government_new.to_json('raw/relevant_government.json', orient='records', lines=True)\n",
    "final_company_names_new.to_json('raw/company_names.json', orient='records', lines=True)\n"
   ]
  },
  {
   "cell_type": "code",
   "execution_count": 29,
   "id": "c2847bed",
   "metadata": {},
   "outputs": [],
   "source": [
    "final_conflict_intensity_new = pd.read_csv('raw/conflict_intensity.csv')\n",
    "final_reaction_stage_new = pd.read_csv('raw/reaction_stage.csv')\n",
    "final_relevant_government_new = pd.read_csv('raw/relevant_government.csv')\n",
    "final_company_names_new = pd.read_csv('raw/company_names.csv')\n"
   ]
  },
  {
   "cell_type": "code",
   "execution_count": 30,
   "id": "83826d8a",
   "metadata": {},
   "outputs": [
    {
     "data": {
      "text/plain": [
       "(3266, 3266, 3266, 3266)"
      ]
     },
     "execution_count": 30,
     "metadata": {},
     "output_type": "execute_result"
    }
   ],
   "source": [
    "final_conflict_intensity_new.slug.nunique(), final_reaction_stage_new.slug.nunique(), final_relevant_government_new.slug.nunique(), final_company_names_new.slug.nunique(),"
   ]
  },
  {
   "cell_type": "code",
   "execution_count": null,
   "id": "16853086",
   "metadata": {},
   "outputs": [],
   "source": []
  }
 ],
 "metadata": {
  "kernelspec": {
   "display_name": "ejatlas",
   "language": "python",
   "name": "python3"
  },
  "language_info": {
   "codemirror_mode": {
    "name": "ipython",
    "version": 3
   },
   "file_extension": ".py",
   "mimetype": "text/x-python",
   "name": "python",
   "nbconvert_exporter": "python",
   "pygments_lexer": "ipython3",
   "version": "3.13.7"
  }
 },
 "nbformat": 4,
 "nbformat_minor": 5
}
